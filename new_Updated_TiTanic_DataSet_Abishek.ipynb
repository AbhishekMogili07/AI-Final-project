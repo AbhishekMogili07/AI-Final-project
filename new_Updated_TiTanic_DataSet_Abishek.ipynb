{
  "nbformat": 4,
  "nbformat_minor": 0,
  "metadata": {
    "colab": {
      "provenance": []
    },
    "kernelspec": {
      "name": "python3",
      "display_name": "Python 3"
    },
    "language_info": {
      "name": "python"
    }
  },
  "cells": [
    {
      "cell_type": "markdown",
      "source": [
        "# **About Titanic Dataset**\n",
        "The Titanic dataset is a famous dataset that contains information about passengers aboard the Titanic ship, which sank in 1912 after colliding with an iceberg. The dataset is often used in data science and machine learning education and competitions as a starting point for exploring data analysis and predictive modeling techniques.\n",
        "\n",
        "The Titanic dataset contains information about **1309** passengers, including their age, gender, ticket class, cabin, port of embarkation, and whether they survived or not. The goal of many analyses and models built on the Titanic dataset is to predict whether a given passenger would have survived the disaster.\n",
        "\n",
        "The variables in the Titanic dataset are as follows:\n",
        "**PassengerId: Unique identifier for each passenger\n",
        "Survived: Whether the passenger survived (0 = No, 1 = Yes)\n",
        "Pclass: Ticket class (1 = 1st, 2 = 2nd, 3 = 3rd)\n",
        "Name: Passenger name\n",
        "Sex: Passenger gender\n",
        "Age: Passenger age\n",
        "SibSp: Number of siblings/spouses aboard the Titanic\n",
        "Parch: Number of parents/children aboard the Titanic\n",
        "Ticket: Ticket number\n",
        "Fare: Passenger fare\n",
        "Cabin: Cabin number\n",
        "Embarked: Port of embarkation (C = Cherbourg, Q = Queenstown, S = Southampton)**\n",
        "As mentioned earlier, the main objective of many analyses and models built on the Titanic dataset is to predict whether a given passenger would have survived the disaster, based on their demographic and travel information. This is a **binary classification problem**, where the target variable is **Survived** and the predictors are the other variables in the dataset."
      ],
      "metadata": {
        "id": "jBNWkdbo19-K"
      }
    },
    {
      "cell_type": "code",
      "source": [],
      "metadata": {
        "id": "cz7al-ZKEiHY"
      },
      "execution_count": null,
      "outputs": []
    },
    {
      "cell_type": "code",
      "source": [
        "from google.colab import files\n",
        "\n",
        "uploaded = files.upload()\n",
        "\n",
        "for fn in uploaded.keys():\n",
        "  print('User uploaded file \"{name}\" with length {length} bytes'.format(\n",
        "      name=fn, length=len(uploaded[fn])))"
      ],
      "metadata": {
        "colab": {
          "base_uri": "https://localhost:8080/",
          "height": 90
        },
        "id": "J_siv6VtEpr5",
        "outputId": "6ed3da7d-3b43-4387-aa31-73e5c949bcb3"
      },
      "execution_count": 2,
      "outputs": [
        {
          "output_type": "display_data",
          "data": {
            "text/plain": [
              "<IPython.core.display.HTML object>"
            ],
            "text/html": [
              "\n",
              "     <input type=\"file\" id=\"files-41d6acc2-c17f-4d5d-b68f-ad61adbfefaf\" name=\"files[]\" multiple disabled\n",
              "        style=\"border:none\" />\n",
              "     <output id=\"result-41d6acc2-c17f-4d5d-b68f-ad61adbfefaf\">\n",
              "      Upload widget is only available when the cell has been executed in the\n",
              "      current browser session. Please rerun this cell to enable.\n",
              "      </output>\n",
              "      <script>// Copyright 2017 Google LLC\n",
              "//\n",
              "// Licensed under the Apache License, Version 2.0 (the \"License\");\n",
              "// you may not use this file except in compliance with the License.\n",
              "// You may obtain a copy of the License at\n",
              "//\n",
              "//      http://www.apache.org/licenses/LICENSE-2.0\n",
              "//\n",
              "// Unless required by applicable law or agreed to in writing, software\n",
              "// distributed under the License is distributed on an \"AS IS\" BASIS,\n",
              "// WITHOUT WARRANTIES OR CONDITIONS OF ANY KIND, either express or implied.\n",
              "// See the License for the specific language governing permissions and\n",
              "// limitations under the License.\n",
              "\n",
              "/**\n",
              " * @fileoverview Helpers for google.colab Python module.\n",
              " */\n",
              "(function(scope) {\n",
              "function span(text, styleAttributes = {}) {\n",
              "  const element = document.createElement('span');\n",
              "  element.textContent = text;\n",
              "  for (const key of Object.keys(styleAttributes)) {\n",
              "    element.style[key] = styleAttributes[key];\n",
              "  }\n",
              "  return element;\n",
              "}\n",
              "\n",
              "// Max number of bytes which will be uploaded at a time.\n",
              "const MAX_PAYLOAD_SIZE = 100 * 1024;\n",
              "\n",
              "function _uploadFiles(inputId, outputId) {\n",
              "  const steps = uploadFilesStep(inputId, outputId);\n",
              "  const outputElement = document.getElementById(outputId);\n",
              "  // Cache steps on the outputElement to make it available for the next call\n",
              "  // to uploadFilesContinue from Python.\n",
              "  outputElement.steps = steps;\n",
              "\n",
              "  return _uploadFilesContinue(outputId);\n",
              "}\n",
              "\n",
              "// This is roughly an async generator (not supported in the browser yet),\n",
              "// where there are multiple asynchronous steps and the Python side is going\n",
              "// to poll for completion of each step.\n",
              "// This uses a Promise to block the python side on completion of each step,\n",
              "// then passes the result of the previous step as the input to the next step.\n",
              "function _uploadFilesContinue(outputId) {\n",
              "  const outputElement = document.getElementById(outputId);\n",
              "  const steps = outputElement.steps;\n",
              "\n",
              "  const next = steps.next(outputElement.lastPromiseValue);\n",
              "  return Promise.resolve(next.value.promise).then((value) => {\n",
              "    // Cache the last promise value to make it available to the next\n",
              "    // step of the generator.\n",
              "    outputElement.lastPromiseValue = value;\n",
              "    return next.value.response;\n",
              "  });\n",
              "}\n",
              "\n",
              "/**\n",
              " * Generator function which is called between each async step of the upload\n",
              " * process.\n",
              " * @param {string} inputId Element ID of the input file picker element.\n",
              " * @param {string} outputId Element ID of the output display.\n",
              " * @return {!Iterable<!Object>} Iterable of next steps.\n",
              " */\n",
              "function* uploadFilesStep(inputId, outputId) {\n",
              "  const inputElement = document.getElementById(inputId);\n",
              "  inputElement.disabled = false;\n",
              "\n",
              "  const outputElement = document.getElementById(outputId);\n",
              "  outputElement.innerHTML = '';\n",
              "\n",
              "  const pickedPromise = new Promise((resolve) => {\n",
              "    inputElement.addEventListener('change', (e) => {\n",
              "      resolve(e.target.files);\n",
              "    });\n",
              "  });\n",
              "\n",
              "  const cancel = document.createElement('button');\n",
              "  inputElement.parentElement.appendChild(cancel);\n",
              "  cancel.textContent = 'Cancel upload';\n",
              "  const cancelPromise = new Promise((resolve) => {\n",
              "    cancel.onclick = () => {\n",
              "      resolve(null);\n",
              "    };\n",
              "  });\n",
              "\n",
              "  // Wait for the user to pick the files.\n",
              "  const files = yield {\n",
              "    promise: Promise.race([pickedPromise, cancelPromise]),\n",
              "    response: {\n",
              "      action: 'starting',\n",
              "    }\n",
              "  };\n",
              "\n",
              "  cancel.remove();\n",
              "\n",
              "  // Disable the input element since further picks are not allowed.\n",
              "  inputElement.disabled = true;\n",
              "\n",
              "  if (!files) {\n",
              "    return {\n",
              "      response: {\n",
              "        action: 'complete',\n",
              "      }\n",
              "    };\n",
              "  }\n",
              "\n",
              "  for (const file of files) {\n",
              "    const li = document.createElement('li');\n",
              "    li.append(span(file.name, {fontWeight: 'bold'}));\n",
              "    li.append(span(\n",
              "        `(${file.type || 'n/a'}) - ${file.size} bytes, ` +\n",
              "        `last modified: ${\n",
              "            file.lastModifiedDate ? file.lastModifiedDate.toLocaleDateString() :\n",
              "                                    'n/a'} - `));\n",
              "    const percent = span('0% done');\n",
              "    li.appendChild(percent);\n",
              "\n",
              "    outputElement.appendChild(li);\n",
              "\n",
              "    const fileDataPromise = new Promise((resolve) => {\n",
              "      const reader = new FileReader();\n",
              "      reader.onload = (e) => {\n",
              "        resolve(e.target.result);\n",
              "      };\n",
              "      reader.readAsArrayBuffer(file);\n",
              "    });\n",
              "    // Wait for the data to be ready.\n",
              "    let fileData = yield {\n",
              "      promise: fileDataPromise,\n",
              "      response: {\n",
              "        action: 'continue',\n",
              "      }\n",
              "    };\n",
              "\n",
              "    // Use a chunked sending to avoid message size limits. See b/62115660.\n",
              "    let position = 0;\n",
              "    do {\n",
              "      const length = Math.min(fileData.byteLength - position, MAX_PAYLOAD_SIZE);\n",
              "      const chunk = new Uint8Array(fileData, position, length);\n",
              "      position += length;\n",
              "\n",
              "      const base64 = btoa(String.fromCharCode.apply(null, chunk));\n",
              "      yield {\n",
              "        response: {\n",
              "          action: 'append',\n",
              "          file: file.name,\n",
              "          data: base64,\n",
              "        },\n",
              "      };\n",
              "\n",
              "      let percentDone = fileData.byteLength === 0 ?\n",
              "          100 :\n",
              "          Math.round((position / fileData.byteLength) * 100);\n",
              "      percent.textContent = `${percentDone}% done`;\n",
              "\n",
              "    } while (position < fileData.byteLength);\n",
              "  }\n",
              "\n",
              "  // All done.\n",
              "  yield {\n",
              "    response: {\n",
              "      action: 'complete',\n",
              "    }\n",
              "  };\n",
              "}\n",
              "\n",
              "scope.google = scope.google || {};\n",
              "scope.google.colab = scope.google.colab || {};\n",
              "scope.google.colab._files = {\n",
              "  _uploadFiles,\n",
              "  _uploadFilesContinue,\n",
              "};\n",
              "})(self);\n",
              "</script> "
            ]
          },
          "metadata": {}
        },
        {
          "output_type": "stream",
          "name": "stdout",
          "text": [
            "Saving titanic.csv to titanic.csv\n",
            "User uploaded file \"titanic.csv\" with length 90587 bytes\n"
          ]
        }
      ]
    },
    {
      "cell_type": "markdown",
      "source": [
        "# Importing Libraries"
      ],
      "metadata": {
        "id": "EMsud7XP04w_"
      }
    },
    {
      "cell_type": "code",
      "execution_count": 3,
      "metadata": {
        "id": "BYeAY-lTiI_i"
      },
      "outputs": [],
      "source": [
        "import pandas as pd\n",
        "import pandas as pd\n",
        "import numpy as np\n",
        "import tensorflow as tf\n",
        "from sklearn.model_selection import train_test_split\n",
        "from sklearn.preprocessing import StandardScaler\n",
        "from tensorflow.keras.models import Sequential\n",
        "from tensorflow.keras.layers import Dense\n"
      ]
    },
    {
      "cell_type": "markdown",
      "source": [
        "# Data Loading"
      ],
      "metadata": {
        "id": "yXf8h-6HQ9zG"
      }
    },
    {
      "cell_type": "code",
      "source": [
        "data=pd.read_csv('/content/titanic.csv')\n",
        "data.head(5)"
      ],
      "metadata": {
        "id": "cjyncM7Mmnnt",
        "colab": {
          "base_uri": "https://localhost:8080/",
          "height": 250
        },
        "outputId": "b2572194-c8f0-4141-92a9-aa4e2bbf15dd"
      },
      "execution_count": 4,
      "outputs": [
        {
          "output_type": "execute_result",
          "data": {
            "text/plain": [
              "   PassengerId  Survived  Pclass  \\\n",
              "0            1         0       3   \n",
              "1            2         1       1   \n",
              "2            3         1       3   \n",
              "3            4         1       1   \n",
              "4            5         0       3   \n",
              "\n",
              "                                                Name     Sex   Age  SibSp  \\\n",
              "0                            Braund, Mr. Owen Harris    male  22.0      1   \n",
              "1  Cumings, Mrs. John Bradley (Florence Briggs Th...  female  38.0      1   \n",
              "2                             Heikkinen, Miss. Laina  female  26.0      0   \n",
              "3       Futrelle, Mrs. Jacques Heath (Lily May Peel)  female  35.0      1   \n",
              "4                           Allen, Mr. William Henry    male  35.0      0   \n",
              "\n",
              "   Parch            Ticket     Fare Cabin Embarked  \n",
              "0      0         A/5 21171   7.2500   NaN        S  \n",
              "1      0          PC 17599  71.2833   C85        C  \n",
              "2      0  STON/O2. 3101282   7.9250   NaN        S  \n",
              "3      0            113803  53.1000  C123        S  \n",
              "4      0            373450   8.0500   NaN        S  "
            ],
            "text/html": [
              "\n",
              "  <div id=\"df-14f127fc-83bc-4eb5-b297-5b07c207885d\">\n",
              "    <div class=\"colab-df-container\">\n",
              "      <div>\n",
              "<style scoped>\n",
              "    .dataframe tbody tr th:only-of-type {\n",
              "        vertical-align: middle;\n",
              "    }\n",
              "\n",
              "    .dataframe tbody tr th {\n",
              "        vertical-align: top;\n",
              "    }\n",
              "\n",
              "    .dataframe thead th {\n",
              "        text-align: right;\n",
              "    }\n",
              "</style>\n",
              "<table border=\"1\" class=\"dataframe\">\n",
              "  <thead>\n",
              "    <tr style=\"text-align: right;\">\n",
              "      <th></th>\n",
              "      <th>PassengerId</th>\n",
              "      <th>Survived</th>\n",
              "      <th>Pclass</th>\n",
              "      <th>Name</th>\n",
              "      <th>Sex</th>\n",
              "      <th>Age</th>\n",
              "      <th>SibSp</th>\n",
              "      <th>Parch</th>\n",
              "      <th>Ticket</th>\n",
              "      <th>Fare</th>\n",
              "      <th>Cabin</th>\n",
              "      <th>Embarked</th>\n",
              "    </tr>\n",
              "  </thead>\n",
              "  <tbody>\n",
              "    <tr>\n",
              "      <th>0</th>\n",
              "      <td>1</td>\n",
              "      <td>0</td>\n",
              "      <td>3</td>\n",
              "      <td>Braund, Mr. Owen Harris</td>\n",
              "      <td>male</td>\n",
              "      <td>22.0</td>\n",
              "      <td>1</td>\n",
              "      <td>0</td>\n",
              "      <td>A/5 21171</td>\n",
              "      <td>7.2500</td>\n",
              "      <td>NaN</td>\n",
              "      <td>S</td>\n",
              "    </tr>\n",
              "    <tr>\n",
              "      <th>1</th>\n",
              "      <td>2</td>\n",
              "      <td>1</td>\n",
              "      <td>1</td>\n",
              "      <td>Cumings, Mrs. John Bradley (Florence Briggs Th...</td>\n",
              "      <td>female</td>\n",
              "      <td>38.0</td>\n",
              "      <td>1</td>\n",
              "      <td>0</td>\n",
              "      <td>PC 17599</td>\n",
              "      <td>71.2833</td>\n",
              "      <td>C85</td>\n",
              "      <td>C</td>\n",
              "    </tr>\n",
              "    <tr>\n",
              "      <th>2</th>\n",
              "      <td>3</td>\n",
              "      <td>1</td>\n",
              "      <td>3</td>\n",
              "      <td>Heikkinen, Miss. Laina</td>\n",
              "      <td>female</td>\n",
              "      <td>26.0</td>\n",
              "      <td>0</td>\n",
              "      <td>0</td>\n",
              "      <td>STON/O2. 3101282</td>\n",
              "      <td>7.9250</td>\n",
              "      <td>NaN</td>\n",
              "      <td>S</td>\n",
              "    </tr>\n",
              "    <tr>\n",
              "      <th>3</th>\n",
              "      <td>4</td>\n",
              "      <td>1</td>\n",
              "      <td>1</td>\n",
              "      <td>Futrelle, Mrs. Jacques Heath (Lily May Peel)</td>\n",
              "      <td>female</td>\n",
              "      <td>35.0</td>\n",
              "      <td>1</td>\n",
              "      <td>0</td>\n",
              "      <td>113803</td>\n",
              "      <td>53.1000</td>\n",
              "      <td>C123</td>\n",
              "      <td>S</td>\n",
              "    </tr>\n",
              "    <tr>\n",
              "      <th>4</th>\n",
              "      <td>5</td>\n",
              "      <td>0</td>\n",
              "      <td>3</td>\n",
              "      <td>Allen, Mr. William Henry</td>\n",
              "      <td>male</td>\n",
              "      <td>35.0</td>\n",
              "      <td>0</td>\n",
              "      <td>0</td>\n",
              "      <td>373450</td>\n",
              "      <td>8.0500</td>\n",
              "      <td>NaN</td>\n",
              "      <td>S</td>\n",
              "    </tr>\n",
              "  </tbody>\n",
              "</table>\n",
              "</div>\n",
              "      <button class=\"colab-df-convert\" onclick=\"convertToInteractive('df-14f127fc-83bc-4eb5-b297-5b07c207885d')\"\n",
              "              title=\"Convert this dataframe to an interactive table.\"\n",
              "              style=\"display:none;\">\n",
              "        \n",
              "  <svg xmlns=\"http://www.w3.org/2000/svg\" height=\"24px\"viewBox=\"0 0 24 24\"\n",
              "       width=\"24px\">\n",
              "    <path d=\"M0 0h24v24H0V0z\" fill=\"none\"/>\n",
              "    <path d=\"M18.56 5.44l.94 2.06.94-2.06 2.06-.94-2.06-.94-.94-2.06-.94 2.06-2.06.94zm-11 1L8.5 8.5l.94-2.06 2.06-.94-2.06-.94L8.5 2.5l-.94 2.06-2.06.94zm10 10l.94 2.06.94-2.06 2.06-.94-2.06-.94-.94-2.06-.94 2.06-2.06.94z\"/><path d=\"M17.41 7.96l-1.37-1.37c-.4-.4-.92-.59-1.43-.59-.52 0-1.04.2-1.43.59L10.3 9.45l-7.72 7.72c-.78.78-.78 2.05 0 2.83L4 21.41c.39.39.9.59 1.41.59.51 0 1.02-.2 1.41-.59l7.78-7.78 2.81-2.81c.8-.78.8-2.07 0-2.86zM5.41 20L4 18.59l7.72-7.72 1.47 1.35L5.41 20z\"/>\n",
              "  </svg>\n",
              "      </button>\n",
              "      \n",
              "  <style>\n",
              "    .colab-df-container {\n",
              "      display:flex;\n",
              "      flex-wrap:wrap;\n",
              "      gap: 12px;\n",
              "    }\n",
              "\n",
              "    .colab-df-convert {\n",
              "      background-color: #E8F0FE;\n",
              "      border: none;\n",
              "      border-radius: 50%;\n",
              "      cursor: pointer;\n",
              "      display: none;\n",
              "      fill: #1967D2;\n",
              "      height: 32px;\n",
              "      padding: 0 0 0 0;\n",
              "      width: 32px;\n",
              "    }\n",
              "\n",
              "    .colab-df-convert:hover {\n",
              "      background-color: #E2EBFA;\n",
              "      box-shadow: 0px 1px 2px rgba(60, 64, 67, 0.3), 0px 1px 3px 1px rgba(60, 64, 67, 0.15);\n",
              "      fill: #174EA6;\n",
              "    }\n",
              "\n",
              "    [theme=dark] .colab-df-convert {\n",
              "      background-color: #3B4455;\n",
              "      fill: #D2E3FC;\n",
              "    }\n",
              "\n",
              "    [theme=dark] .colab-df-convert:hover {\n",
              "      background-color: #434B5C;\n",
              "      box-shadow: 0px 1px 3px 1px rgba(0, 0, 0, 0.15);\n",
              "      filter: drop-shadow(0px 1px 2px rgba(0, 0, 0, 0.3));\n",
              "      fill: #FFFFFF;\n",
              "    }\n",
              "  </style>\n",
              "\n",
              "      <script>\n",
              "        const buttonEl =\n",
              "          document.querySelector('#df-14f127fc-83bc-4eb5-b297-5b07c207885d button.colab-df-convert');\n",
              "        buttonEl.style.display =\n",
              "          google.colab.kernel.accessAllowed ? 'block' : 'none';\n",
              "\n",
              "        async function convertToInteractive(key) {\n",
              "          const element = document.querySelector('#df-14f127fc-83bc-4eb5-b297-5b07c207885d');\n",
              "          const dataTable =\n",
              "            await google.colab.kernel.invokeFunction('convertToInteractive',\n",
              "                                                     [key], {});\n",
              "          if (!dataTable) return;\n",
              "\n",
              "          const docLinkHtml = 'Like what you see? Visit the ' +\n",
              "            '<a target=\"_blank\" href=https://colab.research.google.com/notebooks/data_table.ipynb>data table notebook</a>'\n",
              "            + ' to learn more about interactive tables.';\n",
              "          element.innerHTML = '';\n",
              "          dataTable['output_type'] = 'display_data';\n",
              "          await google.colab.output.renderOutput(dataTable, element);\n",
              "          const docLink = document.createElement('div');\n",
              "          docLink.innerHTML = docLinkHtml;\n",
              "          element.appendChild(docLink);\n",
              "        }\n",
              "      </script>\n",
              "    </div>\n",
              "  </div>\n",
              "  "
            ]
          },
          "metadata": {},
          "execution_count": 4
        }
      ]
    },
    {
      "cell_type": "markdown",
      "source": [
        "# Data shuffling"
      ],
      "metadata": {
        "id": "PB19B4Lg1C1r"
      }
    },
    {
      "cell_type": "code",
      "source": [
        "data = data.sample(frac=1, random_state=42)\n"
      ],
      "metadata": {
        "id": "54HNPmHlmxbH"
      },
      "execution_count": 5,
      "outputs": []
    },
    {
      "cell_type": "code",
      "source": [
        "data.tail(5)"
      ],
      "metadata": {
        "colab": {
          "base_uri": "https://localhost:8080/",
          "height": 206
        },
        "id": "wPpk42WenKa7",
        "outputId": "d0fa4ac0-fea9-495c-91e2-8b50f5f6e522"
      },
      "execution_count": 6,
      "outputs": [
        {
          "output_type": "execute_result",
          "data": {
            "text/plain": [
              "      PassengerId  Survived  Pclass  \\\n",
              "1095         1096         0       2   \n",
              "1130         1131         1       1   \n",
              "1294         1295         0       1   \n",
              "860           861         0       3   \n",
              "1126         1127         0       3   \n",
              "\n",
              "                                             Name     Sex   Age  SibSp  Parch  \\\n",
              "1095                     Andrew, Mr. Frank Thomas    male  25.0      0      0   \n",
              "1130  Douglas, Mrs. Walter Donald (Mahala Dutton)  female  48.0      1      0   \n",
              "1294                       Carrau, Mr. Jose Pedro    male  17.0      0      0   \n",
              "860                       Hansen, Mr. Claus Peter    male  41.0      2      0   \n",
              "1126                       Vendel, Mr. Olof Edvin    male  20.0      0      0   \n",
              "\n",
              "          Ticket      Fare Cabin Embarked  \n",
              "1095  C.A. 34050   10.5000   NaN        S  \n",
              "1130    PC 17761  106.4250   C86        C  \n",
              "1294      113059   47.1000   NaN        S  \n",
              "860       350026   14.1083   NaN        S  \n",
              "1126      350416    7.8542   NaN        S  "
            ],
            "text/html": [
              "\n",
              "  <div id=\"df-12af93b4-3d63-45fd-bfbc-60baa3ea72ae\">\n",
              "    <div class=\"colab-df-container\">\n",
              "      <div>\n",
              "<style scoped>\n",
              "    .dataframe tbody tr th:only-of-type {\n",
              "        vertical-align: middle;\n",
              "    }\n",
              "\n",
              "    .dataframe tbody tr th {\n",
              "        vertical-align: top;\n",
              "    }\n",
              "\n",
              "    .dataframe thead th {\n",
              "        text-align: right;\n",
              "    }\n",
              "</style>\n",
              "<table border=\"1\" class=\"dataframe\">\n",
              "  <thead>\n",
              "    <tr style=\"text-align: right;\">\n",
              "      <th></th>\n",
              "      <th>PassengerId</th>\n",
              "      <th>Survived</th>\n",
              "      <th>Pclass</th>\n",
              "      <th>Name</th>\n",
              "      <th>Sex</th>\n",
              "      <th>Age</th>\n",
              "      <th>SibSp</th>\n",
              "      <th>Parch</th>\n",
              "      <th>Ticket</th>\n",
              "      <th>Fare</th>\n",
              "      <th>Cabin</th>\n",
              "      <th>Embarked</th>\n",
              "    </tr>\n",
              "  </thead>\n",
              "  <tbody>\n",
              "    <tr>\n",
              "      <th>1095</th>\n",
              "      <td>1096</td>\n",
              "      <td>0</td>\n",
              "      <td>2</td>\n",
              "      <td>Andrew, Mr. Frank Thomas</td>\n",
              "      <td>male</td>\n",
              "      <td>25.0</td>\n",
              "      <td>0</td>\n",
              "      <td>0</td>\n",
              "      <td>C.A. 34050</td>\n",
              "      <td>10.5000</td>\n",
              "      <td>NaN</td>\n",
              "      <td>S</td>\n",
              "    </tr>\n",
              "    <tr>\n",
              "      <th>1130</th>\n",
              "      <td>1131</td>\n",
              "      <td>1</td>\n",
              "      <td>1</td>\n",
              "      <td>Douglas, Mrs. Walter Donald (Mahala Dutton)</td>\n",
              "      <td>female</td>\n",
              "      <td>48.0</td>\n",
              "      <td>1</td>\n",
              "      <td>0</td>\n",
              "      <td>PC 17761</td>\n",
              "      <td>106.4250</td>\n",
              "      <td>C86</td>\n",
              "      <td>C</td>\n",
              "    </tr>\n",
              "    <tr>\n",
              "      <th>1294</th>\n",
              "      <td>1295</td>\n",
              "      <td>0</td>\n",
              "      <td>1</td>\n",
              "      <td>Carrau, Mr. Jose Pedro</td>\n",
              "      <td>male</td>\n",
              "      <td>17.0</td>\n",
              "      <td>0</td>\n",
              "      <td>0</td>\n",
              "      <td>113059</td>\n",
              "      <td>47.1000</td>\n",
              "      <td>NaN</td>\n",
              "      <td>S</td>\n",
              "    </tr>\n",
              "    <tr>\n",
              "      <th>860</th>\n",
              "      <td>861</td>\n",
              "      <td>0</td>\n",
              "      <td>3</td>\n",
              "      <td>Hansen, Mr. Claus Peter</td>\n",
              "      <td>male</td>\n",
              "      <td>41.0</td>\n",
              "      <td>2</td>\n",
              "      <td>0</td>\n",
              "      <td>350026</td>\n",
              "      <td>14.1083</td>\n",
              "      <td>NaN</td>\n",
              "      <td>S</td>\n",
              "    </tr>\n",
              "    <tr>\n",
              "      <th>1126</th>\n",
              "      <td>1127</td>\n",
              "      <td>0</td>\n",
              "      <td>3</td>\n",
              "      <td>Vendel, Mr. Olof Edvin</td>\n",
              "      <td>male</td>\n",
              "      <td>20.0</td>\n",
              "      <td>0</td>\n",
              "      <td>0</td>\n",
              "      <td>350416</td>\n",
              "      <td>7.8542</td>\n",
              "      <td>NaN</td>\n",
              "      <td>S</td>\n",
              "    </tr>\n",
              "  </tbody>\n",
              "</table>\n",
              "</div>\n",
              "      <button class=\"colab-df-convert\" onclick=\"convertToInteractive('df-12af93b4-3d63-45fd-bfbc-60baa3ea72ae')\"\n",
              "              title=\"Convert this dataframe to an interactive table.\"\n",
              "              style=\"display:none;\">\n",
              "        \n",
              "  <svg xmlns=\"http://www.w3.org/2000/svg\" height=\"24px\"viewBox=\"0 0 24 24\"\n",
              "       width=\"24px\">\n",
              "    <path d=\"M0 0h24v24H0V0z\" fill=\"none\"/>\n",
              "    <path d=\"M18.56 5.44l.94 2.06.94-2.06 2.06-.94-2.06-.94-.94-2.06-.94 2.06-2.06.94zm-11 1L8.5 8.5l.94-2.06 2.06-.94-2.06-.94L8.5 2.5l-.94 2.06-2.06.94zm10 10l.94 2.06.94-2.06 2.06-.94-2.06-.94-.94-2.06-.94 2.06-2.06.94z\"/><path d=\"M17.41 7.96l-1.37-1.37c-.4-.4-.92-.59-1.43-.59-.52 0-1.04.2-1.43.59L10.3 9.45l-7.72 7.72c-.78.78-.78 2.05 0 2.83L4 21.41c.39.39.9.59 1.41.59.51 0 1.02-.2 1.41-.59l7.78-7.78 2.81-2.81c.8-.78.8-2.07 0-2.86zM5.41 20L4 18.59l7.72-7.72 1.47 1.35L5.41 20z\"/>\n",
              "  </svg>\n",
              "      </button>\n",
              "      \n",
              "  <style>\n",
              "    .colab-df-container {\n",
              "      display:flex;\n",
              "      flex-wrap:wrap;\n",
              "      gap: 12px;\n",
              "    }\n",
              "\n",
              "    .colab-df-convert {\n",
              "      background-color: #E8F0FE;\n",
              "      border: none;\n",
              "      border-radius: 50%;\n",
              "      cursor: pointer;\n",
              "      display: none;\n",
              "      fill: #1967D2;\n",
              "      height: 32px;\n",
              "      padding: 0 0 0 0;\n",
              "      width: 32px;\n",
              "    }\n",
              "\n",
              "    .colab-df-convert:hover {\n",
              "      background-color: #E2EBFA;\n",
              "      box-shadow: 0px 1px 2px rgba(60, 64, 67, 0.3), 0px 1px 3px 1px rgba(60, 64, 67, 0.15);\n",
              "      fill: #174EA6;\n",
              "    }\n",
              "\n",
              "    [theme=dark] .colab-df-convert {\n",
              "      background-color: #3B4455;\n",
              "      fill: #D2E3FC;\n",
              "    }\n",
              "\n",
              "    [theme=dark] .colab-df-convert:hover {\n",
              "      background-color: #434B5C;\n",
              "      box-shadow: 0px 1px 3px 1px rgba(0, 0, 0, 0.15);\n",
              "      filter: drop-shadow(0px 1px 2px rgba(0, 0, 0, 0.3));\n",
              "      fill: #FFFFFF;\n",
              "    }\n",
              "  </style>\n",
              "\n",
              "      <script>\n",
              "        const buttonEl =\n",
              "          document.querySelector('#df-12af93b4-3d63-45fd-bfbc-60baa3ea72ae button.colab-df-convert');\n",
              "        buttonEl.style.display =\n",
              "          google.colab.kernel.accessAllowed ? 'block' : 'none';\n",
              "\n",
              "        async function convertToInteractive(key) {\n",
              "          const element = document.querySelector('#df-12af93b4-3d63-45fd-bfbc-60baa3ea72ae');\n",
              "          const dataTable =\n",
              "            await google.colab.kernel.invokeFunction('convertToInteractive',\n",
              "                                                     [key], {});\n",
              "          if (!dataTable) return;\n",
              "\n",
              "          const docLinkHtml = 'Like what you see? Visit the ' +\n",
              "            '<a target=\"_blank\" href=https://colab.research.google.com/notebooks/data_table.ipynb>data table notebook</a>'\n",
              "            + ' to learn more about interactive tables.';\n",
              "          element.innerHTML = '';\n",
              "          dataTable['output_type'] = 'display_data';\n",
              "          await google.colab.output.renderOutput(dataTable, element);\n",
              "          const docLink = document.createElement('div');\n",
              "          docLink.innerHTML = docLinkHtml;\n",
              "          element.appendChild(docLink);\n",
              "        }\n",
              "      </script>\n",
              "    </div>\n",
              "  </div>\n",
              "  "
            ]
          },
          "metadata": {},
          "execution_count": 6
        }
      ]
    },
    {
      "cell_type": "markdown",
      "source": [
        "# Data Dimention:- No. of Rows and Columns"
      ],
      "metadata": {
        "id": "ZyK0O1he1IrL"
      }
    },
    {
      "cell_type": "code",
      "source": [
        "data.shape"
      ],
      "metadata": {
        "colab": {
          "base_uri": "https://localhost:8080/"
        },
        "id": "rHSVt7w-m_up",
        "outputId": "97bae183-231c-4aec-851e-d38ab92ee55b"
      },
      "execution_count": 7,
      "outputs": [
        {
          "output_type": "execute_result",
          "data": {
            "text/plain": [
              "(1309, 12)"
            ]
          },
          "metadata": {},
          "execution_count": 7
        }
      ]
    },
    {
      "cell_type": "markdown",
      "source": [],
      "metadata": {
        "id": "VSaXmOWA1VSh"
      }
    },
    {
      "cell_type": "markdown",
      "source": [],
      "metadata": {
        "id": "IbRGnztw17n4"
      }
    },
    {
      "cell_type": "code",
      "source": [
        "print(\"Number of Rows\",data.shape[0])\n",
        "print(\"Number of Columns\",data.shape[1])"
      ],
      "metadata": {
        "colab": {
          "base_uri": "https://localhost:8080/"
        },
        "id": "_hOu-QxbnEi0",
        "outputId": "5b77f72a-e222-4b3f-87c5-4668dce47434"
      },
      "execution_count": 8,
      "outputs": [
        {
          "output_type": "stream",
          "name": "stdout",
          "text": [
            "Number of Rows 1309\n",
            "Number of Columns 12\n"
          ]
        }
      ]
    },
    {
      "cell_type": "code",
      "source": [
        "data.info()\n"
      ],
      "metadata": {
        "colab": {
          "base_uri": "https://localhost:8080/"
        },
        "id": "rvhqwQhWnSDG",
        "outputId": "ae789383-3131-44ca-f7dd-724c3157581e"
      },
      "execution_count": 9,
      "outputs": [
        {
          "output_type": "stream",
          "name": "stdout",
          "text": [
            "<class 'pandas.core.frame.DataFrame'>\n",
            "Int64Index: 1309 entries, 1148 to 1126\n",
            "Data columns (total 12 columns):\n",
            " #   Column       Non-Null Count  Dtype  \n",
            "---  ------       --------------  -----  \n",
            " 0   PassengerId  1309 non-null   int64  \n",
            " 1   Survived     1309 non-null   int64  \n",
            " 2   Pclass       1309 non-null   int64  \n",
            " 3   Name         1309 non-null   object \n",
            " 4   Sex          1309 non-null   object \n",
            " 5   Age          1046 non-null   float64\n",
            " 6   SibSp        1309 non-null   int64  \n",
            " 7   Parch        1309 non-null   int64  \n",
            " 8   Ticket       1309 non-null   object \n",
            " 9   Fare         1308 non-null   float64\n",
            " 10  Cabin        295 non-null    object \n",
            " 11  Embarked     1307 non-null   object \n",
            "dtypes: float64(2), int64(5), object(5)\n",
            "memory usage: 132.9+ KB\n"
          ]
        }
      ]
    },
    {
      "cell_type": "markdown",
      "source": [
        "# Get Overall Statistics About The Dataframe"
      ],
      "metadata": {
        "id": "9TYxyHmAwL3D"
      }
    },
    {
      "cell_type": "code",
      "source": [
        "data.describe(include='all')\n"
      ],
      "metadata": {
        "colab": {
          "base_uri": "https://localhost:8080/",
          "height": 438
        },
        "id": "t8btQVE8nVko",
        "outputId": "c8de2078-5c9f-4a15-dc64-ef2a3d1b896e"
      },
      "execution_count": 10,
      "outputs": [
        {
          "output_type": "execute_result",
          "data": {
            "text/plain": [
              "        PassengerId     Survived       Pclass              Name   Sex  \\\n",
              "count   1309.000000  1309.000000  1309.000000              1309  1309   \n",
              "unique          NaN          NaN          NaN              1307     2   \n",
              "top             NaN          NaN          NaN  Kelly, Mr. James  male   \n",
              "freq            NaN          NaN          NaN                 2   843   \n",
              "mean     655.000000     0.377387     2.294882               NaN   NaN   \n",
              "std      378.020061     0.484918     0.837836               NaN   NaN   \n",
              "min        1.000000     0.000000     1.000000               NaN   NaN   \n",
              "25%      328.000000     0.000000     2.000000               NaN   NaN   \n",
              "50%      655.000000     0.000000     3.000000               NaN   NaN   \n",
              "75%      982.000000     1.000000     3.000000               NaN   NaN   \n",
              "max     1309.000000     1.000000     3.000000               NaN   NaN   \n",
              "\n",
              "                Age        SibSp        Parch    Ticket         Fare  \\\n",
              "count   1046.000000  1309.000000  1309.000000      1309  1308.000000   \n",
              "unique          NaN          NaN          NaN       929          NaN   \n",
              "top             NaN          NaN          NaN  CA. 2343          NaN   \n",
              "freq            NaN          NaN          NaN        11          NaN   \n",
              "mean      29.881138     0.498854     0.385027       NaN    33.295479   \n",
              "std       14.413493     1.041658     0.865560       NaN    51.758668   \n",
              "min        0.170000     0.000000     0.000000       NaN     0.000000   \n",
              "25%       21.000000     0.000000     0.000000       NaN     7.895800   \n",
              "50%       28.000000     0.000000     0.000000       NaN    14.454200   \n",
              "75%       39.000000     1.000000     0.000000       NaN    31.275000   \n",
              "max       80.000000     8.000000     9.000000       NaN   512.329200   \n",
              "\n",
              "              Cabin Embarked  \n",
              "count           295     1307  \n",
              "unique          186        3  \n",
              "top     C23 C25 C27        S  \n",
              "freq              6      914  \n",
              "mean            NaN      NaN  \n",
              "std             NaN      NaN  \n",
              "min             NaN      NaN  \n",
              "25%             NaN      NaN  \n",
              "50%             NaN      NaN  \n",
              "75%             NaN      NaN  \n",
              "max             NaN      NaN  "
            ],
            "text/html": [
              "\n",
              "  <div id=\"df-ae08b785-ef66-41a4-9540-d5a758a862e2\">\n",
              "    <div class=\"colab-df-container\">\n",
              "      <div>\n",
              "<style scoped>\n",
              "    .dataframe tbody tr th:only-of-type {\n",
              "        vertical-align: middle;\n",
              "    }\n",
              "\n",
              "    .dataframe tbody tr th {\n",
              "        vertical-align: top;\n",
              "    }\n",
              "\n",
              "    .dataframe thead th {\n",
              "        text-align: right;\n",
              "    }\n",
              "</style>\n",
              "<table border=\"1\" class=\"dataframe\">\n",
              "  <thead>\n",
              "    <tr style=\"text-align: right;\">\n",
              "      <th></th>\n",
              "      <th>PassengerId</th>\n",
              "      <th>Survived</th>\n",
              "      <th>Pclass</th>\n",
              "      <th>Name</th>\n",
              "      <th>Sex</th>\n",
              "      <th>Age</th>\n",
              "      <th>SibSp</th>\n",
              "      <th>Parch</th>\n",
              "      <th>Ticket</th>\n",
              "      <th>Fare</th>\n",
              "      <th>Cabin</th>\n",
              "      <th>Embarked</th>\n",
              "    </tr>\n",
              "  </thead>\n",
              "  <tbody>\n",
              "    <tr>\n",
              "      <th>count</th>\n",
              "      <td>1309.000000</td>\n",
              "      <td>1309.000000</td>\n",
              "      <td>1309.000000</td>\n",
              "      <td>1309</td>\n",
              "      <td>1309</td>\n",
              "      <td>1046.000000</td>\n",
              "      <td>1309.000000</td>\n",
              "      <td>1309.000000</td>\n",
              "      <td>1309</td>\n",
              "      <td>1308.000000</td>\n",
              "      <td>295</td>\n",
              "      <td>1307</td>\n",
              "    </tr>\n",
              "    <tr>\n",
              "      <th>unique</th>\n",
              "      <td>NaN</td>\n",
              "      <td>NaN</td>\n",
              "      <td>NaN</td>\n",
              "      <td>1307</td>\n",
              "      <td>2</td>\n",
              "      <td>NaN</td>\n",
              "      <td>NaN</td>\n",
              "      <td>NaN</td>\n",
              "      <td>929</td>\n",
              "      <td>NaN</td>\n",
              "      <td>186</td>\n",
              "      <td>3</td>\n",
              "    </tr>\n",
              "    <tr>\n",
              "      <th>top</th>\n",
              "      <td>NaN</td>\n",
              "      <td>NaN</td>\n",
              "      <td>NaN</td>\n",
              "      <td>Kelly, Mr. James</td>\n",
              "      <td>male</td>\n",
              "      <td>NaN</td>\n",
              "      <td>NaN</td>\n",
              "      <td>NaN</td>\n",
              "      <td>CA. 2343</td>\n",
              "      <td>NaN</td>\n",
              "      <td>C23 C25 C27</td>\n",
              "      <td>S</td>\n",
              "    </tr>\n",
              "    <tr>\n",
              "      <th>freq</th>\n",
              "      <td>NaN</td>\n",
              "      <td>NaN</td>\n",
              "      <td>NaN</td>\n",
              "      <td>2</td>\n",
              "      <td>843</td>\n",
              "      <td>NaN</td>\n",
              "      <td>NaN</td>\n",
              "      <td>NaN</td>\n",
              "      <td>11</td>\n",
              "      <td>NaN</td>\n",
              "      <td>6</td>\n",
              "      <td>914</td>\n",
              "    </tr>\n",
              "    <tr>\n",
              "      <th>mean</th>\n",
              "      <td>655.000000</td>\n",
              "      <td>0.377387</td>\n",
              "      <td>2.294882</td>\n",
              "      <td>NaN</td>\n",
              "      <td>NaN</td>\n",
              "      <td>29.881138</td>\n",
              "      <td>0.498854</td>\n",
              "      <td>0.385027</td>\n",
              "      <td>NaN</td>\n",
              "      <td>33.295479</td>\n",
              "      <td>NaN</td>\n",
              "      <td>NaN</td>\n",
              "    </tr>\n",
              "    <tr>\n",
              "      <th>std</th>\n",
              "      <td>378.020061</td>\n",
              "      <td>0.484918</td>\n",
              "      <td>0.837836</td>\n",
              "      <td>NaN</td>\n",
              "      <td>NaN</td>\n",
              "      <td>14.413493</td>\n",
              "      <td>1.041658</td>\n",
              "      <td>0.865560</td>\n",
              "      <td>NaN</td>\n",
              "      <td>51.758668</td>\n",
              "      <td>NaN</td>\n",
              "      <td>NaN</td>\n",
              "    </tr>\n",
              "    <tr>\n",
              "      <th>min</th>\n",
              "      <td>1.000000</td>\n",
              "      <td>0.000000</td>\n",
              "      <td>1.000000</td>\n",
              "      <td>NaN</td>\n",
              "      <td>NaN</td>\n",
              "      <td>0.170000</td>\n",
              "      <td>0.000000</td>\n",
              "      <td>0.000000</td>\n",
              "      <td>NaN</td>\n",
              "      <td>0.000000</td>\n",
              "      <td>NaN</td>\n",
              "      <td>NaN</td>\n",
              "    </tr>\n",
              "    <tr>\n",
              "      <th>25%</th>\n",
              "      <td>328.000000</td>\n",
              "      <td>0.000000</td>\n",
              "      <td>2.000000</td>\n",
              "      <td>NaN</td>\n",
              "      <td>NaN</td>\n",
              "      <td>21.000000</td>\n",
              "      <td>0.000000</td>\n",
              "      <td>0.000000</td>\n",
              "      <td>NaN</td>\n",
              "      <td>7.895800</td>\n",
              "      <td>NaN</td>\n",
              "      <td>NaN</td>\n",
              "    </tr>\n",
              "    <tr>\n",
              "      <th>50%</th>\n",
              "      <td>655.000000</td>\n",
              "      <td>0.000000</td>\n",
              "      <td>3.000000</td>\n",
              "      <td>NaN</td>\n",
              "      <td>NaN</td>\n",
              "      <td>28.000000</td>\n",
              "      <td>0.000000</td>\n",
              "      <td>0.000000</td>\n",
              "      <td>NaN</td>\n",
              "      <td>14.454200</td>\n",
              "      <td>NaN</td>\n",
              "      <td>NaN</td>\n",
              "    </tr>\n",
              "    <tr>\n",
              "      <th>75%</th>\n",
              "      <td>982.000000</td>\n",
              "      <td>1.000000</td>\n",
              "      <td>3.000000</td>\n",
              "      <td>NaN</td>\n",
              "      <td>NaN</td>\n",
              "      <td>39.000000</td>\n",
              "      <td>1.000000</td>\n",
              "      <td>0.000000</td>\n",
              "      <td>NaN</td>\n",
              "      <td>31.275000</td>\n",
              "      <td>NaN</td>\n",
              "      <td>NaN</td>\n",
              "    </tr>\n",
              "    <tr>\n",
              "      <th>max</th>\n",
              "      <td>1309.000000</td>\n",
              "      <td>1.000000</td>\n",
              "      <td>3.000000</td>\n",
              "      <td>NaN</td>\n",
              "      <td>NaN</td>\n",
              "      <td>80.000000</td>\n",
              "      <td>8.000000</td>\n",
              "      <td>9.000000</td>\n",
              "      <td>NaN</td>\n",
              "      <td>512.329200</td>\n",
              "      <td>NaN</td>\n",
              "      <td>NaN</td>\n",
              "    </tr>\n",
              "  </tbody>\n",
              "</table>\n",
              "</div>\n",
              "      <button class=\"colab-df-convert\" onclick=\"convertToInteractive('df-ae08b785-ef66-41a4-9540-d5a758a862e2')\"\n",
              "              title=\"Convert this dataframe to an interactive table.\"\n",
              "              style=\"display:none;\">\n",
              "        \n",
              "  <svg xmlns=\"http://www.w3.org/2000/svg\" height=\"24px\"viewBox=\"0 0 24 24\"\n",
              "       width=\"24px\">\n",
              "    <path d=\"M0 0h24v24H0V0z\" fill=\"none\"/>\n",
              "    <path d=\"M18.56 5.44l.94 2.06.94-2.06 2.06-.94-2.06-.94-.94-2.06-.94 2.06-2.06.94zm-11 1L8.5 8.5l.94-2.06 2.06-.94-2.06-.94L8.5 2.5l-.94 2.06-2.06.94zm10 10l.94 2.06.94-2.06 2.06-.94-2.06-.94-.94-2.06-.94 2.06-2.06.94z\"/><path d=\"M17.41 7.96l-1.37-1.37c-.4-.4-.92-.59-1.43-.59-.52 0-1.04.2-1.43.59L10.3 9.45l-7.72 7.72c-.78.78-.78 2.05 0 2.83L4 21.41c.39.39.9.59 1.41.59.51 0 1.02-.2 1.41-.59l7.78-7.78 2.81-2.81c.8-.78.8-2.07 0-2.86zM5.41 20L4 18.59l7.72-7.72 1.47 1.35L5.41 20z\"/>\n",
              "  </svg>\n",
              "      </button>\n",
              "      \n",
              "  <style>\n",
              "    .colab-df-container {\n",
              "      display:flex;\n",
              "      flex-wrap:wrap;\n",
              "      gap: 12px;\n",
              "    }\n",
              "\n",
              "    .colab-df-convert {\n",
              "      background-color: #E8F0FE;\n",
              "      border: none;\n",
              "      border-radius: 50%;\n",
              "      cursor: pointer;\n",
              "      display: none;\n",
              "      fill: #1967D2;\n",
              "      height: 32px;\n",
              "      padding: 0 0 0 0;\n",
              "      width: 32px;\n",
              "    }\n",
              "\n",
              "    .colab-df-convert:hover {\n",
              "      background-color: #E2EBFA;\n",
              "      box-shadow: 0px 1px 2px rgba(60, 64, 67, 0.3), 0px 1px 3px 1px rgba(60, 64, 67, 0.15);\n",
              "      fill: #174EA6;\n",
              "    }\n",
              "\n",
              "    [theme=dark] .colab-df-convert {\n",
              "      background-color: #3B4455;\n",
              "      fill: #D2E3FC;\n",
              "    }\n",
              "\n",
              "    [theme=dark] .colab-df-convert:hover {\n",
              "      background-color: #434B5C;\n",
              "      box-shadow: 0px 1px 3px 1px rgba(0, 0, 0, 0.15);\n",
              "      filter: drop-shadow(0px 1px 2px rgba(0, 0, 0, 0.3));\n",
              "      fill: #FFFFFF;\n",
              "    }\n",
              "  </style>\n",
              "\n",
              "      <script>\n",
              "        const buttonEl =\n",
              "          document.querySelector('#df-ae08b785-ef66-41a4-9540-d5a758a862e2 button.colab-df-convert');\n",
              "        buttonEl.style.display =\n",
              "          google.colab.kernel.accessAllowed ? 'block' : 'none';\n",
              "\n",
              "        async function convertToInteractive(key) {\n",
              "          const element = document.querySelector('#df-ae08b785-ef66-41a4-9540-d5a758a862e2');\n",
              "          const dataTable =\n",
              "            await google.colab.kernel.invokeFunction('convertToInteractive',\n",
              "                                                     [key], {});\n",
              "          if (!dataTable) return;\n",
              "\n",
              "          const docLinkHtml = 'Like what you see? Visit the ' +\n",
              "            '<a target=\"_blank\" href=https://colab.research.google.com/notebooks/data_table.ipynb>data table notebook</a>'\n",
              "            + ' to learn more about interactive tables.';\n",
              "          element.innerHTML = '';\n",
              "          dataTable['output_type'] = 'display_data';\n",
              "          await google.colab.output.renderOutput(dataTable, element);\n",
              "          const docLink = document.createElement('div');\n",
              "          docLink.innerHTML = docLinkHtml;\n",
              "          element.appendChild(docLink);\n",
              "        }\n",
              "      </script>\n",
              "    </div>\n",
              "  </div>\n",
              "  "
            ]
          },
          "metadata": {},
          "execution_count": 10
        }
      ]
    },
    {
      "cell_type": "markdown",
      "source": [
        "# Data Preprocessing & Data Cleaning"
      ],
      "metadata": {
        "id": "Oh2aKYk0wOzy"
      }
    },
    {
      "cell_type": "markdown",
      "source": [
        "## Data Filtering"
      ],
      "metadata": {
        "id": "pjVaBsT8wEOe"
      }
    },
    {
      "cell_type": "code",
      "source": [
        "data.columns\n"
      ],
      "metadata": {
        "colab": {
          "base_uri": "https://localhost:8080/"
        },
        "id": "4IXzdWD-nZ8P",
        "outputId": "63b8f944-87ea-4ea6-abed-b62b08193364"
      },
      "execution_count": 11,
      "outputs": [
        {
          "output_type": "execute_result",
          "data": {
            "text/plain": [
              "Index(['PassengerId', 'Survived', 'Pclass', 'Name', 'Sex', 'Age', 'SibSp',\n",
              "       'Parch', 'Ticket', 'Fare', 'Cabin', 'Embarked'],\n",
              "      dtype='object')"
            ]
          },
          "metadata": {},
          "execution_count": 11
        }
      ]
    },
    {
      "cell_type": "code",
      "source": [
        "data[['Name','Age']]\n"
      ],
      "metadata": {
        "colab": {
          "base_uri": "https://localhost:8080/",
          "height": 423
        },
        "id": "0YXUST3-neBE",
        "outputId": "24c6db4b-ddd7-43f0-c612-34bc072501bd"
      },
      "execution_count": 12,
      "outputs": [
        {
          "output_type": "execute_result",
          "data": {
            "text/plain": [
              "                                             Name   Age\n",
              "1148                        Niklasson, Mr. Samuel  28.0\n",
              "1049                     Borebank, Mr. John James  42.0\n",
              "982                            Pedersen, Mr. Olaf   NaN\n",
              "808                             Meyer, Mr. August  39.0\n",
              "1195            McCarthy, Miss. Catherine Katie\"\"   NaN\n",
              "...                                           ...   ...\n",
              "1095                     Andrew, Mr. Frank Thomas  25.0\n",
              "1130  Douglas, Mrs. Walter Donald (Mahala Dutton)  48.0\n",
              "1294                       Carrau, Mr. Jose Pedro  17.0\n",
              "860                       Hansen, Mr. Claus Peter  41.0\n",
              "1126                       Vendel, Mr. Olof Edvin  20.0\n",
              "\n",
              "[1309 rows x 2 columns]"
            ],
            "text/html": [
              "\n",
              "  <div id=\"df-1b13eb7f-4fbf-4e3d-9b12-d925acb6d42a\">\n",
              "    <div class=\"colab-df-container\">\n",
              "      <div>\n",
              "<style scoped>\n",
              "    .dataframe tbody tr th:only-of-type {\n",
              "        vertical-align: middle;\n",
              "    }\n",
              "\n",
              "    .dataframe tbody tr th {\n",
              "        vertical-align: top;\n",
              "    }\n",
              "\n",
              "    .dataframe thead th {\n",
              "        text-align: right;\n",
              "    }\n",
              "</style>\n",
              "<table border=\"1\" class=\"dataframe\">\n",
              "  <thead>\n",
              "    <tr style=\"text-align: right;\">\n",
              "      <th></th>\n",
              "      <th>Name</th>\n",
              "      <th>Age</th>\n",
              "    </tr>\n",
              "  </thead>\n",
              "  <tbody>\n",
              "    <tr>\n",
              "      <th>1148</th>\n",
              "      <td>Niklasson, Mr. Samuel</td>\n",
              "      <td>28.0</td>\n",
              "    </tr>\n",
              "    <tr>\n",
              "      <th>1049</th>\n",
              "      <td>Borebank, Mr. John James</td>\n",
              "      <td>42.0</td>\n",
              "    </tr>\n",
              "    <tr>\n",
              "      <th>982</th>\n",
              "      <td>Pedersen, Mr. Olaf</td>\n",
              "      <td>NaN</td>\n",
              "    </tr>\n",
              "    <tr>\n",
              "      <th>808</th>\n",
              "      <td>Meyer, Mr. August</td>\n",
              "      <td>39.0</td>\n",
              "    </tr>\n",
              "    <tr>\n",
              "      <th>1195</th>\n",
              "      <td>McCarthy, Miss. Catherine Katie\"\"</td>\n",
              "      <td>NaN</td>\n",
              "    </tr>\n",
              "    <tr>\n",
              "      <th>...</th>\n",
              "      <td>...</td>\n",
              "      <td>...</td>\n",
              "    </tr>\n",
              "    <tr>\n",
              "      <th>1095</th>\n",
              "      <td>Andrew, Mr. Frank Thomas</td>\n",
              "      <td>25.0</td>\n",
              "    </tr>\n",
              "    <tr>\n",
              "      <th>1130</th>\n",
              "      <td>Douglas, Mrs. Walter Donald (Mahala Dutton)</td>\n",
              "      <td>48.0</td>\n",
              "    </tr>\n",
              "    <tr>\n",
              "      <th>1294</th>\n",
              "      <td>Carrau, Mr. Jose Pedro</td>\n",
              "      <td>17.0</td>\n",
              "    </tr>\n",
              "    <tr>\n",
              "      <th>860</th>\n",
              "      <td>Hansen, Mr. Claus Peter</td>\n",
              "      <td>41.0</td>\n",
              "    </tr>\n",
              "    <tr>\n",
              "      <th>1126</th>\n",
              "      <td>Vendel, Mr. Olof Edvin</td>\n",
              "      <td>20.0</td>\n",
              "    </tr>\n",
              "  </tbody>\n",
              "</table>\n",
              "<p>1309 rows × 2 columns</p>\n",
              "</div>\n",
              "      <button class=\"colab-df-convert\" onclick=\"convertToInteractive('df-1b13eb7f-4fbf-4e3d-9b12-d925acb6d42a')\"\n",
              "              title=\"Convert this dataframe to an interactive table.\"\n",
              "              style=\"display:none;\">\n",
              "        \n",
              "  <svg xmlns=\"http://www.w3.org/2000/svg\" height=\"24px\"viewBox=\"0 0 24 24\"\n",
              "       width=\"24px\">\n",
              "    <path d=\"M0 0h24v24H0V0z\" fill=\"none\"/>\n",
              "    <path d=\"M18.56 5.44l.94 2.06.94-2.06 2.06-.94-2.06-.94-.94-2.06-.94 2.06-2.06.94zm-11 1L8.5 8.5l.94-2.06 2.06-.94-2.06-.94L8.5 2.5l-.94 2.06-2.06.94zm10 10l.94 2.06.94-2.06 2.06-.94-2.06-.94-.94-2.06-.94 2.06-2.06.94z\"/><path d=\"M17.41 7.96l-1.37-1.37c-.4-.4-.92-.59-1.43-.59-.52 0-1.04.2-1.43.59L10.3 9.45l-7.72 7.72c-.78.78-.78 2.05 0 2.83L4 21.41c.39.39.9.59 1.41.59.51 0 1.02-.2 1.41-.59l7.78-7.78 2.81-2.81c.8-.78.8-2.07 0-2.86zM5.41 20L4 18.59l7.72-7.72 1.47 1.35L5.41 20z\"/>\n",
              "  </svg>\n",
              "      </button>\n",
              "      \n",
              "  <style>\n",
              "    .colab-df-container {\n",
              "      display:flex;\n",
              "      flex-wrap:wrap;\n",
              "      gap: 12px;\n",
              "    }\n",
              "\n",
              "    .colab-df-convert {\n",
              "      background-color: #E8F0FE;\n",
              "      border: none;\n",
              "      border-radius: 50%;\n",
              "      cursor: pointer;\n",
              "      display: none;\n",
              "      fill: #1967D2;\n",
              "      height: 32px;\n",
              "      padding: 0 0 0 0;\n",
              "      width: 32px;\n",
              "    }\n",
              "\n",
              "    .colab-df-convert:hover {\n",
              "      background-color: #E2EBFA;\n",
              "      box-shadow: 0px 1px 2px rgba(60, 64, 67, 0.3), 0px 1px 3px 1px rgba(60, 64, 67, 0.15);\n",
              "      fill: #174EA6;\n",
              "    }\n",
              "\n",
              "    [theme=dark] .colab-df-convert {\n",
              "      background-color: #3B4455;\n",
              "      fill: #D2E3FC;\n",
              "    }\n",
              "\n",
              "    [theme=dark] .colab-df-convert:hover {\n",
              "      background-color: #434B5C;\n",
              "      box-shadow: 0px 1px 3px 1px rgba(0, 0, 0, 0.15);\n",
              "      filter: drop-shadow(0px 1px 2px rgba(0, 0, 0, 0.3));\n",
              "      fill: #FFFFFF;\n",
              "    }\n",
              "  </style>\n",
              "\n",
              "      <script>\n",
              "        const buttonEl =\n",
              "          document.querySelector('#df-1b13eb7f-4fbf-4e3d-9b12-d925acb6d42a button.colab-df-convert');\n",
              "        buttonEl.style.display =\n",
              "          google.colab.kernel.accessAllowed ? 'block' : 'none';\n",
              "\n",
              "        async function convertToInteractive(key) {\n",
              "          const element = document.querySelector('#df-1b13eb7f-4fbf-4e3d-9b12-d925acb6d42a');\n",
              "          const dataTable =\n",
              "            await google.colab.kernel.invokeFunction('convertToInteractive',\n",
              "                                                     [key], {});\n",
              "          if (!dataTable) return;\n",
              "\n",
              "          const docLinkHtml = 'Like what you see? Visit the ' +\n",
              "            '<a target=\"_blank\" href=https://colab.research.google.com/notebooks/data_table.ipynb>data table notebook</a>'\n",
              "            + ' to learn more about interactive tables.';\n",
              "          element.innerHTML = '';\n",
              "          dataTable['output_type'] = 'display_data';\n",
              "          await google.colab.output.renderOutput(dataTable, element);\n",
              "          const docLink = document.createElement('div');\n",
              "          docLink.innerHTML = docLinkHtml;\n",
              "          element.appendChild(docLink);\n",
              "        }\n",
              "      </script>\n",
              "    </div>\n",
              "  </div>\n",
              "  "
            ]
          },
          "metadata": {},
          "execution_count": 12
        }
      ]
    },
    {
      "cell_type": "code",
      "source": [
        "sum(data['Sex']=='male')\n"
      ],
      "metadata": {
        "colab": {
          "base_uri": "https://localhost:8080/"
        },
        "id": "pH2REldTnjnx",
        "outputId": "597f31e6-83c1-4b13-a11c-759ba6582be1"
      },
      "execution_count": 13,
      "outputs": [
        {
          "output_type": "execute_result",
          "data": {
            "text/plain": [
              "843"
            ]
          },
          "metadata": {},
          "execution_count": 13
        }
      ]
    },
    {
      "cell_type": "code",
      "source": [
        "data[data['Sex']=='male'].head()\n"
      ],
      "metadata": {
        "colab": {
          "base_uri": "https://localhost:8080/",
          "height": 206
        },
        "id": "LkBBmuL8nmZM",
        "outputId": "fcf4c339-3eda-4b91-eaac-a4207840f8e0"
      },
      "execution_count": 14,
      "outputs": [
        {
          "output_type": "execute_result",
          "data": {
            "text/plain": [
              "      PassengerId  Survived  Pclass                      Name   Sex   Age  \\\n",
              "1148         1149         0       3     Niklasson, Mr. Samuel  male  28.0   \n",
              "1049         1050         0       1  Borebank, Mr. John James  male  42.0   \n",
              "982           983         0       3        Pedersen, Mr. Olaf  male   NaN   \n",
              "808           809         0       2         Meyer, Mr. August  male  39.0   \n",
              "65             66         1       3  Moubarek, Master. Gerios  male   NaN   \n",
              "\n",
              "      SibSp  Parch  Ticket     Fare Cabin Embarked  \n",
              "1148      0      0  363611   8.0500   NaN        S  \n",
              "1049      0      0  110489  26.5500   D22        S  \n",
              "982       0      0  345498   7.7750   NaN        S  \n",
              "808       0      0  248723  13.0000   NaN        S  \n",
              "65        1      1    2661  15.2458   NaN        C  "
            ],
            "text/html": [
              "\n",
              "  <div id=\"df-44a4042b-cdde-49e7-b431-69fa82a4f92a\">\n",
              "    <div class=\"colab-df-container\">\n",
              "      <div>\n",
              "<style scoped>\n",
              "    .dataframe tbody tr th:only-of-type {\n",
              "        vertical-align: middle;\n",
              "    }\n",
              "\n",
              "    .dataframe tbody tr th {\n",
              "        vertical-align: top;\n",
              "    }\n",
              "\n",
              "    .dataframe thead th {\n",
              "        text-align: right;\n",
              "    }\n",
              "</style>\n",
              "<table border=\"1\" class=\"dataframe\">\n",
              "  <thead>\n",
              "    <tr style=\"text-align: right;\">\n",
              "      <th></th>\n",
              "      <th>PassengerId</th>\n",
              "      <th>Survived</th>\n",
              "      <th>Pclass</th>\n",
              "      <th>Name</th>\n",
              "      <th>Sex</th>\n",
              "      <th>Age</th>\n",
              "      <th>SibSp</th>\n",
              "      <th>Parch</th>\n",
              "      <th>Ticket</th>\n",
              "      <th>Fare</th>\n",
              "      <th>Cabin</th>\n",
              "      <th>Embarked</th>\n",
              "    </tr>\n",
              "  </thead>\n",
              "  <tbody>\n",
              "    <tr>\n",
              "      <th>1148</th>\n",
              "      <td>1149</td>\n",
              "      <td>0</td>\n",
              "      <td>3</td>\n",
              "      <td>Niklasson, Mr. Samuel</td>\n",
              "      <td>male</td>\n",
              "      <td>28.0</td>\n",
              "      <td>0</td>\n",
              "      <td>0</td>\n",
              "      <td>363611</td>\n",
              "      <td>8.0500</td>\n",
              "      <td>NaN</td>\n",
              "      <td>S</td>\n",
              "    </tr>\n",
              "    <tr>\n",
              "      <th>1049</th>\n",
              "      <td>1050</td>\n",
              "      <td>0</td>\n",
              "      <td>1</td>\n",
              "      <td>Borebank, Mr. John James</td>\n",
              "      <td>male</td>\n",
              "      <td>42.0</td>\n",
              "      <td>0</td>\n",
              "      <td>0</td>\n",
              "      <td>110489</td>\n",
              "      <td>26.5500</td>\n",
              "      <td>D22</td>\n",
              "      <td>S</td>\n",
              "    </tr>\n",
              "    <tr>\n",
              "      <th>982</th>\n",
              "      <td>983</td>\n",
              "      <td>0</td>\n",
              "      <td>3</td>\n",
              "      <td>Pedersen, Mr. Olaf</td>\n",
              "      <td>male</td>\n",
              "      <td>NaN</td>\n",
              "      <td>0</td>\n",
              "      <td>0</td>\n",
              "      <td>345498</td>\n",
              "      <td>7.7750</td>\n",
              "      <td>NaN</td>\n",
              "      <td>S</td>\n",
              "    </tr>\n",
              "    <tr>\n",
              "      <th>808</th>\n",
              "      <td>809</td>\n",
              "      <td>0</td>\n",
              "      <td>2</td>\n",
              "      <td>Meyer, Mr. August</td>\n",
              "      <td>male</td>\n",
              "      <td>39.0</td>\n",
              "      <td>0</td>\n",
              "      <td>0</td>\n",
              "      <td>248723</td>\n",
              "      <td>13.0000</td>\n",
              "      <td>NaN</td>\n",
              "      <td>S</td>\n",
              "    </tr>\n",
              "    <tr>\n",
              "      <th>65</th>\n",
              "      <td>66</td>\n",
              "      <td>1</td>\n",
              "      <td>3</td>\n",
              "      <td>Moubarek, Master. Gerios</td>\n",
              "      <td>male</td>\n",
              "      <td>NaN</td>\n",
              "      <td>1</td>\n",
              "      <td>1</td>\n",
              "      <td>2661</td>\n",
              "      <td>15.2458</td>\n",
              "      <td>NaN</td>\n",
              "      <td>C</td>\n",
              "    </tr>\n",
              "  </tbody>\n",
              "</table>\n",
              "</div>\n",
              "      <button class=\"colab-df-convert\" onclick=\"convertToInteractive('df-44a4042b-cdde-49e7-b431-69fa82a4f92a')\"\n",
              "              title=\"Convert this dataframe to an interactive table.\"\n",
              "              style=\"display:none;\">\n",
              "        \n",
              "  <svg xmlns=\"http://www.w3.org/2000/svg\" height=\"24px\"viewBox=\"0 0 24 24\"\n",
              "       width=\"24px\">\n",
              "    <path d=\"M0 0h24v24H0V0z\" fill=\"none\"/>\n",
              "    <path d=\"M18.56 5.44l.94 2.06.94-2.06 2.06-.94-2.06-.94-.94-2.06-.94 2.06-2.06.94zm-11 1L8.5 8.5l.94-2.06 2.06-.94-2.06-.94L8.5 2.5l-.94 2.06-2.06.94zm10 10l.94 2.06.94-2.06 2.06-.94-2.06-.94-.94-2.06-.94 2.06-2.06.94z\"/><path d=\"M17.41 7.96l-1.37-1.37c-.4-.4-.92-.59-1.43-.59-.52 0-1.04.2-1.43.59L10.3 9.45l-7.72 7.72c-.78.78-.78 2.05 0 2.83L4 21.41c.39.39.9.59 1.41.59.51 0 1.02-.2 1.41-.59l7.78-7.78 2.81-2.81c.8-.78.8-2.07 0-2.86zM5.41 20L4 18.59l7.72-7.72 1.47 1.35L5.41 20z\"/>\n",
              "  </svg>\n",
              "      </button>\n",
              "      \n",
              "  <style>\n",
              "    .colab-df-container {\n",
              "      display:flex;\n",
              "      flex-wrap:wrap;\n",
              "      gap: 12px;\n",
              "    }\n",
              "\n",
              "    .colab-df-convert {\n",
              "      background-color: #E8F0FE;\n",
              "      border: none;\n",
              "      border-radius: 50%;\n",
              "      cursor: pointer;\n",
              "      display: none;\n",
              "      fill: #1967D2;\n",
              "      height: 32px;\n",
              "      padding: 0 0 0 0;\n",
              "      width: 32px;\n",
              "    }\n",
              "\n",
              "    .colab-df-convert:hover {\n",
              "      background-color: #E2EBFA;\n",
              "      box-shadow: 0px 1px 2px rgba(60, 64, 67, 0.3), 0px 1px 3px 1px rgba(60, 64, 67, 0.15);\n",
              "      fill: #174EA6;\n",
              "    }\n",
              "\n",
              "    [theme=dark] .colab-df-convert {\n",
              "      background-color: #3B4455;\n",
              "      fill: #D2E3FC;\n",
              "    }\n",
              "\n",
              "    [theme=dark] .colab-df-convert:hover {\n",
              "      background-color: #434B5C;\n",
              "      box-shadow: 0px 1px 3px 1px rgba(0, 0, 0, 0.15);\n",
              "      filter: drop-shadow(0px 1px 2px rgba(0, 0, 0, 0.3));\n",
              "      fill: #FFFFFF;\n",
              "    }\n",
              "  </style>\n",
              "\n",
              "      <script>\n",
              "        const buttonEl =\n",
              "          document.querySelector('#df-44a4042b-cdde-49e7-b431-69fa82a4f92a button.colab-df-convert');\n",
              "        buttonEl.style.display =\n",
              "          google.colab.kernel.accessAllowed ? 'block' : 'none';\n",
              "\n",
              "        async function convertToInteractive(key) {\n",
              "          const element = document.querySelector('#df-44a4042b-cdde-49e7-b431-69fa82a4f92a');\n",
              "          const dataTable =\n",
              "            await google.colab.kernel.invokeFunction('convertToInteractive',\n",
              "                                                     [key], {});\n",
              "          if (!dataTable) return;\n",
              "\n",
              "          const docLinkHtml = 'Like what you see? Visit the ' +\n",
              "            '<a target=\"_blank\" href=https://colab.research.google.com/notebooks/data_table.ipynb>data table notebook</a>'\n",
              "            + ' to learn more about interactive tables.';\n",
              "          element.innerHTML = '';\n",
              "          dataTable['output_type'] = 'display_data';\n",
              "          await google.colab.output.renderOutput(dataTable, element);\n",
              "          const docLink = document.createElement('div');\n",
              "          docLink.innerHTML = docLinkHtml;\n",
              "          element.appendChild(docLink);\n",
              "        }\n",
              "      </script>\n",
              "    </div>\n",
              "  </div>\n",
              "  "
            ]
          },
          "metadata": {},
          "execution_count": 14
        }
      ]
    },
    {
      "cell_type": "code",
      "source": [
        "sum(data['Survived']==1)\n"
      ],
      "metadata": {
        "colab": {
          "base_uri": "https://localhost:8080/"
        },
        "id": "FujkAo_anpbO",
        "outputId": "50b32ec6-869d-4717-8723-b41d3f648146"
      },
      "execution_count": 15,
      "outputs": [
        {
          "output_type": "execute_result",
          "data": {
            "text/plain": [
              "494"
            ]
          },
          "metadata": {},
          "execution_count": 15
        }
      ]
    },
    {
      "cell_type": "markdown",
      "source": [
        "## Check Missing (Null) Values In The *Dataset*"
      ],
      "metadata": {
        "id": "HkHNSKbCvxH5"
      }
    },
    {
      "cell_type": "code",
      "source": [
        "data.isnull().sum()\n"
      ],
      "metadata": {
        "colab": {
          "base_uri": "https://localhost:8080/"
        },
        "id": "0pwaOdSBntJ5",
        "outputId": "5924c81a-7504-488a-a88c-cdcf851bc9a7"
      },
      "execution_count": 16,
      "outputs": [
        {
          "output_type": "execute_result",
          "data": {
            "text/plain": [
              "PassengerId       0\n",
              "Survived          0\n",
              "Pclass            0\n",
              "Name              0\n",
              "Sex               0\n",
              "Age             263\n",
              "SibSp             0\n",
              "Parch             0\n",
              "Ticket            0\n",
              "Fare              1\n",
              "Cabin          1014\n",
              "Embarked          2\n",
              "dtype: int64"
            ]
          },
          "metadata": {},
          "execution_count": 16
        }
      ]
    },
    {
      "cell_type": "code",
      "source": [
        "import seaborn as sns\n",
        "import matplotlib.pyplot as plt\n",
        "sns.heatmap(data.isnull())\n"
      ],
      "metadata": {
        "colab": {
          "base_uri": "https://localhost:8080/",
          "height": 524
        },
        "id": "ZHOCc1eonzT0",
        "outputId": "326473d1-8d7d-4d1f-ff4b-414f5410b11d"
      },
      "execution_count": 17,
      "outputs": [
        {
          "output_type": "execute_result",
          "data": {
            "text/plain": [
              "<Axes: >"
            ]
          },
          "metadata": {},
          "execution_count": 17
        },
        {
          "output_type": "display_data",
          "data": {
            "text/plain": [
              "<Figure size 640x480 with 2 Axes>"
            ],
            "image/png": "[encoded data removed]"
          },
          "metadata": {}
        }
      ]
    },
    {
      "cell_type": "code",
      "source": [
        "per_missing = data.isnull().sum() * 100 / len(data)\n"
      ],
      "metadata": {
        "id": "7D4M3j6yn6zb"
      },
      "execution_count": 18,
      "outputs": []
    },
    {
      "cell_type": "markdown",
      "source": [
        "## Drop the Column"
      ],
      "metadata": {
        "id": "MWq4NZccvpLf"
      }
    },
    {
      "cell_type": "code",
      "source": [
        "data.drop('Cabin', axis=1,inplace=True)\n"
      ],
      "metadata": {
        "id": "edjJBjNEoD8t"
      },
      "execution_count": 19,
      "outputs": []
    },
    {
      "cell_type": "code",
      "source": [
        "data.isnull().sum()\n"
      ],
      "metadata": {
        "colab": {
          "base_uri": "https://localhost:8080/"
        },
        "id": "vhesTrSIoInU",
        "outputId": "04e8c74f-c806-4652-a9cb-1dc0f95f028c"
      },
      "execution_count": 20,
      "outputs": [
        {
          "output_type": "execute_result",
          "data": {
            "text/plain": [
              "PassengerId      0\n",
              "Survived         0\n",
              "Pclass           0\n",
              "Name             0\n",
              "Sex              0\n",
              "Age            263\n",
              "SibSp            0\n",
              "Parch            0\n",
              "Ticket           0\n",
              "Fare             1\n",
              "Embarked         2\n",
              "dtype: int64"
            ]
          },
          "metadata": {},
          "execution_count": 20
        }
      ]
    },
    {
      "cell_type": "markdown",
      "source": [
        "## Handle Missing Values"
      ],
      "metadata": {
        "id": "_VGYWuANve0t"
      }
    },
    {
      "cell_type": "code",
      "source": [
        "data['Embarked'].mode()\n"
      ],
      "metadata": {
        "colab": {
          "base_uri": "https://localhost:8080/"
        },
        "id": "yFKcApR9oMgF",
        "outputId": "c8f4c393-2617-4470-d8ca-bcffc6c9b383"
      },
      "execution_count": 21,
      "outputs": [
        {
          "output_type": "execute_result",
          "data": {
            "text/plain": [
              "0    S\n",
              "Name: Embarked, dtype: object"
            ]
          },
          "metadata": {},
          "execution_count": 21
        }
      ]
    },
    {
      "cell_type": "code",
      "source": [
        "data['Embarked'].fillna('S',inplace=True)\n"
      ],
      "metadata": {
        "id": "RFzVqWbVoSWM"
      },
      "execution_count": 22,
      "outputs": []
    },
    {
      "cell_type": "code",
      "source": [
        "data.isnull().sum()\n"
      ],
      "metadata": {
        "colab": {
          "base_uri": "https://localhost:8080/"
        },
        "id": "MANOYr2ioVc3",
        "outputId": "54c0d294-8e0d-47b8-e0c6-99f407bc2d6c"
      },
      "execution_count": 23,
      "outputs": [
        {
          "output_type": "execute_result",
          "data": {
            "text/plain": [
              "PassengerId      0\n",
              "Survived         0\n",
              "Pclass           0\n",
              "Name             0\n",
              "Sex              0\n",
              "Age            263\n",
              "SibSp            0\n",
              "Parch            0\n",
              "Ticket           0\n",
              "Fare             1\n",
              "Embarked         0\n",
              "dtype: int64"
            ]
          },
          "metadata": {},
          "execution_count": 23
        }
      ]
    },
    {
      "cell_type": "code",
      "source": [
        "data['Age']\n"
      ],
      "metadata": {
        "colab": {
          "base_uri": "https://localhost:8080/"
        },
        "id": "T0FdCSckoYKS",
        "outputId": "4a6189e0-531f-4f50-dc2c-ca7cef203078"
      },
      "execution_count": 24,
      "outputs": [
        {
          "output_type": "execute_result",
          "data": {
            "text/plain": [
              "1148    28.0\n",
              "1049    42.0\n",
              "982      NaN\n",
              "808     39.0\n",
              "1195     NaN\n",
              "        ... \n",
              "1095    25.0\n",
              "1130    48.0\n",
              "1294    17.0\n",
              "860     41.0\n",
              "1126    20.0\n",
              "Name: Age, Length: 1309, dtype: float64"
            ]
          },
          "metadata": {},
          "execution_count": 24
        }
      ]
    },
    {
      "cell_type": "code",
      "source": [
        "data['Age'].fillna(data['Age'].mean(), inplace = True)\n"
      ],
      "metadata": {
        "id": "TAAFbup1ocFQ"
      },
      "execution_count": 25,
      "outputs": []
    },
    {
      "cell_type": "code",
      "source": [
        "data.isnull().sum()\n"
      ],
      "metadata": {
        "colab": {
          "base_uri": "https://localhost:8080/"
        },
        "id": "c2ezXg0DofXZ",
        "outputId": "3282ab3d-c72c-4ae8-dbbf-a2867c3fe1cd"
      },
      "execution_count": 26,
      "outputs": [
        {
          "output_type": "execute_result",
          "data": {
            "text/plain": [
              "PassengerId    0\n",
              "Survived       0\n",
              "Pclass         0\n",
              "Name           0\n",
              "Sex            0\n",
              "Age            0\n",
              "SibSp          0\n",
              "Parch          0\n",
              "Ticket         0\n",
              "Fare           1\n",
              "Embarked       0\n",
              "dtype: int64"
            ]
          },
          "metadata": {},
          "execution_count": 26
        }
      ]
    },
    {
      "cell_type": "code",
      "source": [],
      "metadata": {
        "id": "SqbnveNFQQgf"
      },
      "execution_count": 26,
      "outputs": []
    },
    {
      "cell_type": "code",
      "source": [
        "data.isnull().sum()\n"
      ],
      "metadata": {
        "colab": {
          "base_uri": "https://localhost:8080/"
        },
        "id": "PJAQQeoeQQMa",
        "outputId": "bc4636c7-7766-4b7d-e5d4-bb07c9c50747"
      },
      "execution_count": 27,
      "outputs": [
        {
          "output_type": "execute_result",
          "data": {
            "text/plain": [
              "PassengerId    0\n",
              "Survived       0\n",
              "Pclass         0\n",
              "Name           0\n",
              "Sex            0\n",
              "Age            0\n",
              "SibSp          0\n",
              "Parch          0\n",
              "Ticket         0\n",
              "Fare           1\n",
              "Embarked       0\n",
              "dtype: int64"
            ]
          },
          "metadata": {},
          "execution_count": 27
        }
      ]
    },
    {
      "cell_type": "code",
      "source": [
        "data['Fare'].fillna(data['Fare'].mean(), inplace = True)\n"
      ],
      "metadata": {
        "id": "ORAXhuY4QIt3"
      },
      "execution_count": 28,
      "outputs": []
    },
    {
      "cell_type": "code",
      "source": [
        "data.head()\n"
      ],
      "metadata": {
        "colab": {
          "base_uri": "https://localhost:8080/",
          "height": 206
        },
        "id": "6xZNwClQoiyZ",
        "outputId": "9cb84182-05e0-48af-9bdb-500fbdd6ec65"
      },
      "execution_count": 29,
      "outputs": [
        {
          "output_type": "execute_result",
          "data": {
            "text/plain": [
              "      PassengerId  Survived  Pclass                               Name  \\\n",
              "1148         1149         0       3              Niklasson, Mr. Samuel   \n",
              "1049         1050         0       1           Borebank, Mr. John James   \n",
              "982           983         0       3                 Pedersen, Mr. Olaf   \n",
              "808           809         0       2                  Meyer, Mr. August   \n",
              "1195         1196         1       3  McCarthy, Miss. Catherine Katie\"\"   \n",
              "\n",
              "         Sex        Age  SibSp  Parch  Ticket    Fare Embarked  \n",
              "1148    male  28.000000      0      0  363611   8.050        S  \n",
              "1049    male  42.000000      0      0  110489  26.550        S  \n",
              "982     male  29.881138      0      0  345498   7.775        S  \n",
              "808     male  39.000000      0      0  248723  13.000        S  \n",
              "1195  female  29.881138      0      0  383123   7.750        Q  "
            ],
            "text/html": [
              "\n",
              "  <div id=\"df-313ef93f-0be5-4c25-ad12-0cb287eb0ce3\">\n",
              "    <div class=\"colab-df-container\">\n",
              "      <div>\n",
              "<style scoped>\n",
              "    .dataframe tbody tr th:only-of-type {\n",
              "        vertical-align: middle;\n",
              "    }\n",
              "\n",
              "    .dataframe tbody tr th {\n",
              "        vertical-align: top;\n",
              "    }\n",
              "\n",
              "    .dataframe thead th {\n",
              "        text-align: right;\n",
              "    }\n",
              "</style>\n",
              "<table border=\"1\" class=\"dataframe\">\n",
              "  <thead>\n",
              "    <tr style=\"text-align: right;\">\n",
              "      <th></th>\n",
              "      <th>PassengerId</th>\n",
              "      <th>Survived</th>\n",
              "      <th>Pclass</th>\n",
              "      <th>Name</th>\n",
              "      <th>Sex</th>\n",
              "      <th>Age</th>\n",
              "      <th>SibSp</th>\n",
              "      <th>Parch</th>\n",
              "      <th>Ticket</th>\n",
              "      <th>Fare</th>\n",
              "      <th>Embarked</th>\n",
              "    </tr>\n",
              "  </thead>\n",
              "  <tbody>\n",
              "    <tr>\n",
              "      <th>1148</th>\n",
              "      <td>1149</td>\n",
              "      <td>0</td>\n",
              "      <td>3</td>\n",
              "      <td>Niklasson, Mr. Samuel</td>\n",
              "      <td>male</td>\n",
              "      <td>28.000000</td>\n",
              "      <td>0</td>\n",
              "      <td>0</td>\n",
              "      <td>363611</td>\n",
              "      <td>8.050</td>\n",
              "      <td>S</td>\n",
              "    </tr>\n",
              "    <tr>\n",
              "      <th>1049</th>\n",
              "      <td>1050</td>\n",
              "      <td>0</td>\n",
              "      <td>1</td>\n",
              "      <td>Borebank, Mr. John James</td>\n",
              "      <td>male</td>\n",
              "      <td>42.000000</td>\n",
              "      <td>0</td>\n",
              "      <td>0</td>\n",
              "      <td>110489</td>\n",
              "      <td>26.550</td>\n",
              "      <td>S</td>\n",
              "    </tr>\n",
              "    <tr>\n",
              "      <th>982</th>\n",
              "      <td>983</td>\n",
              "      <td>0</td>\n",
              "      <td>3</td>\n",
              "      <td>Pedersen, Mr. Olaf</td>\n",
              "      <td>male</td>\n",
              "      <td>29.881138</td>\n",
              "      <td>0</td>\n",
              "      <td>0</td>\n",
              "      <td>345498</td>\n",
              "      <td>7.775</td>\n",
              "      <td>S</td>\n",
              "    </tr>\n",
              "    <tr>\n",
              "      <th>808</th>\n",
              "      <td>809</td>\n",
              "      <td>0</td>\n",
              "      <td>2</td>\n",
              "      <td>Meyer, Mr. August</td>\n",
              "      <td>male</td>\n",
              "      <td>39.000000</td>\n",
              "      <td>0</td>\n",
              "      <td>0</td>\n",
              "      <td>248723</td>\n",
              "      <td>13.000</td>\n",
              "      <td>S</td>\n",
              "    </tr>\n",
              "    <tr>\n",
              "      <th>1195</th>\n",
              "      <td>1196</td>\n",
              "      <td>1</td>\n",
              "      <td>3</td>\n",
              "      <td>McCarthy, Miss. Catherine Katie\"\"</td>\n",
              "      <td>female</td>\n",
              "      <td>29.881138</td>\n",
              "      <td>0</td>\n",
              "      <td>0</td>\n",
              "      <td>383123</td>\n",
              "      <td>7.750</td>\n",
              "      <td>Q</td>\n",
              "    </tr>\n",
              "  </tbody>\n",
              "</table>\n",
              "</div>\n",
              "      <button class=\"colab-df-convert\" onclick=\"convertToInteractive('df-313ef93f-0be5-4c25-ad12-0cb287eb0ce3')\"\n",
              "              title=\"Convert this dataframe to an interactive table.\"\n",
              "              style=\"display:none;\">\n",
              "        \n",
              "  <svg xmlns=\"http://www.w3.org/2000/svg\" height=\"24px\"viewBox=\"0 0 24 24\"\n",
              "       width=\"24px\">\n",
              "    <path d=\"M0 0h24v24H0V0z\" fill=\"none\"/>\n",
              "    <path d=\"M18.56 5.44l.94 2.06.94-2.06 2.06-.94-2.06-.94-.94-2.06-.94 2.06-2.06.94zm-11 1L8.5 8.5l.94-2.06 2.06-.94-2.06-.94L8.5 2.5l-.94 2.06-2.06.94zm10 10l.94 2.06.94-2.06 2.06-.94-2.06-.94-.94-2.06-.94 2.06-2.06.94z\"/><path d=\"M17.41 7.96l-1.37-1.37c-.4-.4-.92-.59-1.43-.59-.52 0-1.04.2-1.43.59L10.3 9.45l-7.72 7.72c-.78.78-.78 2.05 0 2.83L4 21.41c.39.39.9.59 1.41.59.51 0 1.02-.2 1.41-.59l7.78-7.78 2.81-2.81c.8-.78.8-2.07 0-2.86zM5.41 20L4 18.59l7.72-7.72 1.47 1.35L5.41 20z\"/>\n",
              "  </svg>\n",
              "      </button>\n",
              "      \n",
              "  <style>\n",
              "    .colab-df-container {\n",
              "      display:flex;\n",
              "      flex-wrap:wrap;\n",
              "      gap: 12px;\n",
              "    }\n",
              "\n",
              "    .colab-df-convert {\n",
              "      background-color: #E8F0FE;\n",
              "      border: none;\n",
              "      border-radius: 50%;\n",
              "      cursor: pointer;\n",
              "      display: none;\n",
              "      fill: #1967D2;\n",
              "      height: 32px;\n",
              "      padding: 0 0 0 0;\n",
              "      width: 32px;\n",
              "    }\n",
              "\n",
              "    .colab-df-convert:hover {\n",
              "      background-color: #E2EBFA;\n",
              "      box-shadow: 0px 1px 2px rgba(60, 64, 67, 0.3), 0px 1px 3px 1px rgba(60, 64, 67, 0.15);\n",
              "      fill: #174EA6;\n",
              "    }\n",
              "\n",
              "    [theme=dark] .colab-df-convert {\n",
              "      background-color: #3B4455;\n",
              "      fill: #D2E3FC;\n",
              "    }\n",
              "\n",
              "    [theme=dark] .colab-df-convert:hover {\n",
              "      background-color: #434B5C;\n",
              "      box-shadow: 0px 1px 3px 1px rgba(0, 0, 0, 0.15);\n",
              "      filter: drop-shadow(0px 1px 2px rgba(0, 0, 0, 0.3));\n",
              "      fill: #FFFFFF;\n",
              "    }\n",
              "  </style>\n",
              "\n",
              "      <script>\n",
              "        const buttonEl =\n",
              "          document.querySelector('#df-313ef93f-0be5-4c25-ad12-0cb287eb0ce3 button.colab-df-convert');\n",
              "        buttonEl.style.display =\n",
              "          google.colab.kernel.accessAllowed ? 'block' : 'none';\n",
              "\n",
              "        async function convertToInteractive(key) {\n",
              "          const element = document.querySelector('#df-313ef93f-0be5-4c25-ad12-0cb287eb0ce3');\n",
              "          const dataTable =\n",
              "            await google.colab.kernel.invokeFunction('convertToInteractive',\n",
              "                                                     [key], {});\n",
              "          if (!dataTable) return;\n",
              "\n",
              "          const docLinkHtml = 'Like what you see? Visit the ' +\n",
              "            '<a target=\"_blank\" href=https://colab.research.google.com/notebooks/data_table.ipynb>data table notebook</a>'\n",
              "            + ' to learn more about interactive tables.';\n",
              "          element.innerHTML = '';\n",
              "          dataTable['output_type'] = 'display_data';\n",
              "          await google.colab.output.renderOutput(dataTable, element);\n",
              "          const docLink = document.createElement('div');\n",
              "          docLink.innerHTML = docLinkHtml;\n",
              "          element.appendChild(docLink);\n",
              "        }\n",
              "      </script>\n",
              "    </div>\n",
              "  </div>\n",
              "  "
            ]
          },
          "metadata": {},
          "execution_count": 29
        }
      ]
    },
    {
      "cell_type": "code",
      "source": [
        "data['Sex'].unique()\n"
      ],
      "metadata": {
        "colab": {
          "base_uri": "https://localhost:8080/"
        },
        "id": "PTtODTVdomke",
        "outputId": "d8d25449-76c3-4751-f824-93cb5dffa9ff"
      },
      "execution_count": 30,
      "outputs": [
        {
          "output_type": "execute_result",
          "data": {
            "text/plain": [
              "array(['male', 'female'], dtype=object)"
            ]
          },
          "metadata": {},
          "execution_count": 30
        }
      ]
    },
    {
      "cell_type": "code",
      "source": [
        "data['Gender']=data['Sex'].map({'male':1, 'female':0})\n"
      ],
      "metadata": {
        "id": "FCyYKRs6ortz"
      },
      "execution_count": 31,
      "outputs": []
    },
    {
      "cell_type": "code",
      "source": [
        "data.head(5)\n"
      ],
      "metadata": {
        "colab": {
          "base_uri": "https://localhost:8080/",
          "height": 206
        },
        "id": "8pGsPQZRouR5",
        "outputId": "d8f11a3d-d790-4452-c472-1b6e787cc220"
      },
      "execution_count": 32,
      "outputs": [
        {
          "output_type": "execute_result",
          "data": {
            "text/plain": [
              "      PassengerId  Survived  Pclass                               Name  \\\n",
              "1148         1149         0       3              Niklasson, Mr. Samuel   \n",
              "1049         1050         0       1           Borebank, Mr. John James   \n",
              "982           983         0       3                 Pedersen, Mr. Olaf   \n",
              "808           809         0       2                  Meyer, Mr. August   \n",
              "1195         1196         1       3  McCarthy, Miss. Catherine Katie\"\"   \n",
              "\n",
              "         Sex        Age  SibSp  Parch  Ticket    Fare Embarked  Gender  \n",
              "1148    male  28.000000      0      0  363611   8.050        S       1  \n",
              "1049    male  42.000000      0      0  110489  26.550        S       1  \n",
              "982     male  29.881138      0      0  345498   7.775        S       1  \n",
              "808     male  39.000000      0      0  248723  13.000        S       1  \n",
              "1195  female  29.881138      0      0  383123   7.750        Q       0  "
            ],
            "text/html": [
              "\n",
              "  <div id=\"df-1656d443-44fd-4141-b429-4fa84e363530\">\n",
              "    <div class=\"colab-df-container\">\n",
              "      <div>\n",
              "<style scoped>\n",
              "    .dataframe tbody tr th:only-of-type {\n",
              "        vertical-align: middle;\n",
              "    }\n",
              "\n",
              "    .dataframe tbody tr th {\n",
              "        vertical-align: top;\n",
              "    }\n",
              "\n",
              "    .dataframe thead th {\n",
              "        text-align: right;\n",
              "    }\n",
              "</style>\n",
              "<table border=\"1\" class=\"dataframe\">\n",
              "  <thead>\n",
              "    <tr style=\"text-align: right;\">\n",
              "      <th></th>\n",
              "      <th>PassengerId</th>\n",
              "      <th>Survived</th>\n",
              "      <th>Pclass</th>\n",
              "      <th>Name</th>\n",
              "      <th>Sex</th>\n",
              "      <th>Age</th>\n",
              "      <th>SibSp</th>\n",
              "      <th>Parch</th>\n",
              "      <th>Ticket</th>\n",
              "      <th>Fare</th>\n",
              "      <th>Embarked</th>\n",
              "      <th>Gender</th>\n",
              "    </tr>\n",
              "  </thead>\n",
              "  <tbody>\n",
              "    <tr>\n",
              "      <th>1148</th>\n",
              "      <td>1149</td>\n",
              "      <td>0</td>\n",
              "      <td>3</td>\n",
              "      <td>Niklasson, Mr. Samuel</td>\n",
              "      <td>male</td>\n",
              "      <td>28.000000</td>\n",
              "      <td>0</td>\n",
              "      <td>0</td>\n",
              "      <td>363611</td>\n",
              "      <td>8.050</td>\n",
              "      <td>S</td>\n",
              "      <td>1</td>\n",
              "    </tr>\n",
              "    <tr>\n",
              "      <th>1049</th>\n",
              "      <td>1050</td>\n",
              "      <td>0</td>\n",
              "      <td>1</td>\n",
              "      <td>Borebank, Mr. John James</td>\n",
              "      <td>male</td>\n",
              "      <td>42.000000</td>\n",
              "      <td>0</td>\n",
              "      <td>0</td>\n",
              "      <td>110489</td>\n",
              "      <td>26.550</td>\n",
              "      <td>S</td>\n",
              "      <td>1</td>\n",
              "    </tr>\n",
              "    <tr>\n",
              "      <th>982</th>\n",
              "      <td>983</td>\n",
              "      <td>0</td>\n",
              "      <td>3</td>\n",
              "      <td>Pedersen, Mr. Olaf</td>\n",
              "      <td>male</td>\n",
              "      <td>29.881138</td>\n",
              "      <td>0</td>\n",
              "      <td>0</td>\n",
              "      <td>345498</td>\n",
              "      <td>7.775</td>\n",
              "      <td>S</td>\n",
              "      <td>1</td>\n",
              "    </tr>\n",
              "    <tr>\n",
              "      <th>808</th>\n",
              "      <td>809</td>\n",
              "      <td>0</td>\n",
              "      <td>2</td>\n",
              "      <td>Meyer, Mr. August</td>\n",
              "      <td>male</td>\n",
              "      <td>39.000000</td>\n",
              "      <td>0</td>\n",
              "      <td>0</td>\n",
              "      <td>248723</td>\n",
              "      <td>13.000</td>\n",
              "      <td>S</td>\n",
              "      <td>1</td>\n",
              "    </tr>\n",
              "    <tr>\n",
              "      <th>1195</th>\n",
              "      <td>1196</td>\n",
              "      <td>1</td>\n",
              "      <td>3</td>\n",
              "      <td>McCarthy, Miss. Catherine Katie\"\"</td>\n",
              "      <td>female</td>\n",
              "      <td>29.881138</td>\n",
              "      <td>0</td>\n",
              "      <td>0</td>\n",
              "      <td>383123</td>\n",
              "      <td>7.750</td>\n",
              "      <td>Q</td>\n",
              "      <td>0</td>\n",
              "    </tr>\n",
              "  </tbody>\n",
              "</table>\n",
              "</div>\n",
              "      <button class=\"colab-df-convert\" onclick=\"convertToInteractive('df-1656d443-44fd-4141-b429-4fa84e363530')\"\n",
              "              title=\"Convert this dataframe to an interactive table.\"\n",
              "              style=\"display:none;\">\n",
              "        \n",
              "  <svg xmlns=\"http://www.w3.org/2000/svg\" height=\"24px\"viewBox=\"0 0 24 24\"\n",
              "       width=\"24px\">\n",
              "    <path d=\"M0 0h24v24H0V0z\" fill=\"none\"/>\n",
              "    <path d=\"M18.56 5.44l.94 2.06.94-2.06 2.06-.94-2.06-.94-.94-2.06-.94 2.06-2.06.94zm-11 1L8.5 8.5l.94-2.06 2.06-.94-2.06-.94L8.5 2.5l-.94 2.06-2.06.94zm10 10l.94 2.06.94-2.06 2.06-.94-2.06-.94-.94-2.06-.94 2.06-2.06.94z\"/><path d=\"M17.41 7.96l-1.37-1.37c-.4-.4-.92-.59-1.43-.59-.52 0-1.04.2-1.43.59L10.3 9.45l-7.72 7.72c-.78.78-.78 2.05 0 2.83L4 21.41c.39.39.9.59 1.41.59.51 0 1.02-.2 1.41-.59l7.78-7.78 2.81-2.81c.8-.78.8-2.07 0-2.86zM5.41 20L4 18.59l7.72-7.72 1.47 1.35L5.41 20z\"/>\n",
              "  </svg>\n",
              "      </button>\n",
              "      \n",
              "  <style>\n",
              "    .colab-df-container {\n",
              "      display:flex;\n",
              "      flex-wrap:wrap;\n",
              "      gap: 12px;\n",
              "    }\n",
              "\n",
              "    .colab-df-convert {\n",
              "      background-color: #E8F0FE;\n",
              "      border: none;\n",
              "      border-radius: 50%;\n",
              "      cursor: pointer;\n",
              "      display: none;\n",
              "      fill: #1967D2;\n",
              "      height: 32px;\n",
              "      padding: 0 0 0 0;\n",
              "      width: 32px;\n",
              "    }\n",
              "\n",
              "    .colab-df-convert:hover {\n",
              "      background-color: #E2EBFA;\n",
              "      box-shadow: 0px 1px 2px rgba(60, 64, 67, 0.3), 0px 1px 3px 1px rgba(60, 64, 67, 0.15);\n",
              "      fill: #174EA6;\n",
              "    }\n",
              "\n",
              "    [theme=dark] .colab-df-convert {\n",
              "      background-color: #3B4455;\n",
              "      fill: #D2E3FC;\n",
              "    }\n",
              "\n",
              "    [theme=dark] .colab-df-convert:hover {\n",
              "      background-color: #434B5C;\n",
              "      box-shadow: 0px 1px 3px 1px rgba(0, 0, 0, 0.15);\n",
              "      filter: drop-shadow(0px 1px 2px rgba(0, 0, 0, 0.3));\n",
              "      fill: #FFFFFF;\n",
              "    }\n",
              "  </style>\n",
              "\n",
              "      <script>\n",
              "        const buttonEl =\n",
              "          document.querySelector('#df-1656d443-44fd-4141-b429-4fa84e363530 button.colab-df-convert');\n",
              "        buttonEl.style.display =\n",
              "          google.colab.kernel.accessAllowed ? 'block' : 'none';\n",
              "\n",
              "        async function convertToInteractive(key) {\n",
              "          const element = document.querySelector('#df-1656d443-44fd-4141-b429-4fa84e363530');\n",
              "          const dataTable =\n",
              "            await google.colab.kernel.invokeFunction('convertToInteractive',\n",
              "                                                     [key], {});\n",
              "          if (!dataTable) return;\n",
              "\n",
              "          const docLinkHtml = 'Like what you see? Visit the ' +\n",
              "            '<a target=\"_blank\" href=https://colab.research.google.com/notebooks/data_table.ipynb>data table notebook</a>'\n",
              "            + ' to learn more about interactive tables.';\n",
              "          element.innerHTML = '';\n",
              "          dataTable['output_type'] = 'display_data';\n",
              "          await google.colab.output.renderOutput(dataTable, element);\n",
              "          const docLink = document.createElement('div');\n",
              "          docLink.innerHTML = docLinkHtml;\n",
              "          element.appendChild(docLink);\n",
              "        }\n",
              "      </script>\n",
              "    </div>\n",
              "  </div>\n",
              "  "
            ]
          },
          "metadata": {},
          "execution_count": 32
        }
      ]
    },
    {
      "cell_type": "markdown",
      "source": [
        "# Data Encoding"
      ],
      "metadata": {
        "id": "hObQaBjJvKMP"
      }
    },
    {
      "cell_type": "code",
      "source": [
        "x=data['Sex'].map({'male':1, 'female':0})\n"
      ],
      "metadata": {
        "id": "gvpZH0d_oyCE"
      },
      "execution_count": 33,
      "outputs": []
    },
    {
      "cell_type": "code",
      "source": [
        "data['Embarked'].unique()\n"
      ],
      "metadata": {
        "colab": {
          "base_uri": "https://localhost:8080/"
        },
        "id": "Fcq7Ep5-o7bI",
        "outputId": "fc117c71-f1bf-49b9-ddd6-59093472fe1e"
      },
      "execution_count": 34,
      "outputs": [
        {
          "output_type": "execute_result",
          "data": {
            "text/plain": [
              "array(['S', 'Q', 'C'], dtype=object)"
            ]
          },
          "metadata": {},
          "execution_count": 34
        }
      ]
    },
    {
      "cell_type": "code",
      "source": [
        "pd.get_dummies(data,columns=['Embarked'])\n"
      ],
      "metadata": {
        "colab": {
          "base_uri": "https://localhost:8080/",
          "height": 571
        },
        "id": "70RYB1SZo-kv",
        "outputId": "77078244-3853-4150-9d0c-75371e909c3b"
      },
      "execution_count": 35,
      "outputs": [
        {
          "output_type": "execute_result",
          "data": {
            "text/plain": [
              "      PassengerId  Survived  Pclass  \\\n",
              "1148         1149         0       3   \n",
              "1049         1050         0       1   \n",
              "982           983         0       3   \n",
              "808           809         0       2   \n",
              "1195         1196         1       3   \n",
              "...           ...       ...     ...   \n",
              "1095         1096         0       2   \n",
              "1130         1131         1       1   \n",
              "1294         1295         0       1   \n",
              "860           861         0       3   \n",
              "1126         1127         0       3   \n",
              "\n",
              "                                             Name     Sex        Age  SibSp  \\\n",
              "1148                        Niklasson, Mr. Samuel    male  28.000000      0   \n",
              "1049                     Borebank, Mr. John James    male  42.000000      0   \n",
              "982                            Pedersen, Mr. Olaf    male  29.881138      0   \n",
              "808                             Meyer, Mr. August    male  39.000000      0   \n",
              "1195            McCarthy, Miss. Catherine Katie\"\"  female  29.881138      0   \n",
              "...                                           ...     ...        ...    ...   \n",
              "1095                     Andrew, Mr. Frank Thomas    male  25.000000      0   \n",
              "1130  Douglas, Mrs. Walter Donald (Mahala Dutton)  female  48.000000      1   \n",
              "1294                       Carrau, Mr. Jose Pedro    male  17.000000      0   \n",
              "860                       Hansen, Mr. Claus Peter    male  41.000000      2   \n",
              "1126                       Vendel, Mr. Olof Edvin    male  20.000000      0   \n",
              "\n",
              "      Parch      Ticket      Fare  Gender  Embarked_C  Embarked_Q  Embarked_S  \n",
              "1148      0      363611    8.0500       1           0           0           1  \n",
              "1049      0      110489   26.5500       1           0           0           1  \n",
              "982       0      345498    7.7750       1           0           0           1  \n",
              "808       0      248723   13.0000       1           0           0           1  \n",
              "1195      0      383123    7.7500       0           0           1           0  \n",
              "...     ...         ...       ...     ...         ...         ...         ...  \n",
              "1095      0  C.A. 34050   10.5000       1           0           0           1  \n",
              "1130      0    PC 17761  106.4250       0           1           0           0  \n",
              "1294      0      113059   47.1000       1           0           0           1  \n",
              "860       0      350026   14.1083       1           0           0           1  \n",
              "1126      0      350416    7.8542       1           0           0           1  \n",
              "\n",
              "[1309 rows x 14 columns]"
            ],
            "text/html": [
              "\n",
              "  <div id=\"df-62391776-0a85-4149-8d6d-2641c0da0710\">\n",
              "    <div class=\"colab-df-container\">\n",
              "      <div>\n",
              "<style scoped>\n",
              "    .dataframe tbody tr th:only-of-type {\n",
              "        vertical-align: middle;\n",
              "    }\n",
              "\n",
              "    .dataframe tbody tr th {\n",
              "        vertical-align: top;\n",
              "    }\n",
              "\n",
              "    .dataframe thead th {\n",
              "        text-align: right;\n",
              "    }\n",
              "</style>\n",
              "<table border=\"1\" class=\"dataframe\">\n",
              "  <thead>\n",
              "    <tr style=\"text-align: right;\">\n",
              "      <th></th>\n",
              "      <th>PassengerId</th>\n",
              "      <th>Survived</th>\n",
              "      <th>Pclass</th>\n",
              "      <th>Name</th>\n",
              "      <th>Sex</th>\n",
              "      <th>Age</th>\n",
              "      <th>SibSp</th>\n",
              "      <th>Parch</th>\n",
              "      <th>Ticket</th>\n",
              "      <th>Fare</th>\n",
              "      <th>Gender</th>\n",
              "      <th>Embarked_C</th>\n",
              "      <th>Embarked_Q</th>\n",
              "      <th>Embarked_S</th>\n",
              "    </tr>\n",
              "  </thead>\n",
              "  <tbody>\n",
              "    <tr>\n",
              "      <th>1148</th>\n",
              "      <td>1149</td>\n",
              "      <td>0</td>\n",
              "      <td>3</td>\n",
              "      <td>Niklasson, Mr. Samuel</td>\n",
              "      <td>male</td>\n",
              "      <td>28.000000</td>\n",
              "      <td>0</td>\n",
              "      <td>0</td>\n",
              "      <td>363611</td>\n",
              "      <td>8.0500</td>\n",
              "      <td>1</td>\n",
              "      <td>0</td>\n",
              "      <td>0</td>\n",
              "      <td>1</td>\n",
              "    </tr>\n",
              "    <tr>\n",
              "      <th>1049</th>\n",
              "      <td>1050</td>\n",
              "      <td>0</td>\n",
              "      <td>1</td>\n",
              "      <td>Borebank, Mr. John James</td>\n",
              "      <td>male</td>\n",
              "      <td>42.000000</td>\n",
              "      <td>0</td>\n",
              "      <td>0</td>\n",
              "      <td>110489</td>\n",
              "      <td>26.5500</td>\n",
              "      <td>1</td>\n",
              "      <td>0</td>\n",
              "      <td>0</td>\n",
              "      <td>1</td>\n",
              "    </tr>\n",
              "    <tr>\n",
              "      <th>982</th>\n",
              "      <td>983</td>\n",
              "      <td>0</td>\n",
              "      <td>3</td>\n",
              "      <td>Pedersen, Mr. Olaf</td>\n",
              "      <td>male</td>\n",
              "      <td>29.881138</td>\n",
              "      <td>0</td>\n",
              "      <td>0</td>\n",
              "      <td>345498</td>\n",
              "      <td>7.7750</td>\n",
              "      <td>1</td>\n",
              "      <td>0</td>\n",
              "      <td>0</td>\n",
              "      <td>1</td>\n",
              "    </tr>\n",
              "    <tr>\n",
              "      <th>808</th>\n",
              "      <td>809</td>\n",
              "      <td>0</td>\n",
              "      <td>2</td>\n",
              "      <td>Meyer, Mr. August</td>\n",
              "      <td>male</td>\n",
              "      <td>39.000000</td>\n",
              "      <td>0</td>\n",
              "      <td>0</td>\n",
              "      <td>248723</td>\n",
              "      <td>13.0000</td>\n",
              "      <td>1</td>\n",
              "      <td>0</td>\n",
              "      <td>0</td>\n",
              "      <td>1</td>\n",
              "    </tr>\n",
              "    <tr>\n",
              "      <th>1195</th>\n",
              "      <td>1196</td>\n",
              "      <td>1</td>\n",
              "      <td>3</td>\n",
              "      <td>McCarthy, Miss. Catherine Katie\"\"</td>\n",
              "      <td>female</td>\n",
              "      <td>29.881138</td>\n",
              "      <td>0</td>\n",
              "      <td>0</td>\n",
              "      <td>383123</td>\n",
              "      <td>7.7500</td>\n",
              "      <td>0</td>\n",
              "      <td>0</td>\n",
              "      <td>1</td>\n",
              "      <td>0</td>\n",
              "    </tr>\n",
              "    <tr>\n",
              "      <th>...</th>\n",
              "      <td>...</td>\n",
              "      <td>...</td>\n",
              "      <td>...</td>\n",
              "      <td>...</td>\n",
              "      <td>...</td>\n",
              "      <td>...</td>\n",
              "      <td>...</td>\n",
              "      <td>...</td>\n",
              "      <td>...</td>\n",
              "      <td>...</td>\n",
              "      <td>...</td>\n",
              "      <td>...</td>\n",
              "      <td>...</td>\n",
              "      <td>...</td>\n",
              "    </tr>\n",
              "    <tr>\n",
              "      <th>1095</th>\n",
              "      <td>1096</td>\n",
              "      <td>0</td>\n",
              "      <td>2</td>\n",
              "      <td>Andrew, Mr. Frank Thomas</td>\n",
              "      <td>male</td>\n",
              "      <td>25.000000</td>\n",
              "      <td>0</td>\n",
              "      <td>0</td>\n",
              "      <td>C.A. 34050</td>\n",
              "      <td>10.5000</td>\n",
              "      <td>1</td>\n",
              "      <td>0</td>\n",
              "      <td>0</td>\n",
              "      <td>1</td>\n",
              "    </tr>\n",
              "    <tr>\n",
              "      <th>1130</th>\n",
              "      <td>1131</td>\n",
              "      <td>1</td>\n",
              "      <td>1</td>\n",
              "      <td>Douglas, Mrs. Walter Donald (Mahala Dutton)</td>\n",
              "      <td>female</td>\n",
              "      <td>48.000000</td>\n",
              "      <td>1</td>\n",
              "      <td>0</td>\n",
              "      <td>PC 17761</td>\n",
              "      <td>106.4250</td>\n",
              "      <td>0</td>\n",
              "      <td>1</td>\n",
              "      <td>0</td>\n",
              "      <td>0</td>\n",
              "    </tr>\n",
              "    <tr>\n",
              "      <th>1294</th>\n",
              "      <td>1295</td>\n",
              "      <td>0</td>\n",
              "      <td>1</td>\n",
              "      <td>Carrau, Mr. Jose Pedro</td>\n",
              "      <td>male</td>\n",
              "      <td>17.000000</td>\n",
              "      <td>0</td>\n",
              "      <td>0</td>\n",
              "      <td>113059</td>\n",
              "      <td>47.1000</td>\n",
              "      <td>1</td>\n",
              "      <td>0</td>\n",
              "      <td>0</td>\n",
              "      <td>1</td>\n",
              "    </tr>\n",
              "    <tr>\n",
              "      <th>860</th>\n",
              "      <td>861</td>\n",
              "      <td>0</td>\n",
              "      <td>3</td>\n",
              "      <td>Hansen, Mr. Claus Peter</td>\n",
              "      <td>male</td>\n",
              "      <td>41.000000</td>\n",
              "      <td>2</td>\n",
              "      <td>0</td>\n",
              "      <td>350026</td>\n",
              "      <td>14.1083</td>\n",
              "      <td>1</td>\n",
              "      <td>0</td>\n",
              "      <td>0</td>\n",
              "      <td>1</td>\n",
              "    </tr>\n",
              "    <tr>\n",
              "      <th>1126</th>\n",
              "      <td>1127</td>\n",
              "      <td>0</td>\n",
              "      <td>3</td>\n",
              "      <td>Vendel, Mr. Olof Edvin</td>\n",
              "      <td>male</td>\n",
              "      <td>20.000000</td>\n",
              "      <td>0</td>\n",
              "      <td>0</td>\n",
              "      <td>350416</td>\n",
              "      <td>7.8542</td>\n",
              "      <td>1</td>\n",
              "      <td>0</td>\n",
              "      <td>0</td>\n",
              "      <td>1</td>\n",
              "    </tr>\n",
              "  </tbody>\n",
              "</table>\n",
              "<p>1309 rows × 14 columns</p>\n",
              "</div>\n",
              "      <button class=\"colab-df-convert\" onclick=\"convertToInteractive('df-62391776-0a85-4149-8d6d-2641c0da0710')\"\n",
              "              title=\"Convert this dataframe to an interactive table.\"\n",
              "              style=\"display:none;\">\n",
              "        \n",
              "  <svg xmlns=\"http://www.w3.org/2000/svg\" height=\"24px\"viewBox=\"0 0 24 24\"\n",
              "       width=\"24px\">\n",
              "    <path d=\"M0 0h24v24H0V0z\" fill=\"none\"/>\n",
              "    <path d=\"M18.56 5.44l.94 2.06.94-2.06 2.06-.94-2.06-.94-.94-2.06-.94 2.06-2.06.94zm-11 1L8.5 8.5l.94-2.06 2.06-.94-2.06-.94L8.5 2.5l-.94 2.06-2.06.94zm10 10l.94 2.06.94-2.06 2.06-.94-2.06-.94-.94-2.06-.94 2.06-2.06.94z\"/><path d=\"M17.41 7.96l-1.37-1.37c-.4-.4-.92-.59-1.43-.59-.52 0-1.04.2-1.43.59L10.3 9.45l-7.72 7.72c-.78.78-.78 2.05 0 2.83L4 21.41c.39.39.9.59 1.41.59.51 0 1.02-.2 1.41-.59l7.78-7.78 2.81-2.81c.8-.78.8-2.07 0-2.86zM5.41 20L4 18.59l7.72-7.72 1.47 1.35L5.41 20z\"/>\n",
              "  </svg>\n",
              "      </button>\n",
              "      \n",
              "  <style>\n",
              "    .colab-df-container {\n",
              "      display:flex;\n",
              "      flex-wrap:wrap;\n",
              "      gap: 12px;\n",
              "    }\n",
              "\n",
              "    .colab-df-convert {\n",
              "      background-color: #E8F0FE;\n",
              "      border: none;\n",
              "      border-radius: 50%;\n",
              "      cursor: pointer;\n",
              "      display: none;\n",
              "      fill: #1967D2;\n",
              "      height: 32px;\n",
              "      padding: 0 0 0 0;\n",
              "      width: 32px;\n",
              "    }\n",
              "\n",
              "    .colab-df-convert:hover {\n",
              "      background-color: #E2EBFA;\n",
              "      box-shadow: 0px 1px 2px rgba(60, 64, 67, 0.3), 0px 1px 3px 1px rgba(60, 64, 67, 0.15);\n",
              "      fill: #174EA6;\n",
              "    }\n",
              "\n",
              "    [theme=dark] .colab-df-convert {\n",
              "      background-color: #3B4455;\n",
              "      fill: #D2E3FC;\n",
              "    }\n",
              "\n",
              "    [theme=dark] .colab-df-convert:hover {\n",
              "      background-color: #434B5C;\n",
              "      box-shadow: 0px 1px 3px 1px rgba(0, 0, 0, 0.15);\n",
              "      filter: drop-shadow(0px 1px 2px rgba(0, 0, 0, 0.3));\n",
              "      fill: #FFFFFF;\n",
              "    }\n",
              "  </style>\n",
              "\n",
              "      <script>\n",
              "        const buttonEl =\n",
              "          document.querySelector('#df-62391776-0a85-4149-8d6d-2641c0da0710 button.colab-df-convert');\n",
              "        buttonEl.style.display =\n",
              "          google.colab.kernel.accessAllowed ? 'block' : 'none';\n",
              "\n",
              "        async function convertToInteractive(key) {\n",
              "          const element = document.querySelector('#df-62391776-0a85-4149-8d6d-2641c0da0710');\n",
              "          const dataTable =\n",
              "            await google.colab.kernel.invokeFunction('convertToInteractive',\n",
              "                                                     [key], {});\n",
              "          if (!dataTable) return;\n",
              "\n",
              "          const docLinkHtml = 'Like what you see? Visit the ' +\n",
              "            '<a target=\"_blank\" href=https://colab.research.google.com/notebooks/data_table.ipynb>data table notebook</a>'\n",
              "            + ' to learn more about interactive tables.';\n",
              "          element.innerHTML = '';\n",
              "          dataTable['output_type'] = 'display_data';\n",
              "          await google.colab.output.renderOutput(dataTable, element);\n",
              "          const docLink = document.createElement('div');\n",
              "          docLink.innerHTML = docLinkHtml;\n",
              "          element.appendChild(docLink);\n",
              "        }\n",
              "      </script>\n",
              "    </div>\n",
              "  </div>\n",
              "  "
            ]
          },
          "metadata": {},
          "execution_count": 35
        }
      ]
    },
    {
      "cell_type": "code",
      "source": [
        "data1=pd.get_dummies(data,columns=['Embarked'],drop_first=True)\n"
      ],
      "metadata": {
        "id": "7goYGXlUpBmQ"
      },
      "execution_count": 36,
      "outputs": []
    },
    {
      "cell_type": "code",
      "source": [
        "data1.head(1)\n"
      ],
      "metadata": {
        "colab": {
          "base_uri": "https://localhost:8080/",
          "height": 80
        },
        "id": "Z_T8SQVYpFOP",
        "outputId": "d91256df-ab52-41e6-c269-5a5c91928de4"
      },
      "execution_count": 37,
      "outputs": [
        {
          "output_type": "execute_result",
          "data": {
            "text/plain": [
              "      PassengerId  Survived  Pclass                   Name   Sex   Age  SibSp  \\\n",
              "1148         1149         0       3  Niklasson, Mr. Samuel  male  28.0      0   \n",
              "\n",
              "      Parch  Ticket  Fare  Gender  Embarked_Q  Embarked_S  \n",
              "1148      0  363611  8.05       1           0           1  "
            ],
            "text/html": [
              "\n",
              "  <div id=\"df-bbe3800f-deb4-4551-a7f0-89e79c45258b\">\n",
              "    <div class=\"colab-df-container\">\n",
              "      <div>\n",
              "<style scoped>\n",
              "    .dataframe tbody tr th:only-of-type {\n",
              "        vertical-align: middle;\n",
              "    }\n",
              "\n",
              "    .dataframe tbody tr th {\n",
              "        vertical-align: top;\n",
              "    }\n",
              "\n",
              "    .dataframe thead th {\n",
              "        text-align: right;\n",
              "    }\n",
              "</style>\n",
              "<table border=\"1\" class=\"dataframe\">\n",
              "  <thead>\n",
              "    <tr style=\"text-align: right;\">\n",
              "      <th></th>\n",
              "      <th>PassengerId</th>\n",
              "      <th>Survived</th>\n",
              "      <th>Pclass</th>\n",
              "      <th>Name</th>\n",
              "      <th>Sex</th>\n",
              "      <th>Age</th>\n",
              "      <th>SibSp</th>\n",
              "      <th>Parch</th>\n",
              "      <th>Ticket</th>\n",
              "      <th>Fare</th>\n",
              "      <th>Gender</th>\n",
              "      <th>Embarked_Q</th>\n",
              "      <th>Embarked_S</th>\n",
              "    </tr>\n",
              "  </thead>\n",
              "  <tbody>\n",
              "    <tr>\n",
              "      <th>1148</th>\n",
              "      <td>1149</td>\n",
              "      <td>0</td>\n",
              "      <td>3</td>\n",
              "      <td>Niklasson, Mr. Samuel</td>\n",
              "      <td>male</td>\n",
              "      <td>28.0</td>\n",
              "      <td>0</td>\n",
              "      <td>0</td>\n",
              "      <td>363611</td>\n",
              "      <td>8.05</td>\n",
              "      <td>1</td>\n",
              "      <td>0</td>\n",
              "      <td>1</td>\n",
              "    </tr>\n",
              "  </tbody>\n",
              "</table>\n",
              "</div>\n",
              "      <button class=\"colab-df-convert\" onclick=\"convertToInteractive('df-bbe3800f-deb4-4551-a7f0-89e79c45258b')\"\n",
              "              title=\"Convert this dataframe to an interactive table.\"\n",
              "              style=\"display:none;\">\n",
              "        \n",
              "  <svg xmlns=\"http://www.w3.org/2000/svg\" height=\"24px\"viewBox=\"0 0 24 24\"\n",
              "       width=\"24px\">\n",
              "    <path d=\"M0 0h24v24H0V0z\" fill=\"none\"/>\n",
              "    <path d=\"M18.56 5.44l.94 2.06.94-2.06 2.06-.94-2.06-.94-.94-2.06-.94 2.06-2.06.94zm-11 1L8.5 8.5l.94-2.06 2.06-.94-2.06-.94L8.5 2.5l-.94 2.06-2.06.94zm10 10l.94 2.06.94-2.06 2.06-.94-2.06-.94-.94-2.06-.94 2.06-2.06.94z\"/><path d=\"M17.41 7.96l-1.37-1.37c-.4-.4-.92-.59-1.43-.59-.52 0-1.04.2-1.43.59L10.3 9.45l-7.72 7.72c-.78.78-.78 2.05 0 2.83L4 21.41c.39.39.9.59 1.41.59.51 0 1.02-.2 1.41-.59l7.78-7.78 2.81-2.81c.8-.78.8-2.07 0-2.86zM5.41 20L4 18.59l7.72-7.72 1.47 1.35L5.41 20z\"/>\n",
              "  </svg>\n",
              "      </button>\n",
              "      \n",
              "  <style>\n",
              "    .colab-df-container {\n",
              "      display:flex;\n",
              "      flex-wrap:wrap;\n",
              "      gap: 12px;\n",
              "    }\n",
              "\n",
              "    .colab-df-convert {\n",
              "      background-color: #E8F0FE;\n",
              "      border: none;\n",
              "      border-radius: 50%;\n",
              "      cursor: pointer;\n",
              "      display: none;\n",
              "      fill: #1967D2;\n",
              "      height: 32px;\n",
              "      padding: 0 0 0 0;\n",
              "      width: 32px;\n",
              "    }\n",
              "\n",
              "    .colab-df-convert:hover {\n",
              "      background-color: #E2EBFA;\n",
              "      box-shadow: 0px 1px 2px rgba(60, 64, 67, 0.3), 0px 1px 3px 1px rgba(60, 64, 67, 0.15);\n",
              "      fill: #174EA6;\n",
              "    }\n",
              "\n",
              "    [theme=dark] .colab-df-convert {\n",
              "      background-color: #3B4455;\n",
              "      fill: #D2E3FC;\n",
              "    }\n",
              "\n",
              "    [theme=dark] .colab-df-convert:hover {\n",
              "      background-color: #434B5C;\n",
              "      box-shadow: 0px 1px 3px 1px rgba(0, 0, 0, 0.15);\n",
              "      filter: drop-shadow(0px 1px 2px rgba(0, 0, 0, 0.3));\n",
              "      fill: #FFFFFF;\n",
              "    }\n",
              "  </style>\n",
              "\n",
              "      <script>\n",
              "        const buttonEl =\n",
              "          document.querySelector('#df-bbe3800f-deb4-4551-a7f0-89e79c45258b button.colab-df-convert');\n",
              "        buttonEl.style.display =\n",
              "          google.colab.kernel.accessAllowed ? 'block' : 'none';\n",
              "\n",
              "        async function convertToInteractive(key) {\n",
              "          const element = document.querySelector('#df-bbe3800f-deb4-4551-a7f0-89e79c45258b');\n",
              "          const dataTable =\n",
              "            await google.colab.kernel.invokeFunction('convertToInteractive',\n",
              "                                                     [key], {});\n",
              "          if (!dataTable) return;\n",
              "\n",
              "          const docLinkHtml = 'Like what you see? Visit the ' +\n",
              "            '<a target=\"_blank\" href=https://colab.research.google.com/notebooks/data_table.ipynb>data table notebook</a>'\n",
              "            + ' to learn more about interactive tables.';\n",
              "          element.innerHTML = '';\n",
              "          dataTable['output_type'] = 'display_data';\n",
              "          await google.colab.output.renderOutput(dataTable, element);\n",
              "          const docLink = document.createElement('div');\n",
              "          docLink.innerHTML = docLinkHtml;\n",
              "          element.appendChild(docLink);\n",
              "        }\n",
              "      </script>\n",
              "    </div>\n",
              "  </div>\n",
              "  "
            ]
          },
          "metadata": {},
          "execution_count": 37
        }
      ]
    },
    {
      "cell_type": "markdown",
      "source": [
        "# Visual Analysis"
      ],
      "metadata": {
        "id": "b-D3n_3vu9GP"
      }
    },
    {
      "cell_type": "markdown",
      "source": [
        "## How Many People Survived And How Many Died?"
      ],
      "metadata": {
        "id": "t4YKVUCkuzS3"
      }
    },
    {
      "cell_type": "code",
      "source": [
        "data['Survived'].value_counts()\n"
      ],
      "metadata": {
        "colab": {
          "base_uri": "https://localhost:8080/"
        },
        "id": "Po8ys-q2pINT",
        "outputId": "ec483241-93ca-4511-c628-11e26795d1be"
      },
      "execution_count": 38,
      "outputs": [
        {
          "output_type": "execute_result",
          "data": {
            "text/plain": [
              "0    815\n",
              "1    494\n",
              "Name: Survived, dtype: int64"
            ]
          },
          "metadata": {},
          "execution_count": 38
        }
      ]
    },
    {
      "cell_type": "code",
      "source": [
        "import seaborn as sns\n",
        "import matplotlib.pyplot as plt\n",
        "sns.countplot(x='Survived',data=data)\n"
      ],
      "metadata": {
        "colab": {
          "base_uri": "https://localhost:8080/",
          "height": 466
        },
        "id": "dHkV04llpNiI",
        "outputId": "c0c938a9-cad9-4a13-8ec6-e10f834a1e98"
      },
      "execution_count": 39,
      "outputs": [
        {
          "output_type": "execute_result",
          "data": {
            "text/plain": [
              "<Axes: xlabel='Survived', ylabel='count'>"
            ]
          },
          "metadata": {},
          "execution_count": 39
        },
        {
          "output_type": "display_data",
          "data": {
            "text/plain": [
              "<Figure size 640x480 with 1 Axes>"
            ],
            "image/png": "[encoded data removed]"
          },
          "metadata": {}
        }
      ]
    },
    {
      "cell_type": "markdown",
      "source": [
        "## How Many Passengers Were In First Class, Second Class, and Third Class?"
      ],
      "metadata": {
        "id": "4FZZ8cmuq_vj"
      }
    },
    {
      "cell_type": "code",
      "source": [
        "data['Pclass'].value_counts()\n"
      ],
      "metadata": {
        "colab": {
          "base_uri": "https://localhost:8080/"
        },
        "id": "-rqOq_SApT6z",
        "outputId": "030ed797-1b23-4979-bbb4-5b497e0528e7"
      },
      "execution_count": 40,
      "outputs": [
        {
          "output_type": "execute_result",
          "data": {
            "text/plain": [
              "3    709\n",
              "1    323\n",
              "2    277\n",
              "Name: Pclass, dtype: int64"
            ]
          },
          "metadata": {},
          "execution_count": 40
        }
      ]
    },
    {
      "cell_type": "code",
      "source": [
        "sns.countplot(x='Pclass', data=data)\n"
      ],
      "metadata": {
        "colab": {
          "base_uri": "https://localhost:8080/",
          "height": 466
        },
        "id": "pIXqcqlBpect",
        "outputId": "c8be3280-a815-48d4-fba2-f832effd0d64"
      },
      "execution_count": 41,
      "outputs": [
        {
          "output_type": "execute_result",
          "data": {
            "text/plain": [
              "<Axes: xlabel='Pclass', ylabel='count'>"
            ]
          },
          "metadata": {},
          "execution_count": 41
        },
        {
          "output_type": "display_data",
          "data": {
            "text/plain": [
              "<Figure size 640x480 with 1 Axes>"
            ],
            "image/png": "[encoded data removed]"
          },
          "metadata": {}
        }
      ]
    },
    {
      "cell_type": "markdown",
      "source": [
        "## Number of Male And Female Passengers"
      ],
      "metadata": {
        "id": "9avFxvUSq3SE"
      }
    },
    {
      "cell_type": "code",
      "source": [
        "data['Sex'].value_counts()\n"
      ],
      "metadata": {
        "colab": {
          "base_uri": "https://localhost:8080/"
        },
        "id": "dnQr_53uphJo",
        "outputId": "84f0a0a3-58be-477c-8ece-4d733e1ad518"
      },
      "execution_count": 42,
      "outputs": [
        {
          "output_type": "execute_result",
          "data": {
            "text/plain": [
              "male      843\n",
              "female    466\n",
              "Name: Sex, dtype: int64"
            ]
          },
          "metadata": {},
          "execution_count": 42
        }
      ]
    },
    {
      "cell_type": "code",
      "source": [
        "sns.countplot(x ='Sex', data = data)\n"
      ],
      "metadata": {
        "colab": {
          "base_uri": "https://localhost:8080/",
          "height": 466
        },
        "id": "CYlkj24Apkjz",
        "outputId": "c99118e6-c5b5-4220-8591-8c16be86475c"
      },
      "execution_count": 43,
      "outputs": [
        {
          "output_type": "execute_result",
          "data": {
            "text/plain": [
              "<Axes: xlabel='Sex', ylabel='count'>"
            ]
          },
          "metadata": {},
          "execution_count": 43
        },
        {
          "output_type": "display_data",
          "data": {
            "text/plain": [
              "<Figure size 640x480 with 1 Axes>"
            ],
            "image/png": "[encoded data removed]"
          },
          "metadata": {}
        }
      ]
    },
    {
      "cell_type": "code",
      "source": [
        "plt.hist(data['Age'])\n"
      ],
      "metadata": {
        "colab": {
          "base_uri": "https://localhost:8080/",
          "height": 499
        },
        "id": "Cmx8YyV4pnu1",
        "outputId": "585a5ccd-344b-4ebc-9acf-1e2152bb5e16"
      },
      "execution_count": 44,
      "outputs": [
        {
          "output_type": "execute_result",
          "data": {
            "text/plain": [
              "(array([ 72.,  62., 274., 513., 161., 108.,  65.,  41.,  10.,   3.]),\n",
              " array([ 0.17 ,  8.153, 16.136, 24.119, 32.102, 40.085, 48.068, 56.051,\n",
              "        64.034, 72.017, 80.   ]),\n",
              " <BarContainer object of 10 artists>)"
            ]
          },
          "metadata": {},
          "execution_count": 44
        },
        {
          "output_type": "display_data",
          "data": {
            "text/plain": [
              "<Figure size 640x480 with 1 Axes>"
            ],
            "image/png": "[encoded data removed]"
          },
          "metadata": {}
        }
      ]
    },
    {
      "cell_type": "markdown",
      "source": [
        "#**12. Bivariate Analysis**\n",
        "\n",
        "\n"
      ],
      "metadata": {
        "id": "xa5hL6siqnxa"
      }
    },
    {
      "cell_type": "markdown",
      "source": [
        "## How Has Better Chance of Survival Male or Female?"
      ],
      "metadata": {
        "id": "08DDQOeOqcCl"
      }
    },
    {
      "cell_type": "code",
      "source": [
        "sns.barplot(x='Sex',y='Survived',data=data)\n"
      ],
      "metadata": {
        "colab": {
          "base_uri": "https://localhost:8080/",
          "height": 466
        },
        "id": "w_GyT5PFpr6X",
        "outputId": "5f9c5289-ae2b-49c1-fb75-6c2dba29c6fc"
      },
      "execution_count": 45,
      "outputs": [
        {
          "output_type": "execute_result",
          "data": {
            "text/plain": [
              "<Axes: xlabel='Sex', ylabel='Survived'>"
            ]
          },
          "metadata": {},
          "execution_count": 45
        },
        {
          "output_type": "display_data",
          "data": {
            "text/plain": [
              "<Figure size 640x480 with 1 Axes>"
            ],
            "image/png": "[encoded data removed]"
          },
          "metadata": {}
        }
      ]
    },
    {
      "cell_type": "markdown",
      "source": [
        "## Which Passenger Class Has Better Chance of Surviva(First, Second, Or Third Class)?"
      ],
      "metadata": {
        "id": "vG_ldXOAqMIj"
      }
    },
    {
      "cell_type": "code",
      "source": [
        "sns.barplot(x=\"Pclass\", y=\"Survived\",data=data)\n"
      ],
      "metadata": {
        "colab": {
          "base_uri": "https://localhost:8080/",
          "height": 466
        },
        "id": "mcgh0dCrpzAL",
        "outputId": "152c61b6-1aa5-4e7a-e43d-fe84e0b586f6"
      },
      "execution_count": 46,
      "outputs": [
        {
          "output_type": "execute_result",
          "data": {
            "text/plain": [
              "<Axes: xlabel='Pclass', ylabel='Survived'>"
            ]
          },
          "metadata": {},
          "execution_count": 46
        },
        {
          "output_type": "display_data",
          "data": {
            "text/plain": [
              "<Figure size 640x480 with 1 Axes>"
            ],
            "image/png": "[encoded data removed]"
          },
          "metadata": {}
        }
      ]
    },
    {
      "cell_type": "code",
      "source": [
        "\n",
        "# Convert categorical variables to numeric\n",
        "data = pd.get_dummies(data, columns=['Sex', 'Embarked'])\n",
        "data.head(5)"
      ],
      "metadata": {
        "colab": {
          "base_uri": "https://localhost:8080/",
          "height": 443
        },
        "id": "s7mq4VOpp3gk",
        "outputId": "a9a467df-83a5-4110-d331-f3e5623cfbb5"
      },
      "execution_count": 47,
      "outputs": [
        {
          "output_type": "execute_result",
          "data": {
            "text/plain": [
              "      PassengerId  Survived  Pclass                               Name  \\\n",
              "1148         1149         0       3              Niklasson, Mr. Samuel   \n",
              "1049         1050         0       1           Borebank, Mr. John James   \n",
              "982           983         0       3                 Pedersen, Mr. Olaf   \n",
              "808           809         0       2                  Meyer, Mr. August   \n",
              "1195         1196         1       3  McCarthy, Miss. Catherine Katie\"\"   \n",
              "\n",
              "            Age  SibSp  Parch  Ticket    Fare  Gender  Sex_female  Sex_male  \\\n",
              "1148  28.000000      0      0  363611   8.050       1           0         1   \n",
              "1049  42.000000      0      0  110489  26.550       1           0         1   \n",
              "982   29.881138      0      0  345498   7.775       1           0         1   \n",
              "808   39.000000      0      0  248723  13.000       1           0         1   \n",
              "1195  29.881138      0      0  383123   7.750       0           1         0   \n",
              "\n",
              "      Embarked_C  Embarked_Q  Embarked_S  \n",
              "1148           0           0           1  \n",
              "1049           0           0           1  \n",
              "982            0           0           1  \n",
              "808            0           0           1  \n",
              "1195           0           1           0  "
            ],
            "text/html": [
              "\n",
              "  <div id=\"df-c3b9d433-2f8d-4391-a36c-edd5ebf9e002\">\n",
              "    <div class=\"colab-df-container\">\n",
              "      <div>\n",
              "<style scoped>\n",
              "    .dataframe tbody tr th:only-of-type {\n",
              "        vertical-align: middle;\n",
              "    }\n",
              "\n",
              "    .dataframe tbody tr th {\n",
              "        vertical-align: top;\n",
              "    }\n",
              "\n",
              "    .dataframe thead th {\n",
              "        text-align: right;\n",
              "    }\n",
              "</style>\n",
              "<table border=\"1\" class=\"dataframe\">\n",
              "  <thead>\n",
              "    <tr style=\"text-align: right;\">\n",
              "      <th></th>\n",
              "      <th>PassengerId</th>\n",
              "      <th>Survived</th>\n",
              "      <th>Pclass</th>\n",
              "      <th>Name</th>\n",
              "      <th>Age</th>\n",
              "      <th>SibSp</th>\n",
              "      <th>Parch</th>\n",
              "      <th>Ticket</th>\n",
              "      <th>Fare</th>\n",
              "      <th>Gender</th>\n",
              "      <th>Sex_female</th>\n",
              "      <th>Sex_male</th>\n",
              "      <th>Embarked_C</th>\n",
              "      <th>Embarked_Q</th>\n",
              "      <th>Embarked_S</th>\n",
              "    </tr>\n",
              "  </thead>\n",
              "  <tbody>\n",
              "    <tr>\n",
              "      <th>1148</th>\n",
              "      <td>1149</td>\n",
              "      <td>0</td>\n",
              "      <td>3</td>\n",
              "      <td>Niklasson, Mr. Samuel</td>\n",
              "      <td>28.000000</td>\n",
              "      <td>0</td>\n",
              "      <td>0</td>\n",
              "      <td>363611</td>\n",
              "      <td>8.050</td>\n",
              "      <td>1</td>\n",
              "      <td>0</td>\n",
              "      <td>1</td>\n",
              "      <td>0</td>\n",
              "      <td>0</td>\n",
              "      <td>1</td>\n",
              "    </tr>\n",
              "    <tr>\n",
              "      <th>1049</th>\n",
              "      <td>1050</td>\n",
              "      <td>0</td>\n",
              "      <td>1</td>\n",
              "      <td>Borebank, Mr. John James</td>\n",
              "      <td>42.000000</td>\n",
              "      <td>0</td>\n",
              "      <td>0</td>\n",
              "      <td>110489</td>\n",
              "      <td>26.550</td>\n",
              "      <td>1</td>\n",
              "      <td>0</td>\n",
              "      <td>1</td>\n",
              "      <td>0</td>\n",
              "      <td>0</td>\n",
              "      <td>1</td>\n",
              "    </tr>\n",
              "    <tr>\n",
              "      <th>982</th>\n",
              "      <td>983</td>\n",
              "      <td>0</td>\n",
              "      <td>3</td>\n",
              "      <td>Pedersen, Mr. Olaf</td>\n",
              "      <td>29.881138</td>\n",
              "      <td>0</td>\n",
              "      <td>0</td>\n",
              "      <td>345498</td>\n",
              "      <td>7.775</td>\n",
              "      <td>1</td>\n",
              "      <td>0</td>\n",
              "      <td>1</td>\n",
              "      <td>0</td>\n",
              "      <td>0</td>\n",
              "      <td>1</td>\n",
              "    </tr>\n",
              "    <tr>\n",
              "      <th>808</th>\n",
              "      <td>809</td>\n",
              "      <td>0</td>\n",
              "      <td>2</td>\n",
              "      <td>Meyer, Mr. August</td>\n",
              "      <td>39.000000</td>\n",
              "      <td>0</td>\n",
              "      <td>0</td>\n",
              "      <td>248723</td>\n",
              "      <td>13.000</td>\n",
              "      <td>1</td>\n",
              "      <td>0</td>\n",
              "      <td>1</td>\n",
              "      <td>0</td>\n",
              "      <td>0</td>\n",
              "      <td>1</td>\n",
              "    </tr>\n",
              "    <tr>\n",
              "      <th>1195</th>\n",
              "      <td>1196</td>\n",
              "      <td>1</td>\n",
              "      <td>3</td>\n",
              "      <td>McCarthy, Miss. Catherine Katie\"\"</td>\n",
              "      <td>29.881138</td>\n",
              "      <td>0</td>\n",
              "      <td>0</td>\n",
              "      <td>383123</td>\n",
              "      <td>7.750</td>\n",
              "      <td>0</td>\n",
              "      <td>1</td>\n",
              "      <td>0</td>\n",
              "      <td>0</td>\n",
              "      <td>1</td>\n",
              "      <td>0</td>\n",
              "    </tr>\n",
              "  </tbody>\n",
              "</table>\n",
              "</div>\n",
              "      <button class=\"colab-df-convert\" onclick=\"convertToInteractive('df-c3b9d433-2f8d-4391-a36c-edd5ebf9e002')\"\n",
              "              title=\"Convert this dataframe to an interactive table.\"\n",
              "              style=\"display:none;\">\n",
              "        \n",
              "  <svg xmlns=\"http://www.w3.org/2000/svg\" height=\"24px\"viewBox=\"0 0 24 24\"\n",
              "       width=\"24px\">\n",
              "    <path d=\"M0 0h24v24H0V0z\" fill=\"none\"/>\n",
              "    <path d=\"M18.56 5.44l.94 2.06.94-2.06 2.06-.94-2.06-.94-.94-2.06-.94 2.06-2.06.94zm-11 1L8.5 8.5l.94-2.06 2.06-.94-2.06-.94L8.5 2.5l-.94 2.06-2.06.94zm10 10l.94 2.06.94-2.06 2.06-.94-2.06-.94-.94-2.06-.94 2.06-2.06.94z\"/><path d=\"M17.41 7.96l-1.37-1.37c-.4-.4-.92-.59-1.43-.59-.52 0-1.04.2-1.43.59L10.3 9.45l-7.72 7.72c-.78.78-.78 2.05 0 2.83L4 21.41c.39.39.9.59 1.41.59.51 0 1.02-.2 1.41-.59l7.78-7.78 2.81-2.81c.8-.78.8-2.07 0-2.86zM5.41 20L4 18.59l7.72-7.72 1.47 1.35L5.41 20z\"/>\n",
              "  </svg>\n",
              "      </button>\n",
              "      \n",
              "  <style>\n",
              "    .colab-df-container {\n",
              "      display:flex;\n",
              "      flex-wrap:wrap;\n",
              "      gap: 12px;\n",
              "    }\n",
              "\n",
              "    .colab-df-convert {\n",
              "      background-color: #E8F0FE;\n",
              "      border: none;\n",
              "      border-radius: 50%;\n",
              "      cursor: pointer;\n",
              "      display: none;\n",
              "      fill: #1967D2;\n",
              "      height: 32px;\n",
              "      padding: 0 0 0 0;\n",
              "      width: 32px;\n",
              "    }\n",
              "\n",
              "    .colab-df-convert:hover {\n",
              "      background-color: #E2EBFA;\n",
              "      box-shadow: 0px 1px 2px rgba(60, 64, 67, 0.3), 0px 1px 3px 1px rgba(60, 64, 67, 0.15);\n",
              "      fill: #174EA6;\n",
              "    }\n",
              "\n",
              "    [theme=dark] .colab-df-convert {\n",
              "      background-color: #3B4455;\n",
              "      fill: #D2E3FC;\n",
              "    }\n",
              "\n",
              "    [theme=dark] .colab-df-convert:hover {\n",
              "      background-color: #434B5C;\n",
              "      box-shadow: 0px 1px 3px 1px rgba(0, 0, 0, 0.15);\n",
              "      filter: drop-shadow(0px 1px 2px rgba(0, 0, 0, 0.3));\n",
              "      fill: #FFFFFF;\n",
              "    }\n",
              "  </style>\n",
              "\n",
              "      <script>\n",
              "        const buttonEl =\n",
              "          document.querySelector('#df-c3b9d433-2f8d-4391-a36c-edd5ebf9e002 button.colab-df-convert');\n",
              "        buttonEl.style.display =\n",
              "          google.colab.kernel.accessAllowed ? 'block' : 'none';\n",
              "\n",
              "        async function convertToInteractive(key) {\n",
              "          const element = document.querySelector('#df-c3b9d433-2f8d-4391-a36c-edd5ebf9e002');\n",
              "          const dataTable =\n",
              "            await google.colab.kernel.invokeFunction('convertToInteractive',\n",
              "                                                     [key], {});\n",
              "          if (!dataTable) return;\n",
              "\n",
              "          const docLinkHtml = 'Like what you see? Visit the ' +\n",
              "            '<a target=\"_blank\" href=https://colab.research.google.com/notebooks/data_table.ipynb>data table notebook</a>'\n",
              "            + ' to learn more about interactive tables.';\n",
              "          element.innerHTML = '';\n",
              "          dataTable['output_type'] = 'display_data';\n",
              "          await google.colab.output.renderOutput(dataTable, element);\n",
              "          const docLink = document.createElement('div');\n",
              "          docLink.innerHTML = docLinkHtml;\n",
              "          element.appendChild(docLink);\n",
              "        }\n",
              "      </script>\n",
              "    </div>\n",
              "  </div>\n",
              "  "
            ]
          },
          "metadata": {},
          "execution_count": 47
        }
      ]
    },
    {
      "cell_type": "code",
      "source": [
        "data=data.drop(['PassengerId', 'Name', 'Ticket'], axis=1)\n"
      ],
      "metadata": {
        "id": "0F4q_g8egtuS"
      },
      "execution_count": 48,
      "outputs": []
    },
    {
      "cell_type": "markdown",
      "source": [
        "## Dataset Splitting into test and train"
      ],
      "metadata": {
        "id": "G_JVmMp0GtJK"
      }
    },
    {
      "cell_type": "code",
      "source": [
        "# Split the data into training and testing sets\n",
        "X = data.drop('Survived', axis=1)\n",
        "y = data['Survived']\n",
        "X_train, X_test, y_train, y_test = train_test_split(X, y, test_size=0.2, random_state=42)\n",
        "\n"
      ],
      "metadata": {
        "id": "OWL4Ma2gg8G7"
      },
      "execution_count": 49,
      "outputs": []
    },
    {
      "cell_type": "markdown",
      "source": [
        "## Data Scaling"
      ],
      "metadata": {
        "id": "SkUzOOueG1kS"
      }
    },
    {
      "cell_type": "code",
      "source": [
        "# Scale the numeric features\n",
        "scaler = StandardScaler()\n",
        "X_train[['Age', 'Fare']] = scaler.fit_transform(X_train[['Age', 'Fare']])\n",
        "X_test[['Age', 'Fare']] = scaler.transform(X_test[['Age', 'Fare']])"
      ],
      "metadata": {
        "id": "dHT5ICB3iuTM"
      },
      "execution_count": 50,
      "outputs": []
    },
    {
      "cell_type": "code",
      "source": [],
      "metadata": {
        "id": "hBKfPBfhi-Pd"
      },
      "execution_count": 50,
      "outputs": []
    },
    {
      "cell_type": "markdown",
      "source": [
        "# Model 1: Logistic regression using ANN"
      ],
      "metadata": {
        "id": "iUELHd9YG8st"
      }
    },
    {
      "cell_type": "code",
      "source": [
        "# Define the model\n",
        "model = Sequential()\n",
        "model.add(Dense(1, input_shape=(X_train.shape[1],), activation='sigmoid'))\n",
        "\n",
        "# Compile the model\n",
        "model.compile(optimizer='adam', loss='binary_crossentropy', metrics=['accuracy'])\n",
        "\n",
        "# Model Fitting with 100 epochs and 32 batch_size\n",
        "model.fit(X_train, y_train, epochs=100, batch_size=32, verbose=1)\n"
      ],
      "metadata": {
        "colab": {
          "base_uri": "https://localhost:8080/"
        },
        "id": "_7HCHFnFiQyr",
        "outputId": "696e4988-2a82-48f9-d3c4-74dde0827604"
      },
      "execution_count": 51,
      "outputs": [
        {
          "output_type": "stream",
          "name": "stdout",
          "text": [
            "Epoch 1/100\n",
            "33/33 [==============================] - 1s 3ms/step - loss: 0.7164 - accuracy: 0.6447\n",
            "Epoch 2/100\n",
            "33/33 [==============================] - 0s 3ms/step - loss: 0.6990 - accuracy: 0.6543\n",
            "Epoch 3/100\n",
            "33/33 [==============================] - 0s 4ms/step - loss: 0.6824 - accuracy: 0.6619\n",
            "Epoch 4/100\n",
            "33/33 [==============================] - 0s 3ms/step - loss: 0.6664 - accuracy: 0.6686\n",
            "Epoch 5/100\n",
            "33/33 [==============================] - 0s 3ms/step - loss: 0.6513 - accuracy: 0.6724\n",
            "Epoch 6/100\n",
            "33/33 [==============================] - 0s 3ms/step - loss: 0.6369 - accuracy: 0.6800\n",
            "Epoch 7/100\n",
            "33/33 [==============================] - 0s 3ms/step - loss: 0.6229 - accuracy: 0.6896\n",
            "Epoch 8/100\n",
            "33/33 [==============================] - 0s 2ms/step - loss: 0.6099 - accuracy: 0.6982\n",
            "Epoch 9/100\n",
            "33/33 [==============================] - 0s 3ms/step - loss: 0.5972 - accuracy: 0.7058\n",
            "Epoch 10/100\n",
            "33/33 [==============================] - 0s 3ms/step - loss: 0.5851 - accuracy: 0.7125\n",
            "Epoch 11/100\n",
            "33/33 [==============================] - 0s 2ms/step - loss: 0.5737 - accuracy: 0.7154\n",
            "Epoch 12/100\n",
            "33/33 [==============================] - 0s 2ms/step - loss: 0.5628 - accuracy: 0.7182\n",
            "Epoch 13/100\n",
            "33/33 [==============================] - 0s 2ms/step - loss: 0.5525 - accuracy: 0.7307\n",
            "Epoch 14/100\n",
            "33/33 [==============================] - 0s 2ms/step - loss: 0.5426 - accuracy: 0.7316\n",
            "Epoch 15/100\n",
            "33/33 [==============================] - 0s 2ms/step - loss: 0.5334 - accuracy: 0.7364\n",
            "Epoch 16/100\n",
            "33/33 [==============================] - 0s 2ms/step - loss: 0.5246 - accuracy: 0.7450\n",
            "Epoch 17/100\n",
            "33/33 [==============================] - 0s 2ms/step - loss: 0.5161 - accuracy: 0.7507\n",
            "Epoch 18/100\n",
            "33/33 [==============================] - 0s 2ms/step - loss: 0.5082 - accuracy: 0.7545\n",
            "Epoch 19/100\n",
            "33/33 [==============================] - 0s 2ms/step - loss: 0.5007 - accuracy: 0.7612\n",
            "Epoch 20/100\n",
            "33/33 [==============================] - 0s 2ms/step - loss: 0.4938 - accuracy: 0.7717\n",
            "Epoch 21/100\n",
            "33/33 [==============================] - 0s 2ms/step - loss: 0.4869 - accuracy: 0.7803\n",
            "Epoch 22/100\n",
            "33/33 [==============================] - 0s 2ms/step - loss: 0.4807 - accuracy: 0.7880\n",
            "Epoch 23/100\n",
            "33/33 [==============================] - 0s 2ms/step - loss: 0.4747 - accuracy: 0.7899\n",
            "Epoch 24/100\n",
            "33/33 [==============================] - 0s 2ms/step - loss: 0.4690 - accuracy: 0.7947\n",
            "Epoch 25/100\n",
            "33/33 [==============================] - 0s 2ms/step - loss: 0.4638 - accuracy: 0.7985\n",
            "Epoch 26/100\n",
            "33/33 [==============================] - 0s 2ms/step - loss: 0.4587 - accuracy: 0.8023\n",
            "Epoch 27/100\n",
            "33/33 [==============================] - 0s 2ms/step - loss: 0.4540 - accuracy: 0.8052\n",
            "Epoch 28/100\n",
            "33/33 [==============================] - 0s 2ms/step - loss: 0.4495 - accuracy: 0.8099\n",
            "Epoch 29/100\n",
            "33/33 [==============================] - 0s 2ms/step - loss: 0.4454 - accuracy: 0.8118\n",
            "Epoch 30/100\n",
            "33/33 [==============================] - 0s 2ms/step - loss: 0.4415 - accuracy: 0.8176\n",
            "Epoch 31/100\n",
            "33/33 [==============================] - 0s 2ms/step - loss: 0.4378 - accuracy: 0.8233\n",
            "Epoch 32/100\n",
            "33/33 [==============================] - 0s 2ms/step - loss: 0.4343 - accuracy: 0.8233\n",
            "Epoch 33/100\n",
            "33/33 [==============================] - 0s 2ms/step - loss: 0.4311 - accuracy: 0.8243\n",
            "Epoch 34/100\n",
            "33/33 [==============================] - 0s 2ms/step - loss: 0.4280 - accuracy: 0.8290\n",
            "Epoch 35/100\n",
            "33/33 [==============================] - 0s 2ms/step - loss: 0.4251 - accuracy: 0.8290\n",
            "Epoch 36/100\n",
            "33/33 [==============================] - 0s 2ms/step - loss: 0.4225 - accuracy: 0.8271\n",
            "Epoch 37/100\n",
            "33/33 [==============================] - 0s 2ms/step - loss: 0.4201 - accuracy: 0.8405\n",
            "Epoch 38/100\n",
            "33/33 [==============================] - 0s 2ms/step - loss: 0.4174 - accuracy: 0.8424\n",
            "Epoch 39/100\n",
            "33/33 [==============================] - 0s 2ms/step - loss: 0.4152 - accuracy: 0.8434\n",
            "Epoch 40/100\n",
            "33/33 [==============================] - 0s 2ms/step - loss: 0.4133 - accuracy: 0.8472\n",
            "Epoch 41/100\n",
            "33/33 [==============================] - 0s 2ms/step - loss: 0.4112 - accuracy: 0.8500\n",
            "Epoch 42/100\n",
            "33/33 [==============================] - 0s 2ms/step - loss: 0.4093 - accuracy: 0.8500\n",
            "Epoch 43/100\n",
            "33/33 [==============================] - 0s 2ms/step - loss: 0.4075 - accuracy: 0.8510\n",
            "Epoch 44/100\n",
            "33/33 [==============================] - 0s 2ms/step - loss: 0.4059 - accuracy: 0.8529\n",
            "Epoch 45/100\n",
            "33/33 [==============================] - 0s 2ms/step - loss: 0.4044 - accuracy: 0.8529\n",
            "Epoch 46/100\n",
            "33/33 [==============================] - 0s 2ms/step - loss: 0.4028 - accuracy: 0.8529\n",
            "Epoch 47/100\n",
            "33/33 [==============================] - 0s 2ms/step - loss: 0.4015 - accuracy: 0.8529\n",
            "Epoch 48/100\n",
            "33/33 [==============================] - 0s 2ms/step - loss: 0.4003 - accuracy: 0.8529\n",
            "Epoch 49/100\n",
            "33/33 [==============================] - 0s 2ms/step - loss: 0.3989 - accuracy: 0.8529\n",
            "Epoch 50/100\n",
            "33/33 [==============================] - 0s 2ms/step - loss: 0.3979 - accuracy: 0.8529\n",
            "Epoch 51/100\n",
            "33/33 [==============================] - 0s 2ms/step - loss: 0.3968 - accuracy: 0.8539\n",
            "Epoch 52/100\n",
            "33/33 [==============================] - 0s 2ms/step - loss: 0.3957 - accuracy: 0.8539\n",
            "Epoch 53/100\n",
            "33/33 [==============================] - 0s 2ms/step - loss: 0.3947 - accuracy: 0.8539\n",
            "Epoch 54/100\n",
            "33/33 [==============================] - 0s 2ms/step - loss: 0.3939 - accuracy: 0.8539\n",
            "Epoch 55/100\n",
            "33/33 [==============================] - 0s 2ms/step - loss: 0.3930 - accuracy: 0.8539\n",
            "Epoch 56/100\n",
            "33/33 [==============================] - 0s 2ms/step - loss: 0.3922 - accuracy: 0.8539\n",
            "Epoch 57/100\n",
            "33/33 [==============================] - 0s 2ms/step - loss: 0.3915 - accuracy: 0.8539\n",
            "Epoch 58/100\n",
            "33/33 [==============================] - 0s 2ms/step - loss: 0.3907 - accuracy: 0.8539\n",
            "Epoch 59/100\n",
            "33/33 [==============================] - 0s 2ms/step - loss: 0.3900 - accuracy: 0.8539\n",
            "Epoch 60/100\n",
            "33/33 [==============================] - 0s 2ms/step - loss: 0.3894 - accuracy: 0.8548\n",
            "Epoch 61/100\n",
            "33/33 [==============================] - 0s 2ms/step - loss: 0.3889 - accuracy: 0.8548\n",
            "Epoch 62/100\n",
            "33/33 [==============================] - 0s 2ms/step - loss: 0.3882 - accuracy: 0.8548\n",
            "Epoch 63/100\n",
            "33/33 [==============================] - 0s 2ms/step - loss: 0.3878 - accuracy: 0.8548\n",
            "Epoch 64/100\n",
            "33/33 [==============================] - 0s 2ms/step - loss: 0.3872 - accuracy: 0.8548\n",
            "Epoch 65/100\n",
            "33/33 [==============================] - 0s 2ms/step - loss: 0.3867 - accuracy: 0.8548\n",
            "Epoch 66/100\n",
            "33/33 [==============================] - 0s 2ms/step - loss: 0.3861 - accuracy: 0.8548\n",
            "Epoch 67/100\n",
            "33/33 [==============================] - 0s 2ms/step - loss: 0.3860 - accuracy: 0.8558\n",
            "Epoch 68/100\n",
            "33/33 [==============================] - 0s 2ms/step - loss: 0.3857 - accuracy: 0.8558\n",
            "Epoch 69/100\n",
            "33/33 [==============================] - 0s 2ms/step - loss: 0.3849 - accuracy: 0.8558\n",
            "Epoch 70/100\n",
            "33/33 [==============================] - 0s 2ms/step - loss: 0.3846 - accuracy: 0.8558\n",
            "Epoch 71/100\n",
            "33/33 [==============================] - 0s 2ms/step - loss: 0.3841 - accuracy: 0.8558\n",
            "Epoch 72/100\n",
            "33/33 [==============================] - 0s 2ms/step - loss: 0.3838 - accuracy: 0.8558\n",
            "Epoch 73/100\n",
            "33/33 [==============================] - 0s 2ms/step - loss: 0.3834 - accuracy: 0.8558\n",
            "Epoch 74/100\n",
            "33/33 [==============================] - 0s 2ms/step - loss: 0.3831 - accuracy: 0.8558\n",
            "Epoch 75/100\n",
            "33/33 [==============================] - 0s 2ms/step - loss: 0.3827 - accuracy: 0.8558\n",
            "Epoch 76/100\n",
            "33/33 [==============================] - 0s 2ms/step - loss: 0.3824 - accuracy: 0.8558\n",
            "Epoch 77/100\n",
            "33/33 [==============================] - 0s 2ms/step - loss: 0.3821 - accuracy: 0.8558\n",
            "Epoch 78/100\n",
            "33/33 [==============================] - 0s 2ms/step - loss: 0.3819 - accuracy: 0.8558\n",
            "Epoch 79/100\n",
            "33/33 [==============================] - 0s 2ms/step - loss: 0.3816 - accuracy: 0.8558\n",
            "Epoch 80/100\n",
            "33/33 [==============================] - 0s 2ms/step - loss: 0.3813 - accuracy: 0.8558\n",
            "Epoch 81/100\n",
            "33/33 [==============================] - 0s 2ms/step - loss: 0.3811 - accuracy: 0.8558\n",
            "Epoch 82/100\n",
            "33/33 [==============================] - 0s 2ms/step - loss: 0.3808 - accuracy: 0.8558\n",
            "Epoch 83/100\n",
            "33/33 [==============================] - 0s 2ms/step - loss: 0.3805 - accuracy: 0.8567\n",
            "Epoch 84/100\n",
            "33/33 [==============================] - 0s 2ms/step - loss: 0.3804 - accuracy: 0.8567\n",
            "Epoch 85/100\n",
            "33/33 [==============================] - 0s 2ms/step - loss: 0.3801 - accuracy: 0.8567\n",
            "Epoch 86/100\n",
            "33/33 [==============================] - 0s 2ms/step - loss: 0.3799 - accuracy: 0.8567\n",
            "Epoch 87/100\n",
            "33/33 [==============================] - 0s 2ms/step - loss: 0.3797 - accuracy: 0.8567\n",
            "Epoch 88/100\n",
            "33/33 [==============================] - 0s 2ms/step - loss: 0.3794 - accuracy: 0.8567\n",
            "Epoch 89/100\n",
            "33/33 [==============================] - 0s 2ms/step - loss: 0.3793 - accuracy: 0.8567\n",
            "Epoch 90/100\n",
            "33/33 [==============================] - 0s 2ms/step - loss: 0.3791 - accuracy: 0.8567\n",
            "Epoch 91/100\n",
            "33/33 [==============================] - 0s 2ms/step - loss: 0.3789 - accuracy: 0.8567\n",
            "Epoch 92/100\n",
            "33/33 [==============================] - 0s 2ms/step - loss: 0.3787 - accuracy: 0.8567\n",
            "Epoch 93/100\n",
            "33/33 [==============================] - 0s 2ms/step - loss: 0.3785 - accuracy: 0.8567\n",
            "Epoch 94/100\n",
            "33/33 [==============================] - 0s 2ms/step - loss: 0.3784 - accuracy: 0.8567\n",
            "Epoch 95/100\n",
            "33/33 [==============================] - 0s 2ms/step - loss: 0.3782 - accuracy: 0.8567\n",
            "Epoch 96/100\n",
            "33/33 [==============================] - 0s 2ms/step - loss: 0.3780 - accuracy: 0.8567\n",
            "Epoch 97/100\n",
            "33/33 [==============================] - 0s 2ms/step - loss: 0.3779 - accuracy: 0.8567\n",
            "Epoch 98/100\n",
            "33/33 [==============================] - 0s 2ms/step - loss: 0.3778 - accuracy: 0.8567\n",
            "Epoch 99/100\n",
            "33/33 [==============================] - 0s 2ms/step - loss: 0.3776 - accuracy: 0.8567\n",
            "Epoch 100/100\n",
            "33/33 [==============================] - 0s 2ms/step - loss: 0.3774 - accuracy: 0.8567\n"
          ]
        },
        {
          "output_type": "execute_result",
          "data": {
            "text/plain": [
              "<keras.callbacks.History at 0x7fe628525b40>"
            ]
          },
          "metadata": {},
          "execution_count": 51
        }
      ]
    },
    {
      "cell_type": "code",
      "source": [
        "# Evaluate the model on the test data\n",
        "loss, accuracy = model.evaluate(X_test, y_test, verbose=0)\n",
        "print('Logistics regressionn Accuracy: %.2f' % (accuracy*100))"
      ],
      "metadata": {
        "colab": {
          "base_uri": "https://localhost:8080/"
        },
        "id": "Gsngh4BMim48",
        "outputId": "f1c07996-ee92-43f4-c726-21761a3a4974"
      },
      "execution_count": 52,
      "outputs": [
        {
          "output_type": "stream",
          "name": "stdout",
          "text": [
            "Logistics regressionn Accuracy: 85.11\n"
          ]
        }
      ]
    },
    {
      "cell_type": "markdown",
      "source": [
        "# Model 2: 64-32-16-8-1 using ANN\n",
        "\n"
      ],
      "metadata": {
        "id": "vcH5zaLpHIXB"
      }
    },
    {
      "cell_type": "code",
      "source": [
        "from tensorflow.keras.models import Sequential\n",
        "from tensorflow.keras.layers import Dense\n",
        "\n",
        "# Define a more complex model with more layers and neurons\n",
        "model1 = Sequential()\n",
        "model1.add(Dense(64, input_dim=X_train.shape[1], activation='relu'))\n",
        "model1.add(Dense(32, activation='relu'))\n",
        "model1.add(Dense(16, activation='relu'))\n",
        "model1.add(Dense(8, activation='relu'))\n",
        "model1.add(Dense(1, activation='sigmoid'))\n",
        "\n",
        "# Compile the model\n",
        "model1.compile(optimizer='adam', loss='binary_crossentropy', metrics=['accuracy'])\n",
        "\n",
        "# Train the model for a large number of epochs\n",
        "history = model1.fit(X_train, y_train, epochs=100, batch_size=32, validation_data=(X_test, y_test), verbose=0)\n"
      ],
      "metadata": {
        "id": "Y6PDXvOWkYqw"
      },
      "execution_count": 53,
      "outputs": []
    },
    {
      "cell_type": "code",
      "source": [
        "import matplotlib.pyplot as plt\n",
        "\n",
        "# Plot the training and validation loss and accuracy\n",
        "train_loss = history.history['loss']\n",
        "val_loss = history.history['val_loss']\n",
        "train_acc = history.history['accuracy']\n",
        "val_acc = history.history['val_accuracy']\n",
        "\n",
        "plt.figure(figsize=(8, 4))\n",
        "plt.subplot(1, 2, 1)\n",
        "plt.plot(train_loss, label='train')\n",
        "plt.plot(val_loss, label='val')\n",
        "plt.legend()\n",
        "plt.title('Loss')\n",
        "\n",
        "plt.subplot(1, 2, 2)\n",
        "plt.plot(train_acc, label='train')\n",
        "plt.plot(val_acc, label='val')\n",
        "plt.legend()\n",
        "plt.title('Accuracy')\n",
        "plt.show()\n"
      ],
      "metadata": {
        "colab": {
          "base_uri": "https://localhost:8080/",
          "height": 391
        },
        "id": "8dz8qtiXms5J",
        "outputId": "fb52a5b2-2e41-4c9f-e01f-328339a10dbc"
      },
      "execution_count": 54,
      "outputs": [
        {
          "output_type": "display_data",
          "data": {
            "text/plain": [
              "<Figure size 800x400 with 2 Axes>"
            ],
            "image/png": "[encoded data removed]"
          },
          "metadata": {}
        }
      ]
    },
    {
      "cell_type": "code",
      "source": [],
      "metadata": {
        "id": "ToZeWzTknTK5"
      },
      "execution_count": 54,
      "outputs": []
    },
    {
      "cell_type": "code",
      "source": [
        "# Evaluate the model on the test data\n",
        "loss, accuracy = model1.evaluate(X_test, y_test, verbose=0)\n",
        "print('Model 2 Accuracy: %.2f' % (accuracy*100))"
      ],
      "metadata": {
        "colab": {
          "base_uri": "https://localhost:8080/"
        },
        "outputId": "9b541607-fb37-4bf4-adff-3e15e65d090c",
        "id": "cgPCZguYnfGe"
      },
      "execution_count": 55,
      "outputs": [
        {
          "output_type": "stream",
          "name": "stdout",
          "text": [
            "Model 2 Accuracy: 81.68\n"
          ]
        }
      ]
    },
    {
      "cell_type": "markdown",
      "source": [
        "# *Model 3: (32-16-8-1) ANN*"
      ],
      "metadata": {
        "id": "QD5rnXogIGsI"
      }
    },
    {
      "cell_type": "code",
      "source": [
        "from tensorflow.keras.models import Sequential\n",
        "from tensorflow.keras.layers import Dense\n",
        "\n",
        "# Define a more complex model with more layers and neurons\n",
        "model_3 = Sequential()\n",
        "model_3.add(Dense(32, input_dim=X_train.shape[1], activation='relu'))\n",
        "model_3.add(Dense(16, activation='relu'))\n",
        "model_3.add(Dense(8, activation='relu'))\n",
        "model_3.add(Dense(1, activation='sigmoid'))\n",
        "\n",
        "# Compile the model\n",
        "model_3.compile(optimizer='adam', loss='binary_crossentropy', metrics=['accuracy'])\n",
        "\n",
        "# Train the model for a large number of epochs\n",
        "history = model_3.fit(X_train, y_train, epochs=100, batch_size=32, validation_data=(X_test, y_test), verbose=0)"
      ],
      "metadata": {
        "id": "y5OpCgA-ngLZ"
      },
      "execution_count": 56,
      "outputs": []
    },
    {
      "cell_type": "code",
      "source": [
        "import matplotlib.pyplot as plt\n",
        "\n",
        "# Plot the training and validation loss and accuracy\n",
        "train_loss = history.history['loss']\n",
        "val_loss = history.history['val_loss']\n",
        "train_acc = history.history['accuracy']\n",
        "val_acc = history.history['val_accuracy']\n",
        "\n",
        "plt.figure(figsize=(8, 4))\n",
        "plt.subplot(1, 2, 1)\n",
        "plt.plot(train_loss, label='train')\n",
        "plt.plot(val_loss, label='val')\n",
        "plt.legend()\n",
        "plt.title('Loss')\n",
        "\n",
        "plt.subplot(1, 2, 2)\n",
        "plt.plot(train_acc, label='train')\n",
        "plt.plot(val_acc, label='val')\n",
        "plt.legend()\n",
        "plt.title('Accuracy')\n",
        "plt.show()\n"
      ],
      "metadata": {
        "colab": {
          "base_uri": "https://localhost:8080/",
          "height": 391
        },
        "id": "_rAiRXbjIW-x",
        "outputId": "74f822d4-17c0-4606-9dd8-89709aad4cbc"
      },
      "execution_count": 57,
      "outputs": [
        {
          "output_type": "display_data",
          "data": {
            "text/plain": [
              "<Figure size 800x400 with 2 Axes>"
            ],
            "image/png": "[encoded data removed]"
          },
          "metadata": {}
        }
      ]
    },
    {
      "cell_type": "code",
      "source": [
        "# Evaluate the model on the test data\n",
        "loss, accuracy = model_3.evaluate(X_test, y_test, verbose=0)\n",
        "print('Model 3 Accuracy: %.2f' % (accuracy*100))"
      ],
      "metadata": {
        "colab": {
          "base_uri": "https://localhost:8080/"
        },
        "id": "8iQN3W78Iht6",
        "outputId": "843bf6b4-acea-4efa-9d23-873d3ab54598"
      },
      "execution_count": 58,
      "outputs": [
        {
          "output_type": "stream",
          "name": "stdout",
          "text": [
            "Model 3 Accuracy: 84.35\n"
          ]
        }
      ]
    },
    {
      "cell_type": "markdown",
      "source": [
        "# Model 4:(16-8-1) ANN\n"
      ],
      "metadata": {
        "id": "p5X_MCH4JOPl"
      }
    },
    {
      "cell_type": "code",
      "source": [
        "from tensorflow.keras.models import Sequential\n",
        "from tensorflow.keras.layers import Dense\n",
        "\n",
        "# Define a more complex model with more layers and neurons\n",
        "model_4 = Sequential()\n",
        "model_4.add(Dense(16, input_dim=X_train.shape[1], activation='relu'))\n",
        "model_4.add(Dense(8, activation='relu'))\n",
        "model_4.add(Dense(1, activation='sigmoid'))\n",
        "\n",
        "# Compile the model\n",
        "model_4.compile(optimizer='SGD', loss='binary_crossentropy', metrics=['accuracy'])\n",
        "\n",
        "# Train the model for a large number of epochs\n",
        "history = model_4.fit(X_train, y_train, epochs=100, batch_size=32, validation_data=(X_test, y_test), verbose=0)"
      ],
      "metadata": {
        "id": "OTiLoVVII0Yc"
      },
      "execution_count": 59,
      "outputs": []
    },
    {
      "cell_type": "code",
      "source": [
        "import matplotlib.pyplot as plt\n",
        "\n",
        "# Plot the training and validation loss and accuracy\n",
        "train_loss = history.history['loss']\n",
        "val_loss = history.history['val_loss']\n",
        "train_acc = history.history['accuracy']\n",
        "val_acc = history.history['val_accuracy']\n",
        "\n",
        "plt.figure(figsize=(8, 4))\n",
        "plt.subplot(1, 2, 1)\n",
        "plt.plot(train_loss, label='train')\n",
        "plt.plot(val_loss, label='val')\n",
        "plt.legend()\n",
        "plt.title('Loss')\n",
        "\n",
        "plt.subplot(1, 2, 2)\n",
        "plt.plot(train_acc, label='train')\n",
        "plt.plot(val_acc, label='val')\n",
        "plt.legend()\n",
        "plt.title('Accuracy')\n",
        "plt.show()\n"
      ],
      "metadata": {
        "colab": {
          "base_uri": "https://localhost:8080/",
          "height": 391
        },
        "id": "I5GSDRHIJkri",
        "outputId": "f247812a-f1b9-4288-d6e3-9649054bcdb2"
      },
      "execution_count": 60,
      "outputs": [
        {
          "output_type": "display_data",
          "data": {
            "text/plain": [
              "<Figure size 800x400 with 2 Axes>"
            ],
            "image/png": "[encoded data removed]"
          },
          "metadata": {}
        }
      ]
    },
    {
      "cell_type": "code",
      "source": [
        "# Evaluate the model on the test data\n",
        "loss, accuracy = model_4.evaluate(X_test, y_test, verbose=0)\n",
        "print('Model 4 Accuracy: %.2f' % (accuracy*100))"
      ],
      "metadata": {
        "colab": {
          "base_uri": "https://localhost:8080/"
        },
        "id": "Ot5_8eQ7Jt0x",
        "outputId": "ccc3afc4-5776-4b24-ecdf-9e929edfc150"
      },
      "execution_count": 61,
      "outputs": [
        {
          "output_type": "stream",
          "name": "stdout",
          "text": [
            "Model 4 Accuracy: 86.26\n"
          ]
        }
      ]
    },
    {
      "cell_type": "markdown",
      "source": [
        "# **Model 5: 8-1 ANN**"
      ],
      "metadata": {
        "id": "FrPtP7ndKHT2"
      }
    },
    {
      "cell_type": "code",
      "source": [
        "from tensorflow.keras.models import Sequential\n",
        "from tensorflow.keras.layers import Dense\n",
        "\n",
        "# Define a more complex model with more layers and neurons\n",
        "model_5 = Sequential()\n",
        "model_5.add(Dense(8, input_dim=X_train.shape[1], activation='relu'))\n",
        "model_5.add(Dense(1, activation='sigmoid'))\n",
        "\n",
        "# Compile the model\n",
        "model_5.compile(optimizer='SGD', loss='binary_crossentropy', metrics=['accuracy'])\n",
        "\n",
        "# Train the model for a large number of epochs\n",
        "history = model_5.fit(X_train, y_train, epochs=100, batch_size=32, validation_data=(X_test, y_test), verbose=0)"
      ],
      "metadata": {
        "id": "iWqDcoyWJyu4"
      },
      "execution_count": 62,
      "outputs": []
    },
    {
      "cell_type": "code",
      "source": [
        "import matplotlib.pyplot as plt\n",
        "\n",
        "# Plot the training and validation loss and accuracy\n",
        "train_loss = history.history['loss']\n",
        "val_loss = history.history['val_loss']\n",
        "train_acc = history.history['accuracy']\n",
        "val_acc = history.history['val_accuracy']\n",
        "\n",
        "plt.figure(figsize=(8, 4))\n",
        "plt.subplot(1, 2, 1)\n",
        "plt.plot(train_loss, label='train')\n",
        "plt.plot(val_loss, label='val')\n",
        "plt.legend()\n",
        "plt.title('Loss')\n",
        "\n",
        "plt.subplot(1, 2, 2)\n",
        "plt.plot(train_acc, label='train')\n",
        "plt.plot(val_acc, label='val')\n",
        "plt.legend()\n",
        "plt.title('Accuracy')\n",
        "plt.show()\n"
      ],
      "metadata": {
        "colab": {
          "base_uri": "https://localhost:8080/",
          "height": 391
        },
        "id": "n0LRU33kKaJT",
        "outputId": "c1506bcb-b4ba-4f76-a1b9-dc790e103f0b"
      },
      "execution_count": 63,
      "outputs": [
        {
          "output_type": "display_data",
          "data": {
            "text/plain": [
              "<Figure size 800x400 with 2 Axes>"
            ],
            "image/png": "[encoded data removed]"
          },
          "metadata": {}
        }
      ]
    },
    {
      "cell_type": "code",
      "source": [
        "# Evaluate the model on the test data\n",
        "loss, accuracy = model_5.evaluate(X_test, y_test, verbose=0)\n",
        "print('Model 5 Accuracy: %.2f' % (accuracy*100))"
      ],
      "metadata": {
        "colab": {
          "base_uri": "https://localhost:8080/"
        },
        "id": "6SgyFGFnKgEL",
        "outputId": "8f75441f-4902-42d6-c8ff-906e70218ea3"
      },
      "execution_count": 64,
      "outputs": [
        {
          "output_type": "stream",
          "name": "stdout",
          "text": [
            "Model 5 Accuracy: 84.73\n"
          ]
        }
      ]
    },
    {
      "cell_type": "markdown",
      "source": [
        "# Model 6: (4-1) ANN"
      ],
      "metadata": {
        "id": "WCVz7bstKtCY"
      }
    },
    {
      "cell_type": "code",
      "source": [
        "from tensorflow.keras.models import Sequential\n",
        "from tensorflow.keras.layers import Dense\n",
        "\n",
        "# Define a more complex model with more layers and neurons\n",
        "model_6 = Sequential()\n",
        "model_6.add(Dense(4, input_dim=X_train.shape[1], activation='relu'))\n",
        "model_6.add(Dense(1, activation='sigmoid'))\n",
        "\n",
        "# Compile the model\n",
        "model_6.compile(optimizer='SGD', loss='binary_crossentropy', metrics=['accuracy'])\n",
        "\n",
        "# Train the model for a large number of epochs\n",
        "history = model_6.fit(X_train, y_train, epochs=100, batch_size=32, validation_data=(X_test, y_test), verbose=1)"
      ],
      "metadata": {
        "colab": {
          "base_uri": "https://localhost:8080/"
        },
        "id": "R4jaiRZ1KlaO",
        "outputId": "0be00840-be13-489e-a249-4a6fc35ca55e"
      },
      "execution_count": 65,
      "outputs": [
        {
          "output_type": "stream",
          "name": "stdout",
          "text": [
            "Epoch 1/100\n",
            "33/33 [==============================] - 1s 9ms/step - loss: 0.6545 - accuracy: 0.6543 - val_loss: 0.6362 - val_accuracy: 0.6947\n",
            "Epoch 2/100\n",
            "33/33 [==============================] - 0s 4ms/step - loss: 0.6273 - accuracy: 0.6810 - val_loss: 0.6141 - val_accuracy: 0.7099\n",
            "Epoch 3/100\n",
            "33/33 [==============================] - 0s 4ms/step - loss: 0.6054 - accuracy: 0.6953 - val_loss: 0.5950 - val_accuracy: 0.7099\n",
            "Epoch 4/100\n",
            "33/33 [==============================] - 0s 4ms/step - loss: 0.5863 - accuracy: 0.7049 - val_loss: 0.5784 - val_accuracy: 0.7176\n",
            "Epoch 5/100\n",
            "33/33 [==============================] - 0s 3ms/step - loss: 0.5696 - accuracy: 0.7173 - val_loss: 0.5637 - val_accuracy: 0.7290\n",
            "Epoch 6/100\n",
            "33/33 [==============================] - 0s 3ms/step - loss: 0.5545 - accuracy: 0.7297 - val_loss: 0.5506 - val_accuracy: 0.7366\n",
            "Epoch 7/100\n",
            "33/33 [==============================] - 0s 4ms/step - loss: 0.5410 - accuracy: 0.7402 - val_loss: 0.5392 - val_accuracy: 0.7443\n",
            "Epoch 8/100\n",
            "33/33 [==============================] - 0s 6ms/step - loss: 0.5293 - accuracy: 0.7526 - val_loss: 0.5288 - val_accuracy: 0.7557\n",
            "Epoch 9/100\n",
            "33/33 [==============================] - 0s 5ms/step - loss: 0.5180 - accuracy: 0.7622 - val_loss: 0.5191 - val_accuracy: 0.7672\n",
            "Epoch 10/100\n",
            "33/33 [==============================] - 0s 5ms/step - loss: 0.5081 - accuracy: 0.7679 - val_loss: 0.5101 - val_accuracy: 0.7786\n",
            "Epoch 11/100\n",
            "33/33 [==============================] - 0s 4ms/step - loss: 0.4987 - accuracy: 0.7822 - val_loss: 0.5019 - val_accuracy: 0.7901\n",
            "Epoch 12/100\n",
            "33/33 [==============================] - 0s 5ms/step - loss: 0.4903 - accuracy: 0.7908 - val_loss: 0.4949 - val_accuracy: 0.8053\n",
            "Epoch 13/100\n",
            "33/33 [==============================] - 0s 5ms/step - loss: 0.4828 - accuracy: 0.7937 - val_loss: 0.4884 - val_accuracy: 0.8092\n",
            "Epoch 14/100\n",
            "33/33 [==============================] - 0s 5ms/step - loss: 0.4760 - accuracy: 0.8080 - val_loss: 0.4825 - val_accuracy: 0.8206\n",
            "Epoch 15/100\n",
            "33/33 [==============================] - 0s 5ms/step - loss: 0.4697 - accuracy: 0.8185 - val_loss: 0.4771 - val_accuracy: 0.8473\n",
            "Epoch 16/100\n",
            "33/33 [==============================] - 0s 6ms/step - loss: 0.4638 - accuracy: 0.8319 - val_loss: 0.4721 - val_accuracy: 0.8473\n",
            "Epoch 17/100\n",
            "33/33 [==============================] - 0s 5ms/step - loss: 0.4584 - accuracy: 0.8386 - val_loss: 0.4674 - val_accuracy: 0.8473\n",
            "Epoch 18/100\n",
            "33/33 [==============================] - 0s 5ms/step - loss: 0.4535 - accuracy: 0.8510 - val_loss: 0.4634 - val_accuracy: 0.8511\n",
            "Epoch 19/100\n",
            "33/33 [==============================] - 0s 7ms/step - loss: 0.4490 - accuracy: 0.8510 - val_loss: 0.4595 - val_accuracy: 0.8473\n",
            "Epoch 20/100\n",
            "33/33 [==============================] - 0s 6ms/step - loss: 0.4448 - accuracy: 0.8558 - val_loss: 0.4559 - val_accuracy: 0.8397\n",
            "Epoch 21/100\n",
            "33/33 [==============================] - 0s 5ms/step - loss: 0.4409 - accuracy: 0.8606 - val_loss: 0.4527 - val_accuracy: 0.8397\n",
            "Epoch 22/100\n",
            "33/33 [==============================] - 0s 6ms/step - loss: 0.4375 - accuracy: 0.8586 - val_loss: 0.4496 - val_accuracy: 0.8435\n",
            "Epoch 23/100\n",
            "33/33 [==============================] - 0s 6ms/step - loss: 0.4342 - accuracy: 0.8596 - val_loss: 0.4468 - val_accuracy: 0.8435\n",
            "Epoch 24/100\n",
            "33/33 [==============================] - 0s 7ms/step - loss: 0.4311 - accuracy: 0.8615 - val_loss: 0.4443 - val_accuracy: 0.8435\n",
            "Epoch 25/100\n",
            "33/33 [==============================] - 0s 5ms/step - loss: 0.4284 - accuracy: 0.8596 - val_loss: 0.4419 - val_accuracy: 0.8435\n",
            "Epoch 26/100\n",
            "33/33 [==============================] - 0s 5ms/step - loss: 0.4259 - accuracy: 0.8596 - val_loss: 0.4396 - val_accuracy: 0.8435\n",
            "Epoch 27/100\n",
            "33/33 [==============================] - 0s 4ms/step - loss: 0.4233 - accuracy: 0.8596 - val_loss: 0.4376 - val_accuracy: 0.8511\n",
            "Epoch 28/100\n",
            "33/33 [==============================] - 0s 4ms/step - loss: 0.4212 - accuracy: 0.8596 - val_loss: 0.4359 - val_accuracy: 0.8511\n",
            "Epoch 29/100\n",
            "33/33 [==============================] - 0s 6ms/step - loss: 0.4190 - accuracy: 0.8615 - val_loss: 0.4341 - val_accuracy: 0.8511\n",
            "Epoch 30/100\n",
            "33/33 [==============================] - 0s 5ms/step - loss: 0.4170 - accuracy: 0.8625 - val_loss: 0.4325 - val_accuracy: 0.8473\n",
            "Epoch 31/100\n",
            "33/33 [==============================] - 0s 6ms/step - loss: 0.4151 - accuracy: 0.8634 - val_loss: 0.4308 - val_accuracy: 0.8473\n",
            "Epoch 32/100\n",
            "33/33 [==============================] - 0s 4ms/step - loss: 0.4133 - accuracy: 0.8615 - val_loss: 0.4293 - val_accuracy: 0.8473\n",
            "Epoch 33/100\n",
            "33/33 [==============================] - 0s 3ms/step - loss: 0.4114 - accuracy: 0.8606 - val_loss: 0.4280 - val_accuracy: 0.8473\n",
            "Epoch 34/100\n",
            "33/33 [==============================] - 0s 4ms/step - loss: 0.4097 - accuracy: 0.8625 - val_loss: 0.4262 - val_accuracy: 0.8473\n",
            "Epoch 35/100\n",
            "33/33 [==============================] - 0s 3ms/step - loss: 0.4081 - accuracy: 0.8615 - val_loss: 0.4252 - val_accuracy: 0.8473\n",
            "Epoch 36/100\n",
            "33/33 [==============================] - 0s 4ms/step - loss: 0.4067 - accuracy: 0.8606 - val_loss: 0.4239 - val_accuracy: 0.8473\n",
            "Epoch 37/100\n",
            "33/33 [==============================] - 0s 3ms/step - loss: 0.4052 - accuracy: 0.8606 - val_loss: 0.4225 - val_accuracy: 0.8473\n",
            "Epoch 38/100\n",
            "33/33 [==============================] - 0s 3ms/step - loss: 0.4038 - accuracy: 0.8606 - val_loss: 0.4215 - val_accuracy: 0.8511\n",
            "Epoch 39/100\n",
            "33/33 [==============================] - 0s 3ms/step - loss: 0.4024 - accuracy: 0.8615 - val_loss: 0.4203 - val_accuracy: 0.8511\n",
            "Epoch 40/100\n",
            "33/33 [==============================] - 0s 4ms/step - loss: 0.4010 - accuracy: 0.8606 - val_loss: 0.4194 - val_accuracy: 0.8511\n",
            "Epoch 41/100\n",
            "33/33 [==============================] - 0s 4ms/step - loss: 0.3998 - accuracy: 0.8606 - val_loss: 0.4181 - val_accuracy: 0.8511\n",
            "Epoch 42/100\n",
            "33/33 [==============================] - 0s 3ms/step - loss: 0.3986 - accuracy: 0.8625 - val_loss: 0.4170 - val_accuracy: 0.8511\n",
            "Epoch 43/100\n",
            "33/33 [==============================] - 0s 3ms/step - loss: 0.3974 - accuracy: 0.8615 - val_loss: 0.4162 - val_accuracy: 0.8511\n",
            "Epoch 44/100\n",
            "33/33 [==============================] - 0s 3ms/step - loss: 0.3966 - accuracy: 0.8606 - val_loss: 0.4154 - val_accuracy: 0.8511\n",
            "Epoch 45/100\n",
            "33/33 [==============================] - 0s 3ms/step - loss: 0.3955 - accuracy: 0.8577 - val_loss: 0.4145 - val_accuracy: 0.8511\n",
            "Epoch 46/100\n",
            "33/33 [==============================] - 0s 3ms/step - loss: 0.3945 - accuracy: 0.8596 - val_loss: 0.4135 - val_accuracy: 0.8511\n",
            "Epoch 47/100\n",
            "33/33 [==============================] - 0s 3ms/step - loss: 0.3934 - accuracy: 0.8596 - val_loss: 0.4129 - val_accuracy: 0.8511\n",
            "Epoch 48/100\n",
            "33/33 [==============================] - 0s 3ms/step - loss: 0.3925 - accuracy: 0.8596 - val_loss: 0.4120 - val_accuracy: 0.8511\n",
            "Epoch 49/100\n",
            "33/33 [==============================] - 0s 4ms/step - loss: 0.3917 - accuracy: 0.8586 - val_loss: 0.4113 - val_accuracy: 0.8511\n",
            "Epoch 50/100\n",
            "33/33 [==============================] - 0s 3ms/step - loss: 0.3909 - accuracy: 0.8577 - val_loss: 0.4103 - val_accuracy: 0.8511\n",
            "Epoch 51/100\n",
            "33/33 [==============================] - 0s 3ms/step - loss: 0.3901 - accuracy: 0.8586 - val_loss: 0.4096 - val_accuracy: 0.8511\n",
            "Epoch 52/100\n",
            "33/33 [==============================] - 0s 4ms/step - loss: 0.3894 - accuracy: 0.8596 - val_loss: 0.4093 - val_accuracy: 0.8473\n",
            "Epoch 53/100\n",
            "33/33 [==============================] - 0s 3ms/step - loss: 0.3888 - accuracy: 0.8586 - val_loss: 0.4090 - val_accuracy: 0.8473\n",
            "Epoch 54/100\n",
            "33/33 [==============================] - 0s 3ms/step - loss: 0.3879 - accuracy: 0.8586 - val_loss: 0.4079 - val_accuracy: 0.8473\n",
            "Epoch 55/100\n",
            "33/33 [==============================] - 0s 3ms/step - loss: 0.3871 - accuracy: 0.8577 - val_loss: 0.4077 - val_accuracy: 0.8473\n",
            "Epoch 56/100\n",
            "33/33 [==============================] - 0s 3ms/step - loss: 0.3865 - accuracy: 0.8586 - val_loss: 0.4075 - val_accuracy: 0.8473\n",
            "Epoch 57/100\n",
            "33/33 [==============================] - 0s 4ms/step - loss: 0.3861 - accuracy: 0.8586 - val_loss: 0.4068 - val_accuracy: 0.8473\n",
            "Epoch 58/100\n",
            "33/33 [==============================] - 0s 3ms/step - loss: 0.3853 - accuracy: 0.8586 - val_loss: 0.4063 - val_accuracy: 0.8473\n",
            "Epoch 59/100\n",
            "33/33 [==============================] - 0s 3ms/step - loss: 0.3849 - accuracy: 0.8577 - val_loss: 0.4057 - val_accuracy: 0.8473\n",
            "Epoch 60/100\n",
            "33/33 [==============================] - 0s 3ms/step - loss: 0.3843 - accuracy: 0.8586 - val_loss: 0.4052 - val_accuracy: 0.8473\n",
            "Epoch 61/100\n",
            "33/33 [==============================] - 0s 3ms/step - loss: 0.3836 - accuracy: 0.8577 - val_loss: 0.4046 - val_accuracy: 0.8473\n",
            "Epoch 62/100\n",
            "33/33 [==============================] - 0s 3ms/step - loss: 0.3831 - accuracy: 0.8596 - val_loss: 0.4045 - val_accuracy: 0.8473\n",
            "Epoch 63/100\n",
            "33/33 [==============================] - 0s 3ms/step - loss: 0.3826 - accuracy: 0.8586 - val_loss: 0.4041 - val_accuracy: 0.8473\n",
            "Epoch 64/100\n",
            "33/33 [==============================] - 0s 3ms/step - loss: 0.3821 - accuracy: 0.8586 - val_loss: 0.4031 - val_accuracy: 0.8473\n",
            "Epoch 65/100\n",
            "33/33 [==============================] - 0s 3ms/step - loss: 0.3817 - accuracy: 0.8586 - val_loss: 0.4028 - val_accuracy: 0.8473\n",
            "Epoch 66/100\n",
            "33/33 [==============================] - 0s 4ms/step - loss: 0.3813 - accuracy: 0.8586 - val_loss: 0.4024 - val_accuracy: 0.8473\n",
            "Epoch 67/100\n",
            "33/33 [==============================] - 0s 3ms/step - loss: 0.3807 - accuracy: 0.8596 - val_loss: 0.4022 - val_accuracy: 0.8473\n",
            "Epoch 68/100\n",
            "33/33 [==============================] - 0s 4ms/step - loss: 0.3805 - accuracy: 0.8586 - val_loss: 0.4014 - val_accuracy: 0.8473\n",
            "Epoch 69/100\n",
            "33/33 [==============================] - 0s 3ms/step - loss: 0.3798 - accuracy: 0.8586 - val_loss: 0.4010 - val_accuracy: 0.8473\n",
            "Epoch 70/100\n",
            "33/33 [==============================] - 0s 3ms/step - loss: 0.3795 - accuracy: 0.8596 - val_loss: 0.4008 - val_accuracy: 0.8473\n",
            "Epoch 71/100\n",
            "33/33 [==============================] - 0s 3ms/step - loss: 0.3789 - accuracy: 0.8596 - val_loss: 0.4004 - val_accuracy: 0.8473\n",
            "Epoch 72/100\n",
            "33/33 [==============================] - 0s 4ms/step - loss: 0.3787 - accuracy: 0.8586 - val_loss: 0.4001 - val_accuracy: 0.8473\n",
            "Epoch 73/100\n",
            "33/33 [==============================] - 0s 4ms/step - loss: 0.3781 - accuracy: 0.8586 - val_loss: 0.3996 - val_accuracy: 0.8473\n",
            "Epoch 74/100\n",
            "33/33 [==============================] - 0s 5ms/step - loss: 0.3778 - accuracy: 0.8586 - val_loss: 0.3990 - val_accuracy: 0.8511\n",
            "Epoch 75/100\n",
            "33/33 [==============================] - 0s 4ms/step - loss: 0.3776 - accuracy: 0.8596 - val_loss: 0.3988 - val_accuracy: 0.8473\n",
            "Epoch 76/100\n",
            "33/33 [==============================] - 0s 3ms/step - loss: 0.3773 - accuracy: 0.8596 - val_loss: 0.3988 - val_accuracy: 0.8473\n",
            "Epoch 77/100\n",
            "33/33 [==============================] - 0s 4ms/step - loss: 0.3768 - accuracy: 0.8586 - val_loss: 0.3984 - val_accuracy: 0.8473\n",
            "Epoch 78/100\n",
            "33/33 [==============================] - 0s 3ms/step - loss: 0.3763 - accuracy: 0.8586 - val_loss: 0.3976 - val_accuracy: 0.8511\n",
            "Epoch 79/100\n",
            "33/33 [==============================] - 0s 3ms/step - loss: 0.3762 - accuracy: 0.8586 - val_loss: 0.3973 - val_accuracy: 0.8511\n",
            "Epoch 80/100\n",
            "33/33 [==============================] - 0s 4ms/step - loss: 0.3758 - accuracy: 0.8596 - val_loss: 0.3972 - val_accuracy: 0.8473\n",
            "Epoch 81/100\n",
            "33/33 [==============================] - 0s 3ms/step - loss: 0.3757 - accuracy: 0.8577 - val_loss: 0.3972 - val_accuracy: 0.8473\n",
            "Epoch 82/100\n",
            "33/33 [==============================] - 0s 3ms/step - loss: 0.3755 - accuracy: 0.8596 - val_loss: 0.3968 - val_accuracy: 0.8473\n",
            "Epoch 83/100\n",
            "33/33 [==============================] - 0s 4ms/step - loss: 0.3751 - accuracy: 0.8596 - val_loss: 0.3965 - val_accuracy: 0.8473\n",
            "Epoch 84/100\n",
            "33/33 [==============================] - 0s 3ms/step - loss: 0.3748 - accuracy: 0.8596 - val_loss: 0.3961 - val_accuracy: 0.8473\n",
            "Epoch 85/100\n",
            "33/33 [==============================] - 0s 3ms/step - loss: 0.3748 - accuracy: 0.8577 - val_loss: 0.3958 - val_accuracy: 0.8473\n",
            "Epoch 86/100\n",
            "33/33 [==============================] - 0s 3ms/step - loss: 0.3742 - accuracy: 0.8577 - val_loss: 0.3952 - val_accuracy: 0.8473\n",
            "Epoch 87/100\n",
            "33/33 [==============================] - 0s 3ms/step - loss: 0.3740 - accuracy: 0.8586 - val_loss: 0.3951 - val_accuracy: 0.8473\n",
            "Epoch 88/100\n",
            "33/33 [==============================] - 0s 3ms/step - loss: 0.3738 - accuracy: 0.8577 - val_loss: 0.3946 - val_accuracy: 0.8511\n",
            "Epoch 89/100\n",
            "33/33 [==============================] - 0s 3ms/step - loss: 0.3735 - accuracy: 0.8596 - val_loss: 0.3943 - val_accuracy: 0.8511\n",
            "Epoch 90/100\n",
            "33/33 [==============================] - 0s 3ms/step - loss: 0.3733 - accuracy: 0.8586 - val_loss: 0.3943 - val_accuracy: 0.8473\n",
            "Epoch 91/100\n",
            "33/33 [==============================] - 0s 4ms/step - loss: 0.3729 - accuracy: 0.8596 - val_loss: 0.3943 - val_accuracy: 0.8473\n",
            "Epoch 92/100\n",
            "33/33 [==============================] - 0s 4ms/step - loss: 0.3729 - accuracy: 0.8586 - val_loss: 0.3941 - val_accuracy: 0.8473\n",
            "Epoch 93/100\n",
            "33/33 [==============================] - 0s 3ms/step - loss: 0.3731 - accuracy: 0.8586 - val_loss: 0.3939 - val_accuracy: 0.8473\n",
            "Epoch 94/100\n",
            "33/33 [==============================] - 0s 4ms/step - loss: 0.3726 - accuracy: 0.8586 - val_loss: 0.3932 - val_accuracy: 0.8473\n",
            "Epoch 95/100\n",
            "33/33 [==============================] - 0s 3ms/step - loss: 0.3723 - accuracy: 0.8586 - val_loss: 0.3933 - val_accuracy: 0.8473\n",
            "Epoch 96/100\n",
            "33/33 [==============================] - 0s 3ms/step - loss: 0.3720 - accuracy: 0.8586 - val_loss: 0.3931 - val_accuracy: 0.8473\n",
            "Epoch 97/100\n",
            "33/33 [==============================] - 0s 3ms/step - loss: 0.3717 - accuracy: 0.8577 - val_loss: 0.3922 - val_accuracy: 0.8511\n",
            "Epoch 98/100\n",
            "33/33 [==============================] - 0s 3ms/step - loss: 0.3716 - accuracy: 0.8596 - val_loss: 0.3922 - val_accuracy: 0.8473\n",
            "Epoch 99/100\n",
            "33/33 [==============================] - 0s 3ms/step - loss: 0.3711 - accuracy: 0.8596 - val_loss: 0.3917 - val_accuracy: 0.8511\n",
            "Epoch 100/100\n",
            "33/33 [==============================] - 0s 3ms/step - loss: 0.3711 - accuracy: 0.8596 - val_loss: 0.3920 - val_accuracy: 0.8473\n"
          ]
        }
      ]
    },
    {
      "cell_type": "code",
      "source": [
        "import matplotlib.pyplot as plt\n",
        "\n",
        "# Plot the training and validation loss and accuracy\n",
        "train_loss = history.history['loss']\n",
        "val_loss = history.history['val_loss']\n",
        "train_acc = history.history['accuracy']\n",
        "val_acc = history.history['val_accuracy']\n",
        "\n",
        "plt.figure(figsize=(8, 4))\n",
        "plt.subplot(1, 2, 1)\n",
        "plt.plot(train_loss, label='train')\n",
        "plt.plot(val_loss, label='val')\n",
        "plt.legend()\n",
        "plt.title('Loss')\n",
        "\n",
        "plt.subplot(1, 2, 2)\n",
        "plt.plot(train_acc, label='train')\n",
        "plt.plot(val_acc, label='val')\n",
        "plt.legend()\n",
        "plt.title('Accuracy')\n",
        "plt.show()\n"
      ],
      "metadata": {
        "colab": {
          "base_uri": "https://localhost:8080/",
          "height": 391
        },
        "id": "AuP5GAKfK5X4",
        "outputId": "985be62c-d753-4d9d-a4ad-c2bec9c8b6c0"
      },
      "execution_count": 66,
      "outputs": [
        {
          "output_type": "display_data",
          "data": {
            "text/plain": [
              "<Figure size 800x400 with 2 Axes>"
            ],
            "image/png": "[encoded data removed]"
          },
          "metadata": {}
        }
      ]
    },
    {
      "cell_type": "code",
      "source": [
        "# Evaluate the model on the test data\n",
        "loss, accuracy = model_6.evaluate(X_test, y_test, verbose=0)\n",
        "print('Model 6 Accuracy: %.2f' % (accuracy*100))"
      ],
      "metadata": {
        "colab": {
          "base_uri": "https://localhost:8080/"
        },
        "id": "UPpY3oLbLEkt",
        "outputId": "07d80021-3cba-4a26-df8a-0067d3bde879"
      },
      "execution_count": 67,
      "outputs": [
        {
          "output_type": "stream",
          "name": "stdout",
          "text": [
            "Model 6 Accuracy: 84.73\n"
          ]
        }
      ]
    },
    {
      "cell_type": "markdown",
      "source": [
        "# Model 7:2-1 ANN"
      ],
      "metadata": {
        "id": "EDiiA2KfLUbI"
      }
    },
    {
      "cell_type": "code",
      "source": [
        "from tensorflow.keras.models import Sequential\n",
        "from tensorflow.keras.layers import Dense\n",
        "\n",
        "# Define a more complex model with more layers and neurons\n",
        "model_7 = Sequential()\n",
        "model_7.add(Dense(2, input_dim=X_train.shape[1], activation='relu'))\n",
        "model_7.add(Dense(1, activation='sigmoid'))\n",
        "\n",
        "# Compile the model\n",
        "model_7.compile(optimizer='SGD', loss='binary_crossentropy', metrics=['accuracy'])\n",
        "\n",
        "# Train the model for a large number of epochs\n",
        "history = model_7.fit(X_train, y_train, epochs=100, batch_size=32, validation_data=(X_test, y_test), verbose=1)"
      ],
      "metadata": {
        "colab": {
          "base_uri": "https://localhost:8080/"
        },
        "id": "pD-KbKEtLKv3",
        "outputId": "b8b84738-4bf9-4c6d-9b3e-27252443fee4"
      },
      "execution_count": 68,
      "outputs": [
        {
          "output_type": "stream",
          "name": "stdout",
          "text": [
            "Epoch 1/100\n",
            "33/33 [==============================] - 1s 9ms/step - loss: 0.6260 - accuracy: 0.6810 - val_loss: 0.6040 - val_accuracy: 0.6641\n",
            "Epoch 2/100\n",
            "33/33 [==============================] - 0s 3ms/step - loss: 0.5984 - accuracy: 0.6982 - val_loss: 0.5833 - val_accuracy: 0.6985\n",
            "Epoch 3/100\n",
            "33/33 [==============================] - 0s 3ms/step - loss: 0.5793 - accuracy: 0.7144 - val_loss: 0.5683 - val_accuracy: 0.7176\n",
            "Epoch 4/100\n",
            "33/33 [==============================] - 0s 3ms/step - loss: 0.5643 - accuracy: 0.7278 - val_loss: 0.5566 - val_accuracy: 0.7290\n",
            "Epoch 5/100\n",
            "33/33 [==============================] - 0s 3ms/step - loss: 0.5515 - accuracy: 0.7431 - val_loss: 0.5463 - val_accuracy: 0.7405\n",
            "Epoch 6/100\n",
            "33/33 [==============================] - 0s 4ms/step - loss: 0.5401 - accuracy: 0.7526 - val_loss: 0.5373 - val_accuracy: 0.7557\n",
            "Epoch 7/100\n",
            "33/33 [==============================] - 0s 4ms/step - loss: 0.5297 - accuracy: 0.7698 - val_loss: 0.5290 - val_accuracy: 0.7748\n",
            "Epoch 8/100\n",
            "33/33 [==============================] - 0s 3ms/step - loss: 0.5203 - accuracy: 0.7746 - val_loss: 0.5214 - val_accuracy: 0.7824\n",
            "Epoch 9/100\n",
            "33/33 [==============================] - 0s 4ms/step - loss: 0.5118 - accuracy: 0.7784 - val_loss: 0.5142 - val_accuracy: 0.7824\n",
            "Epoch 10/100\n",
            "33/33 [==============================] - 0s 4ms/step - loss: 0.5041 - accuracy: 0.7918 - val_loss: 0.5080 - val_accuracy: 0.7939\n",
            "Epoch 11/100\n",
            "33/33 [==============================] - 0s 3ms/step - loss: 0.4971 - accuracy: 0.7985 - val_loss: 0.5027 - val_accuracy: 0.7977\n",
            "Epoch 12/100\n",
            "33/33 [==============================] - 0s 3ms/step - loss: 0.4911 - accuracy: 0.8032 - val_loss: 0.4973 - val_accuracy: 0.8092\n",
            "Epoch 13/100\n",
            "33/33 [==============================] - 0s 3ms/step - loss: 0.4853 - accuracy: 0.8080 - val_loss: 0.4923 - val_accuracy: 0.8168\n",
            "Epoch 14/100\n",
            "33/33 [==============================] - 0s 4ms/step - loss: 0.4799 - accuracy: 0.8204 - val_loss: 0.4881 - val_accuracy: 0.8397\n",
            "Epoch 15/100\n",
            "33/33 [==============================] - 0s 3ms/step - loss: 0.4751 - accuracy: 0.8262 - val_loss: 0.4839 - val_accuracy: 0.8550\n",
            "Epoch 16/100\n",
            "33/33 [==============================] - 0s 4ms/step - loss: 0.4706 - accuracy: 0.8415 - val_loss: 0.4802 - val_accuracy: 0.8511\n",
            "Epoch 17/100\n",
            "33/33 [==============================] - 0s 3ms/step - loss: 0.4666 - accuracy: 0.8481 - val_loss: 0.4768 - val_accuracy: 0.8550\n",
            "Epoch 18/100\n",
            "33/33 [==============================] - 0s 4ms/step - loss: 0.4625 - accuracy: 0.8491 - val_loss: 0.4731 - val_accuracy: 0.8550\n",
            "Epoch 19/100\n",
            "33/33 [==============================] - 0s 3ms/step - loss: 0.4587 - accuracy: 0.8500 - val_loss: 0.4697 - val_accuracy: 0.8550\n",
            "Epoch 20/100\n",
            "33/33 [==============================] - 0s 3ms/step - loss: 0.4552 - accuracy: 0.8510 - val_loss: 0.4663 - val_accuracy: 0.8511\n",
            "Epoch 21/100\n",
            "33/33 [==============================] - 0s 3ms/step - loss: 0.4520 - accuracy: 0.8520 - val_loss: 0.4631 - val_accuracy: 0.8588\n",
            "Epoch 22/100\n",
            "33/33 [==============================] - 0s 3ms/step - loss: 0.4489 - accuracy: 0.8539 - val_loss: 0.4601 - val_accuracy: 0.8550\n",
            "Epoch 23/100\n",
            "33/33 [==============================] - 0s 3ms/step - loss: 0.4458 - accuracy: 0.8558 - val_loss: 0.4572 - val_accuracy: 0.8588\n",
            "Epoch 24/100\n",
            "33/33 [==============================] - 0s 3ms/step - loss: 0.4429 - accuracy: 0.8596 - val_loss: 0.4544 - val_accuracy: 0.8511\n",
            "Epoch 25/100\n",
            "33/33 [==============================] - 0s 4ms/step - loss: 0.4402 - accuracy: 0.8606 - val_loss: 0.4518 - val_accuracy: 0.8511\n",
            "Epoch 26/100\n",
            "33/33 [==============================] - 0s 3ms/step - loss: 0.4375 - accuracy: 0.8606 - val_loss: 0.4494 - val_accuracy: 0.8511\n",
            "Epoch 27/100\n",
            "33/33 [==============================] - 0s 3ms/step - loss: 0.4349 - accuracy: 0.8606 - val_loss: 0.4476 - val_accuracy: 0.8473\n",
            "Epoch 28/100\n",
            "33/33 [==============================] - 0s 3ms/step - loss: 0.4326 - accuracy: 0.8615 - val_loss: 0.4453 - val_accuracy: 0.8473\n",
            "Epoch 29/100\n",
            "33/33 [==============================] - 0s 3ms/step - loss: 0.4304 - accuracy: 0.8606 - val_loss: 0.4433 - val_accuracy: 0.8473\n",
            "Epoch 30/100\n",
            "33/33 [==============================] - 0s 3ms/step - loss: 0.4281 - accuracy: 0.8615 - val_loss: 0.4412 - val_accuracy: 0.8473\n",
            "Epoch 31/100\n",
            "33/33 [==============================] - 0s 3ms/step - loss: 0.4260 - accuracy: 0.8615 - val_loss: 0.4396 - val_accuracy: 0.8473\n",
            "Epoch 32/100\n",
            "33/33 [==============================] - 0s 4ms/step - loss: 0.4239 - accuracy: 0.8615 - val_loss: 0.4379 - val_accuracy: 0.8473\n",
            "Epoch 33/100\n",
            "33/33 [==============================] - 0s 3ms/step - loss: 0.4219 - accuracy: 0.8615 - val_loss: 0.4358 - val_accuracy: 0.8473\n",
            "Epoch 34/100\n",
            "33/33 [==============================] - 0s 3ms/step - loss: 0.4201 - accuracy: 0.8615 - val_loss: 0.4345 - val_accuracy: 0.8473\n",
            "Epoch 35/100\n",
            "33/33 [==============================] - 0s 4ms/step - loss: 0.4182 - accuracy: 0.8615 - val_loss: 0.4329 - val_accuracy: 0.8473\n",
            "Epoch 36/100\n",
            "33/33 [==============================] - 0s 3ms/step - loss: 0.4165 - accuracy: 0.8615 - val_loss: 0.4317 - val_accuracy: 0.8473\n",
            "Epoch 37/100\n",
            "33/33 [==============================] - 0s 3ms/step - loss: 0.4149 - accuracy: 0.8615 - val_loss: 0.4300 - val_accuracy: 0.8473\n",
            "Epoch 38/100\n",
            "33/33 [==============================] - 0s 3ms/step - loss: 0.4133 - accuracy: 0.8615 - val_loss: 0.4288 - val_accuracy: 0.8473\n",
            "Epoch 39/100\n",
            "33/33 [==============================] - 0s 3ms/step - loss: 0.4118 - accuracy: 0.8615 - val_loss: 0.4272 - val_accuracy: 0.8473\n",
            "Epoch 40/100\n",
            "33/33 [==============================] - 0s 4ms/step - loss: 0.4105 - accuracy: 0.8615 - val_loss: 0.4262 - val_accuracy: 0.8473\n",
            "Epoch 41/100\n",
            "33/33 [==============================] - 0s 3ms/step - loss: 0.4090 - accuracy: 0.8606 - val_loss: 0.4251 - val_accuracy: 0.8473\n",
            "Epoch 42/100\n",
            "33/33 [==============================] - 0s 3ms/step - loss: 0.4074 - accuracy: 0.8606 - val_loss: 0.4240 - val_accuracy: 0.8473\n",
            "Epoch 43/100\n",
            "33/33 [==============================] - 0s 4ms/step - loss: 0.4061 - accuracy: 0.8606 - val_loss: 0.4229 - val_accuracy: 0.8473\n",
            "Epoch 44/100\n",
            "33/33 [==============================] - 0s 3ms/step - loss: 0.4048 - accuracy: 0.8606 - val_loss: 0.4216 - val_accuracy: 0.8473\n",
            "Epoch 45/100\n",
            "33/33 [==============================] - 0s 3ms/step - loss: 0.4038 - accuracy: 0.8606 - val_loss: 0.4207 - val_accuracy: 0.8473\n",
            "Epoch 46/100\n",
            "33/33 [==============================] - 0s 3ms/step - loss: 0.4025 - accuracy: 0.8596 - val_loss: 0.4198 - val_accuracy: 0.8473\n",
            "Epoch 47/100\n",
            "33/33 [==============================] - 0s 3ms/step - loss: 0.4016 - accuracy: 0.8596 - val_loss: 0.4188 - val_accuracy: 0.8473\n",
            "Epoch 48/100\n",
            "33/33 [==============================] - 0s 3ms/step - loss: 0.4005 - accuracy: 0.8596 - val_loss: 0.4176 - val_accuracy: 0.8473\n",
            "Epoch 49/100\n",
            "33/33 [==============================] - 0s 3ms/step - loss: 0.3995 - accuracy: 0.8596 - val_loss: 0.4169 - val_accuracy: 0.8473\n",
            "Epoch 50/100\n",
            "33/33 [==============================] - 0s 3ms/step - loss: 0.3987 - accuracy: 0.8596 - val_loss: 0.4161 - val_accuracy: 0.8473\n",
            "Epoch 51/100\n",
            "33/33 [==============================] - 0s 3ms/step - loss: 0.3977 - accuracy: 0.8596 - val_loss: 0.4156 - val_accuracy: 0.8473\n",
            "Epoch 52/100\n",
            "33/33 [==============================] - 0s 4ms/step - loss: 0.3968 - accuracy: 0.8596 - val_loss: 0.4149 - val_accuracy: 0.8473\n",
            "Epoch 53/100\n",
            "33/33 [==============================] - 0s 4ms/step - loss: 0.3959 - accuracy: 0.8596 - val_loss: 0.4141 - val_accuracy: 0.8473\n",
            "Epoch 54/100\n",
            "33/33 [==============================] - 0s 5ms/step - loss: 0.3953 - accuracy: 0.8596 - val_loss: 0.4139 - val_accuracy: 0.8473\n",
            "Epoch 55/100\n",
            "33/33 [==============================] - 0s 5ms/step - loss: 0.3944 - accuracy: 0.8596 - val_loss: 0.4131 - val_accuracy: 0.8473\n",
            "Epoch 56/100\n",
            "33/33 [==============================] - 0s 4ms/step - loss: 0.3937 - accuracy: 0.8596 - val_loss: 0.4124 - val_accuracy: 0.8473\n",
            "Epoch 57/100\n",
            "33/33 [==============================] - 0s 4ms/step - loss: 0.3930 - accuracy: 0.8596 - val_loss: 0.4120 - val_accuracy: 0.8473\n",
            "Epoch 58/100\n",
            "33/33 [==============================] - 0s 6ms/step - loss: 0.3922 - accuracy: 0.8596 - val_loss: 0.4118 - val_accuracy: 0.8473\n",
            "Epoch 59/100\n",
            "33/33 [==============================] - 0s 4ms/step - loss: 0.3917 - accuracy: 0.8586 - val_loss: 0.4117 - val_accuracy: 0.8473\n",
            "Epoch 60/100\n",
            "33/33 [==============================] - 0s 4ms/step - loss: 0.3911 - accuracy: 0.8586 - val_loss: 0.4112 - val_accuracy: 0.8473\n",
            "Epoch 61/100\n",
            "33/33 [==============================] - 0s 4ms/step - loss: 0.3906 - accuracy: 0.8586 - val_loss: 0.4101 - val_accuracy: 0.8473\n",
            "Epoch 62/100\n",
            "33/33 [==============================] - 0s 5ms/step - loss: 0.3899 - accuracy: 0.8586 - val_loss: 0.4097 - val_accuracy: 0.8473\n",
            "Epoch 63/100\n",
            "33/33 [==============================] - 0s 4ms/step - loss: 0.3895 - accuracy: 0.8586 - val_loss: 0.4097 - val_accuracy: 0.8473\n",
            "Epoch 64/100\n",
            "33/33 [==============================] - 0s 5ms/step - loss: 0.3888 - accuracy: 0.8586 - val_loss: 0.4097 - val_accuracy: 0.8473\n",
            "Epoch 65/100\n",
            "33/33 [==============================] - 0s 5ms/step - loss: 0.3883 - accuracy: 0.8586 - val_loss: 0.4089 - val_accuracy: 0.8473\n",
            "Epoch 66/100\n",
            "33/33 [==============================] - 0s 4ms/step - loss: 0.3879 - accuracy: 0.8586 - val_loss: 0.4089 - val_accuracy: 0.8473\n",
            "Epoch 67/100\n",
            "33/33 [==============================] - 0s 5ms/step - loss: 0.3874 - accuracy: 0.8586 - val_loss: 0.4083 - val_accuracy: 0.8473\n",
            "Epoch 68/100\n",
            "33/33 [==============================] - 0s 5ms/step - loss: 0.3870 - accuracy: 0.8586 - val_loss: 0.4080 - val_accuracy: 0.8473\n",
            "Epoch 69/100\n",
            "33/33 [==============================] - 0s 5ms/step - loss: 0.3866 - accuracy: 0.8586 - val_loss: 0.4075 - val_accuracy: 0.8473\n",
            "Epoch 70/100\n",
            "33/33 [==============================] - 0s 5ms/step - loss: 0.3860 - accuracy: 0.8586 - val_loss: 0.4078 - val_accuracy: 0.8473\n",
            "Epoch 71/100\n",
            "33/33 [==============================] - 0s 5ms/step - loss: 0.3857 - accuracy: 0.8586 - val_loss: 0.4071 - val_accuracy: 0.8473\n",
            "Epoch 72/100\n",
            "33/33 [==============================] - 0s 4ms/step - loss: 0.3853 - accuracy: 0.8577 - val_loss: 0.4065 - val_accuracy: 0.8473\n",
            "Epoch 73/100\n",
            "33/33 [==============================] - 0s 4ms/step - loss: 0.3850 - accuracy: 0.8586 - val_loss: 0.4065 - val_accuracy: 0.8473\n",
            "Epoch 74/100\n",
            "33/33 [==============================] - 0s 5ms/step - loss: 0.3845 - accuracy: 0.8586 - val_loss: 0.4061 - val_accuracy: 0.8473\n",
            "Epoch 75/100\n",
            "33/33 [==============================] - 0s 5ms/step - loss: 0.3842 - accuracy: 0.8577 - val_loss: 0.4064 - val_accuracy: 0.8473\n",
            "Epoch 76/100\n",
            "33/33 [==============================] - 0s 4ms/step - loss: 0.3838 - accuracy: 0.8577 - val_loss: 0.4062 - val_accuracy: 0.8473\n",
            "Epoch 77/100\n",
            "33/33 [==============================] - 0s 5ms/step - loss: 0.3836 - accuracy: 0.8586 - val_loss: 0.4059 - val_accuracy: 0.8473\n",
            "Epoch 78/100\n",
            "33/33 [==============================] - 0s 5ms/step - loss: 0.3831 - accuracy: 0.8577 - val_loss: 0.4056 - val_accuracy: 0.8473\n",
            "Epoch 79/100\n",
            "33/33 [==============================] - 0s 5ms/step - loss: 0.3829 - accuracy: 0.8577 - val_loss: 0.4054 - val_accuracy: 0.8473\n",
            "Epoch 80/100\n",
            "33/33 [==============================] - 0s 5ms/step - loss: 0.3825 - accuracy: 0.8577 - val_loss: 0.4051 - val_accuracy: 0.8473\n",
            "Epoch 81/100\n",
            "33/33 [==============================] - 0s 4ms/step - loss: 0.3821 - accuracy: 0.8586 - val_loss: 0.4045 - val_accuracy: 0.8473\n",
            "Epoch 82/100\n",
            "33/33 [==============================] - 0s 3ms/step - loss: 0.3820 - accuracy: 0.8577 - val_loss: 0.4043 - val_accuracy: 0.8473\n",
            "Epoch 83/100\n",
            "33/33 [==============================] - 0s 3ms/step - loss: 0.3816 - accuracy: 0.8577 - val_loss: 0.4043 - val_accuracy: 0.8473\n",
            "Epoch 84/100\n",
            "33/33 [==============================] - 0s 3ms/step - loss: 0.3814 - accuracy: 0.8586 - val_loss: 0.4044 - val_accuracy: 0.8473\n",
            "Epoch 85/100\n",
            "33/33 [==============================] - 0s 3ms/step - loss: 0.3810 - accuracy: 0.8586 - val_loss: 0.4042 - val_accuracy: 0.8473\n",
            "Epoch 86/100\n",
            "33/33 [==============================] - 0s 3ms/step - loss: 0.3808 - accuracy: 0.8586 - val_loss: 0.4040 - val_accuracy: 0.8473\n",
            "Epoch 87/100\n",
            "33/33 [==============================] - 0s 4ms/step - loss: 0.3806 - accuracy: 0.8577 - val_loss: 0.4037 - val_accuracy: 0.8473\n",
            "Epoch 88/100\n",
            "33/33 [==============================] - 0s 3ms/step - loss: 0.3803 - accuracy: 0.8586 - val_loss: 0.4034 - val_accuracy: 0.8473\n",
            "Epoch 89/100\n",
            "33/33 [==============================] - 0s 3ms/step - loss: 0.3800 - accuracy: 0.8586 - val_loss: 0.4031 - val_accuracy: 0.8473\n",
            "Epoch 90/100\n",
            "33/33 [==============================] - 0s 3ms/step - loss: 0.3798 - accuracy: 0.8586 - val_loss: 0.4031 - val_accuracy: 0.8473\n",
            "Epoch 91/100\n",
            "33/33 [==============================] - 0s 4ms/step - loss: 0.3796 - accuracy: 0.8586 - val_loss: 0.4032 - val_accuracy: 0.8473\n",
            "Epoch 92/100\n",
            "33/33 [==============================] - 0s 3ms/step - loss: 0.3793 - accuracy: 0.8586 - val_loss: 0.4029 - val_accuracy: 0.8473\n",
            "Epoch 93/100\n",
            "33/33 [==============================] - 0s 3ms/step - loss: 0.3792 - accuracy: 0.8586 - val_loss: 0.4028 - val_accuracy: 0.8473\n",
            "Epoch 94/100\n",
            "33/33 [==============================] - 0s 3ms/step - loss: 0.3787 - accuracy: 0.8586 - val_loss: 0.4027 - val_accuracy: 0.8473\n",
            "Epoch 95/100\n",
            "33/33 [==============================] - 0s 3ms/step - loss: 0.3786 - accuracy: 0.8596 - val_loss: 0.4026 - val_accuracy: 0.8473\n",
            "Epoch 96/100\n",
            "33/33 [==============================] - 0s 3ms/step - loss: 0.3785 - accuracy: 0.8606 - val_loss: 0.4025 - val_accuracy: 0.8473\n",
            "Epoch 97/100\n",
            "33/33 [==============================] - 0s 3ms/step - loss: 0.3782 - accuracy: 0.8596 - val_loss: 0.4023 - val_accuracy: 0.8473\n",
            "Epoch 98/100\n",
            "33/33 [==============================] - 0s 3ms/step - loss: 0.3778 - accuracy: 0.8596 - val_loss: 0.4019 - val_accuracy: 0.8473\n",
            "Epoch 99/100\n",
            "33/33 [==============================] - 0s 3ms/step - loss: 0.3775 - accuracy: 0.8596 - val_loss: 0.4019 - val_accuracy: 0.8473\n",
            "Epoch 100/100\n",
            "33/33 [==============================] - 0s 3ms/step - loss: 0.3772 - accuracy: 0.8596 - val_loss: 0.4019 - val_accuracy: 0.8473\n"
          ]
        }
      ]
    },
    {
      "cell_type": "code",
      "source": [
        "import matplotlib.pyplot as plt\n",
        "\n",
        "# Plot the training and validation loss and accuracy\n",
        "train_loss = history.history['loss']\n",
        "val_loss = history.history['val_loss']\n",
        "train_acc = history.history['accuracy']\n",
        "val_acc = history.history['val_accuracy']\n",
        "\n",
        "plt.figure(figsize=(8, 4))\n",
        "plt.subplot(1, 2, 1)\n",
        "plt.plot(train_loss, label='train')\n",
        "plt.plot(val_loss, label='val')\n",
        "plt.legend()\n",
        "plt.title('Loss')\n",
        "\n",
        "plt.subplot(1, 2, 2)\n",
        "plt.plot(train_acc, label='train')\n",
        "plt.plot(val_acc, label='val')\n",
        "plt.legend()\n",
        "plt.title('Accuracy')\n",
        "plt.show()\n"
      ],
      "metadata": {
        "colab": {
          "base_uri": "https://localhost:8080/",
          "height": 391
        },
        "id": "lkgf5iRGLnrg",
        "outputId": "c3003c85-c9d2-49f0-9506-ec26dd6e9431"
      },
      "execution_count": 69,
      "outputs": [
        {
          "output_type": "display_data",
          "data": {
            "text/plain": [
              "<Figure size 800x400 with 2 Axes>"
            ],
            "image/png": "[encoded data removed]"
          },
          "metadata": {}
        }
      ]
    },
    {
      "cell_type": "code",
      "source": [
        "# Evaluate the model on the test data\n",
        "loss, accuracy = model_7.evaluate(X_test, y_test, verbose=0)\n",
        "print('Model 7 Accuracy: %.2f' % (accuracy*100))"
      ],
      "metadata": {
        "colab": {
          "base_uri": "https://localhost:8080/"
        },
        "id": "H8EP7BMrLtcj",
        "outputId": "5ad9cdca-150c-4b8e-9dd1-f9bd05fa2fe2"
      },
      "execution_count": 70,
      "outputs": [
        {
          "output_type": "stream",
          "name": "stdout",
          "text": [
            "Model 7 Accuracy: 84.73\n"
          ]
        }
      ]
    },
    {
      "cell_type": "markdown",
      "source": [
        "# Model 9: Random Forest using ANN "
      ],
      "metadata": {
        "id": "X7HPUARpSg8i"
      }
    },
    {
      "cell_type": "code",
      "source": [
        "import numpy as np\n",
        "import pandas as pd\n",
        "from sklearn.model_selection import train_test_split\n",
        "from sklearn.metrics import accuracy_score, confusion_matrix\n",
        "from keras.models import Sequential\n",
        "from keras.layers import Dense, Dropout\n",
        "\n",
        "# Create an ANN model\n",
        "model_RF = Sequential()\n",
        "model_RF.add(Dense(32, input_dim=X.shape[1], activation='relu'))\n",
        "model_RF.add(Dropout(0.5))\n",
        "model_RF.add(Dense(16, activation='relu'))\n",
        "model_RF.add(Dropout(0.5))\n",
        "model_RF.add(Dense(1, activation='sigmoid'))\n",
        "\n",
        "# Compile the model\n",
        "model_RF.compile(loss='binary_crossentropy', optimizer='adam', metrics=['accuracy'])\n",
        "\n",
        "# Fit the model to the training data\n",
        "model_RF.fit(X_train, y_train, epochs=50, batch_size=32, verbose=1)\n",
        "\n",
        "# Predict the target variable for the test data\n",
        "y_pred = np.round(model_RF.predict(X_test))\n",
        "\n",
        "# Evaluate the accuracy of the model\n",
        "accuracy = accuracy_score(y_test, y_pred)\n",
        "print('Accuracy:', accuracy*100)\n",
        "\n",
        "# Print the confusion matrix\n",
        "cm = confusion_matrix(y_test, y_pred)\n",
        "print('Confusion matrix:')\n",
        "print(cm)"
      ],
      "metadata": {
        "colab": {
          "base_uri": "https://localhost:8080/"
        },
        "id": "nz5dAYrAPXzE",
        "outputId": "69d40209-8119-4097-8e71-181ff09ce12d"
      },
      "execution_count": 71,
      "outputs": [
        {
          "output_type": "stream",
          "name": "stdout",
          "text": [
            "Epoch 1/50\n",
            "33/33 [==============================] - 1s 4ms/step - loss: 0.7882 - accuracy: 0.4651\n",
            "Epoch 2/50\n",
            "33/33 [==============================] - 0s 4ms/step - loss: 0.6778 - accuracy: 0.5922\n",
            "Epoch 3/50\n",
            "33/33 [==============================] - 0s 4ms/step - loss: 0.6363 - accuracy: 0.6275\n",
            "Epoch 4/50\n",
            "33/33 [==============================] - 0s 4ms/step - loss: 0.6029 - accuracy: 0.6437\n",
            "Epoch 5/50\n",
            "33/33 [==============================] - 0s 4ms/step - loss: 0.5758 - accuracy: 0.6743\n",
            "Epoch 6/50\n",
            "33/33 [==============================] - 0s 4ms/step - loss: 0.5605 - accuracy: 0.7001\n",
            "Epoch 7/50\n",
            "33/33 [==============================] - 0s 4ms/step - loss: 0.5364 - accuracy: 0.7498\n",
            "Epoch 8/50\n",
            "33/33 [==============================] - 0s 4ms/step - loss: 0.5132 - accuracy: 0.7584\n",
            "Epoch 9/50\n",
            "33/33 [==============================] - 0s 4ms/step - loss: 0.4911 - accuracy: 0.7851\n",
            "Epoch 10/50\n",
            "33/33 [==============================] - 0s 4ms/step - loss: 0.4986 - accuracy: 0.7947\n",
            "Epoch 11/50\n",
            "33/33 [==============================] - 0s 4ms/step - loss: 0.4791 - accuracy: 0.8013\n",
            "Epoch 12/50\n",
            "33/33 [==============================] - 0s 4ms/step - loss: 0.4648 - accuracy: 0.8195\n",
            "Epoch 13/50\n",
            "33/33 [==============================] - 0s 4ms/step - loss: 0.4628 - accuracy: 0.8271\n",
            "Epoch 14/50\n",
            "33/33 [==============================] - 0s 3ms/step - loss: 0.4615 - accuracy: 0.8204\n",
            "Epoch 15/50\n",
            "33/33 [==============================] - 0s 4ms/step - loss: 0.4489 - accuracy: 0.8405\n",
            "Epoch 16/50\n",
            "33/33 [==============================] - 0s 4ms/step - loss: 0.4686 - accuracy: 0.8300\n",
            "Epoch 17/50\n",
            "33/33 [==============================] - 0s 4ms/step - loss: 0.4696 - accuracy: 0.8329\n",
            "Epoch 18/50\n",
            "33/33 [==============================] - 0s 4ms/step - loss: 0.4473 - accuracy: 0.8348\n",
            "Epoch 19/50\n",
            "33/33 [==============================] - 0s 4ms/step - loss: 0.4422 - accuracy: 0.8329\n",
            "Epoch 20/50\n",
            "33/33 [==============================] - 0s 4ms/step - loss: 0.4369 - accuracy: 0.8462\n",
            "Epoch 21/50\n",
            "33/33 [==============================] - 0s 3ms/step - loss: 0.4384 - accuracy: 0.8415\n",
            "Epoch 22/50\n",
            "33/33 [==============================] - 0s 2ms/step - loss: 0.4490 - accuracy: 0.8376\n",
            "Epoch 23/50\n",
            "33/33 [==============================] - 0s 2ms/step - loss: 0.4357 - accuracy: 0.8367\n",
            "Epoch 24/50\n",
            "33/33 [==============================] - 0s 3ms/step - loss: 0.4277 - accuracy: 0.8424\n",
            "Epoch 25/50\n",
            "33/33 [==============================] - 0s 2ms/step - loss: 0.4395 - accuracy: 0.8462\n",
            "Epoch 26/50\n",
            "33/33 [==============================] - 0s 3ms/step - loss: 0.4418 - accuracy: 0.8348\n",
            "Epoch 27/50\n",
            "33/33 [==============================] - 0s 3ms/step - loss: 0.4255 - accuracy: 0.8453\n",
            "Epoch 28/50\n",
            "33/33 [==============================] - 0s 2ms/step - loss: 0.4135 - accuracy: 0.8386\n",
            "Epoch 29/50\n",
            "33/33 [==============================] - 0s 2ms/step - loss: 0.4174 - accuracy: 0.8395\n",
            "Epoch 30/50\n",
            "33/33 [==============================] - 0s 2ms/step - loss: 0.4322 - accuracy: 0.8357\n",
            "Epoch 31/50\n",
            "33/33 [==============================] - 0s 2ms/step - loss: 0.4126 - accuracy: 0.8481\n",
            "Epoch 32/50\n",
            "33/33 [==============================] - 0s 2ms/step - loss: 0.4258 - accuracy: 0.8510\n",
            "Epoch 33/50\n",
            "33/33 [==============================] - 0s 2ms/step - loss: 0.4155 - accuracy: 0.8510\n",
            "Epoch 34/50\n",
            "33/33 [==============================] - 0s 2ms/step - loss: 0.4188 - accuracy: 0.8453\n",
            "Epoch 35/50\n",
            "33/33 [==============================] - 0s 2ms/step - loss: 0.4059 - accuracy: 0.8520\n",
            "Epoch 36/50\n",
            "33/33 [==============================] - 0s 2ms/step - loss: 0.4250 - accuracy: 0.8529\n",
            "Epoch 37/50\n",
            "33/33 [==============================] - 0s 3ms/step - loss: 0.4129 - accuracy: 0.8510\n",
            "Epoch 38/50\n",
            "33/33 [==============================] - 0s 3ms/step - loss: 0.4126 - accuracy: 0.8520\n",
            "Epoch 39/50\n",
            "33/33 [==============================] - 0s 2ms/step - loss: 0.4164 - accuracy: 0.8491\n",
            "Epoch 40/50\n",
            "33/33 [==============================] - 0s 2ms/step - loss: 0.4000 - accuracy: 0.8453\n",
            "Epoch 41/50\n",
            "33/33 [==============================] - 0s 3ms/step - loss: 0.3943 - accuracy: 0.8510\n",
            "Epoch 42/50\n",
            "33/33 [==============================] - 0s 2ms/step - loss: 0.4022 - accuracy: 0.8443\n",
            "Epoch 43/50\n",
            "33/33 [==============================] - 0s 2ms/step - loss: 0.4084 - accuracy: 0.8558\n",
            "Epoch 44/50\n",
            "33/33 [==============================] - 0s 2ms/step - loss: 0.4049 - accuracy: 0.8548\n",
            "Epoch 45/50\n",
            "33/33 [==============================] - 0s 2ms/step - loss: 0.4141 - accuracy: 0.8510\n",
            "Epoch 46/50\n",
            "33/33 [==============================] - 0s 2ms/step - loss: 0.4082 - accuracy: 0.8491\n",
            "Epoch 47/50\n",
            "33/33 [==============================] - 0s 2ms/step - loss: 0.3946 - accuracy: 0.8577\n",
            "Epoch 48/50\n",
            "33/33 [==============================] - 0s 2ms/step - loss: 0.3861 - accuracy: 0.8462\n",
            "Epoch 49/50\n",
            "33/33 [==============================] - 0s 2ms/step - loss: 0.4087 - accuracy: 0.8529\n",
            "Epoch 50/50\n",
            "33/33 [==============================] - 0s 2ms/step - loss: 0.4137 - accuracy: 0.8510\n",
            "9/9 [==============================] - 0s 3ms/step\n",
            "Accuracy: 85.1145038167939\n",
            "Confusion matrix:\n",
            "[[148  13]\n",
            " [ 26  75]]\n"
          ]
        }
      ]
    },
    {
      "cell_type": "code",
      "source": [
        "X_train.shape"
      ],
      "metadata": {
        "colab": {
          "base_uri": "https://localhost:8080/"
        },
        "id": "vs3TTXgsfXmA",
        "outputId": "ed78e7fd-56ea-4870-ce28-b8952a0792d3"
      },
      "execution_count": 72,
      "outputs": [
        {
          "output_type": "execute_result",
          "data": {
            "text/plain": [
              "(1047, 11)"
            ]
          },
          "metadata": {},
          "execution_count": 72
        }
      ]
    },
    {
      "cell_type": "code",
      "source": [
        "X_train.head(10)"
      ],
      "metadata": {
        "colab": {
          "base_uri": "https://localhost:8080/",
          "height": 363
        },
        "id": "Bgql0fDBgR1h",
        "outputId": "2485ac49-0b63-4bbd-ed52-94b09a138005"
      },
      "execution_count": 73,
      "outputs": [
        {
          "output_type": "execute_result",
          "data": {
            "text/plain": [
              "      Pclass       Age  SibSp  Parch      Fare  Gender  Sex_female  Sex_male  \\\n",
              "1006       3 -0.936393      1      0 -0.363662       1           0         1   \n",
              "1090       3 -0.007506      0      0 -0.480436       0           1         0   \n",
              "915        1  1.409057      1      3  4.201449       0           1         0   \n",
              "1176       3  0.470877      0      0 -0.496318       1           0         1   \n",
              "1234       1  2.190873      0      1  8.804002       0           1         0   \n",
              "553        3 -0.623666      0      0 -0.496778       1           0         1   \n",
              "664        3 -0.780030      1      0 -0.483888       1           0         1   \n",
              "114        3 -1.014574      0      0 -0.363587       0           1         0   \n",
              "420        3 -0.007506      0      0 -0.484426       1           0         1   \n",
              "696        3  1.096330      0      0 -0.481587       1           0         1   \n",
              "\n",
              "      Embarked_C  Embarked_Q  Embarked_S  \n",
              "1006           1           0           0  \n",
              "1090           0           0           1  \n",
              "915            1           0           0  \n",
              "1176           0           0           1  \n",
              "1234           1           0           0  \n",
              "553            1           0           0  \n",
              "664            0           0           1  \n",
              "114            1           0           0  \n",
              "420            1           0           0  \n",
              "696            0           0           1  "
            ],
            "text/html": [
              "\n",
              "  <div id=\"df-c0c7c6d7-9c7e-4d61-9512-6d37b0729f7d\">\n",
              "    <div class=\"colab-df-container\">\n",
              "      <div>\n",
              "<style scoped>\n",
              "    .dataframe tbody tr th:only-of-type {\n",
              "        vertical-align: middle;\n",
              "    }\n",
              "\n",
              "    .dataframe tbody tr th {\n",
              "        vertical-align: top;\n",
              "    }\n",
              "\n",
              "    .dataframe thead th {\n",
              "        text-align: right;\n",
              "    }\n",
              "</style>\n",
              "<table border=\"1\" class=\"dataframe\">\n",
              "  <thead>\n",
              "    <tr style=\"text-align: right;\">\n",
              "      <th></th>\n",
              "      <th>Pclass</th>\n",
              "      <th>Age</th>\n",
              "      <th>SibSp</th>\n",
              "      <th>Parch</th>\n",
              "      <th>Fare</th>\n",
              "      <th>Gender</th>\n",
              "      <th>Sex_female</th>\n",
              "      <th>Sex_male</th>\n",
              "      <th>Embarked_C</th>\n",
              "      <th>Embarked_Q</th>\n",
              "      <th>Embarked_S</th>\n",
              "    </tr>\n",
              "  </thead>\n",
              "  <tbody>\n",
              "    <tr>\n",
              "      <th>1006</th>\n",
              "      <td>3</td>\n",
              "      <td>-0.936393</td>\n",
              "      <td>1</td>\n",
              "      <td>0</td>\n",
              "      <td>-0.363662</td>\n",
              "      <td>1</td>\n",
              "      <td>0</td>\n",
              "      <td>1</td>\n",
              "      <td>1</td>\n",
              "      <td>0</td>\n",
              "      <td>0</td>\n",
              "    </tr>\n",
              "    <tr>\n",
              "      <th>1090</th>\n",
              "      <td>3</td>\n",
              "      <td>-0.007506</td>\n",
              "      <td>0</td>\n",
              "      <td>0</td>\n",
              "      <td>-0.480436</td>\n",
              "      <td>0</td>\n",
              "      <td>1</td>\n",
              "      <td>0</td>\n",
              "      <td>0</td>\n",
              "      <td>0</td>\n",
              "      <td>1</td>\n",
              "    </tr>\n",
              "    <tr>\n",
              "      <th>915</th>\n",
              "      <td>1</td>\n",
              "      <td>1.409057</td>\n",
              "      <td>1</td>\n",
              "      <td>3</td>\n",
              "      <td>4.201449</td>\n",
              "      <td>0</td>\n",
              "      <td>1</td>\n",
              "      <td>0</td>\n",
              "      <td>1</td>\n",
              "      <td>0</td>\n",
              "      <td>0</td>\n",
              "    </tr>\n",
              "    <tr>\n",
              "      <th>1176</th>\n",
              "      <td>3</td>\n",
              "      <td>0.470877</td>\n",
              "      <td>0</td>\n",
              "      <td>0</td>\n",
              "      <td>-0.496318</td>\n",
              "      <td>1</td>\n",
              "      <td>0</td>\n",
              "      <td>1</td>\n",
              "      <td>0</td>\n",
              "      <td>0</td>\n",
              "      <td>1</td>\n",
              "    </tr>\n",
              "    <tr>\n",
              "      <th>1234</th>\n",
              "      <td>1</td>\n",
              "      <td>2.190873</td>\n",
              "      <td>0</td>\n",
              "      <td>1</td>\n",
              "      <td>8.804002</td>\n",
              "      <td>0</td>\n",
              "      <td>1</td>\n",
              "      <td>0</td>\n",
              "      <td>1</td>\n",
              "      <td>0</td>\n",
              "      <td>0</td>\n",
              "    </tr>\n",
              "    <tr>\n",
              "      <th>553</th>\n",
              "      <td>3</td>\n",
              "      <td>-0.623666</td>\n",
              "      <td>0</td>\n",
              "      <td>0</td>\n",
              "      <td>-0.496778</td>\n",
              "      <td>1</td>\n",
              "      <td>0</td>\n",
              "      <td>1</td>\n",
              "      <td>1</td>\n",
              "      <td>0</td>\n",
              "      <td>0</td>\n",
              "    </tr>\n",
              "    <tr>\n",
              "      <th>664</th>\n",
              "      <td>3</td>\n",
              "      <td>-0.780030</td>\n",
              "      <td>1</td>\n",
              "      <td>0</td>\n",
              "      <td>-0.483888</td>\n",
              "      <td>1</td>\n",
              "      <td>0</td>\n",
              "      <td>1</td>\n",
              "      <td>0</td>\n",
              "      <td>0</td>\n",
              "      <td>1</td>\n",
              "    </tr>\n",
              "    <tr>\n",
              "      <th>114</th>\n",
              "      <td>3</td>\n",
              "      <td>-1.014574</td>\n",
              "      <td>0</td>\n",
              "      <td>0</td>\n",
              "      <td>-0.363587</td>\n",
              "      <td>0</td>\n",
              "      <td>1</td>\n",
              "      <td>0</td>\n",
              "      <td>1</td>\n",
              "      <td>0</td>\n",
              "      <td>0</td>\n",
              "    </tr>\n",
              "    <tr>\n",
              "      <th>420</th>\n",
              "      <td>3</td>\n",
              "      <td>-0.007506</td>\n",
              "      <td>0</td>\n",
              "      <td>0</td>\n",
              "      <td>-0.484426</td>\n",
              "      <td>1</td>\n",
              "      <td>0</td>\n",
              "      <td>1</td>\n",
              "      <td>1</td>\n",
              "      <td>0</td>\n",
              "      <td>0</td>\n",
              "    </tr>\n",
              "    <tr>\n",
              "      <th>696</th>\n",
              "      <td>3</td>\n",
              "      <td>1.096330</td>\n",
              "      <td>0</td>\n",
              "      <td>0</td>\n",
              "      <td>-0.481587</td>\n",
              "      <td>1</td>\n",
              "      <td>0</td>\n",
              "      <td>1</td>\n",
              "      <td>0</td>\n",
              "      <td>0</td>\n",
              "      <td>1</td>\n",
              "    </tr>\n",
              "  </tbody>\n",
              "</table>\n",
              "</div>\n",
              "      <button class=\"colab-df-convert\" onclick=\"convertToInteractive('df-c0c7c6d7-9c7e-4d61-9512-6d37b0729f7d')\"\n",
              "              title=\"Convert this dataframe to an interactive table.\"\n",
              "              style=\"display:none;\">\n",
              "        \n",
              "  <svg xmlns=\"http://www.w3.org/2000/svg\" height=\"24px\"viewBox=\"0 0 24 24\"\n",
              "       width=\"24px\">\n",
              "    <path d=\"M0 0h24v24H0V0z\" fill=\"none\"/>\n",
              "    <path d=\"M18.56 5.44l.94 2.06.94-2.06 2.06-.94-2.06-.94-.94-2.06-.94 2.06-2.06.94zm-11 1L8.5 8.5l.94-2.06 2.06-.94-2.06-.94L8.5 2.5l-.94 2.06-2.06.94zm10 10l.94 2.06.94-2.06 2.06-.94-2.06-.94-.94-2.06-.94 2.06-2.06.94z\"/><path d=\"M17.41 7.96l-1.37-1.37c-.4-.4-.92-.59-1.43-.59-.52 0-1.04.2-1.43.59L10.3 9.45l-7.72 7.72c-.78.78-.78 2.05 0 2.83L4 21.41c.39.39.9.59 1.41.59.51 0 1.02-.2 1.41-.59l7.78-7.78 2.81-2.81c.8-.78.8-2.07 0-2.86zM5.41 20L4 18.59l7.72-7.72 1.47 1.35L5.41 20z\"/>\n",
              "  </svg>\n",
              "      </button>\n",
              "      \n",
              "  <style>\n",
              "    .colab-df-container {\n",
              "      display:flex;\n",
              "      flex-wrap:wrap;\n",
              "      gap: 12px;\n",
              "    }\n",
              "\n",
              "    .colab-df-convert {\n",
              "      background-color: #E8F0FE;\n",
              "      border: none;\n",
              "      border-radius: 50%;\n",
              "      cursor: pointer;\n",
              "      display: none;\n",
              "      fill: #1967D2;\n",
              "      height: 32px;\n",
              "      padding: 0 0 0 0;\n",
              "      width: 32px;\n",
              "    }\n",
              "\n",
              "    .colab-df-convert:hover {\n",
              "      background-color: #E2EBFA;\n",
              "      box-shadow: 0px 1px 2px rgba(60, 64, 67, 0.3), 0px 1px 3px 1px rgba(60, 64, 67, 0.15);\n",
              "      fill: #174EA6;\n",
              "    }\n",
              "\n",
              "    [theme=dark] .colab-df-convert {\n",
              "      background-color: #3B4455;\n",
              "      fill: #D2E3FC;\n",
              "    }\n",
              "\n",
              "    [theme=dark] .colab-df-convert:hover {\n",
              "      background-color: #434B5C;\n",
              "      box-shadow: 0px 1px 3px 1px rgba(0, 0, 0, 0.15);\n",
              "      filter: drop-shadow(0px 1px 2px rgba(0, 0, 0, 0.3));\n",
              "      fill: #FFFFFF;\n",
              "    }\n",
              "  </style>\n",
              "\n",
              "      <script>\n",
              "        const buttonEl =\n",
              "          document.querySelector('#df-c0c7c6d7-9c7e-4d61-9512-6d37b0729f7d button.colab-df-convert');\n",
              "        buttonEl.style.display =\n",
              "          google.colab.kernel.accessAllowed ? 'block' : 'none';\n",
              "\n",
              "        async function convertToInteractive(key) {\n",
              "          const element = document.querySelector('#df-c0c7c6d7-9c7e-4d61-9512-6d37b0729f7d');\n",
              "          const dataTable =\n",
              "            await google.colab.kernel.invokeFunction('convertToInteractive',\n",
              "                                                     [key], {});\n",
              "          if (!dataTable) return;\n",
              "\n",
              "          const docLinkHtml = 'Like what you see? Visit the ' +\n",
              "            '<a target=\"_blank\" href=https://colab.research.google.com/notebooks/data_table.ipynb>data table notebook</a>'\n",
              "            + ' to learn more about interactive tables.';\n",
              "          element.innerHTML = '';\n",
              "          dataTable['output_type'] = 'display_data';\n",
              "          await google.colab.output.renderOutput(dataTable, element);\n",
              "          const docLink = document.createElement('div');\n",
              "          docLink.innerHTML = docLinkHtml;\n",
              "          element.appendChild(docLink);\n",
              "        }\n",
              "      </script>\n",
              "    </div>\n",
              "  </div>\n",
              "  "
            ]
          },
          "metadata": {},
          "execution_count": 73
        }
      ]
    },
    {
      "cell_type": "code",
      "source": [
        "def my_prediction_function(model, data):\n",
        "    numOfFeatures = 11\n",
        "    numOfLayers = len(model.layers)\n",
        "    w = [None]*numOfFeatures\n",
        "    weights = model.layers[numOfLayers-1].get_weights()[0]\n",
        "    for i in range(min(numOfFeatures, len(weights))):\n",
        "        w[i] = weights[i]\n",
        "    bias = model.layers[numOfLayers-1].get_weights()[1]   \n",
        "    z = 0\n",
        "    for i in range(min(numOfFeatures, len(weights))):\n",
        "        z = z + data[:,i]*w[i]\n",
        "    z = z + bias\n",
        "    result = 1/(1+np.exp(-z))\n",
        "    return np.mean(result)\n"
      ],
      "metadata": {
        "id": "jcp3nAoGS6rZ"
      },
      "execution_count": 72,
      "outputs": []
    },
    {
      "cell_type": "code",
      "source": [],
      "metadata": {
        "id": "H2eHFGVZf4ac"
      },
      "execution_count": 99,
      "outputs": []
    },
    {
      "cell_type": "code",
      "source": [
        "from tensorflow.keras.models import Sequential\n",
        "from tensorflow.keras.layers import Dense\n",
        "\n",
        "# Define a more complex model with more layers and neurons\n",
        "model_5 = Sequential()\n",
        "model_5.add(Dense(8, input_dim=X_train.shape[1], activation='relu'))\n",
        "model_5.add(Dense(1, activation='sigmoid'))\n",
        "\n",
        "# Compile the model\n",
        "model_5.compile(optimizer='SGD', loss='binary_crossentropy', metrics=['accuracy'])\n",
        "\n",
        "# Train the model for a large number of epochs\n",
        "history = model_5.fit(X_train, y_train, epochs=100, batch_size=32, validation_data=(X_test, y_test), verbose=0)"
      ],
      "metadata": {
        "id": "P0WyeIybf4G-"
      },
      "execution_count": 73,
      "outputs": []
    },
    {
      "cell_type": "code",
      "source": [
        "import tensorflow as tf\n",
        "\n",
        "# assuming X_train is a numpy array\n",
        "X_test_tensor = tf.convert_to_tensor(X_test)\n",
        "result = my_prediction_function(model_5, X_test_tensor.numpy())\n"
      ],
      "metadata": {
        "id": "FNWxg5NWjFuc"
      },
      "execution_count": 74,
      "outputs": []
    },
    {
      "cell_type": "code",
      "source": [],
      "metadata": {
        "id": "RFKrFXl41pNJ"
      },
      "execution_count": 74,
      "outputs": []
    },
    {
      "cell_type": "code",
      "source": [
        "print(\"Test Result\",result*100)"
      ],
      "metadata": {
        "colab": {
          "base_uri": "https://localhost:8080/"
        },
        "id": "MoXEtgHelN4h",
        "outputId": "5df1fc88-8cdb-4f63-9529-b5820562690d"
      },
      "execution_count": 75,
      "outputs": [
        {
          "output_type": "stream",
          "name": "stdout",
          "text": [
            "Test Result 49.48080313461359\n"
          ]
        }
      ]
    },
    {
      "cell_type": "code",
      "source": [
        "for i in range(X_train.shape[1]):\n",
        "  print(i)"
      ],
      "metadata": {
        "colab": {
          "base_uri": "https://localhost:8080/"
        },
        "id": "j0qqqksYpAMT",
        "outputId": "5058b362-295c-4f7b-87be-29bfe13129cb"
      },
      "execution_count": 76,
      "outputs": [
        {
          "output_type": "stream",
          "name": "stdout",
          "text": [
            "0\n",
            "1\n",
            "2\n",
            "3\n",
            "4\n",
            "5\n",
            "6\n",
            "7\n",
            "8\n",
            "9\n",
            "10\n"
          ]
        }
      ]
    },
    {
      "cell_type": "code",
      "source": [
        "print(X_train.iloc[:,0].head(10))\n",
        "X_train.head(10)"
      ],
      "metadata": {
        "colab": {
          "base_uri": "https://localhost:8080/",
          "height": 553
        },
        "id": "rZc8eYcnyqxI",
        "outputId": "be71863b-0aa3-4e42-8346-1d36e2d47c0a"
      },
      "execution_count": 77,
      "outputs": [
        {
          "output_type": "stream",
          "name": "stdout",
          "text": [
            "1006    3\n",
            "1090    3\n",
            "915     1\n",
            "1176    3\n",
            "1234    1\n",
            "553     3\n",
            "664     3\n",
            "114     3\n",
            "420     3\n",
            "696     3\n",
            "Name: Pclass, dtype: int64\n"
          ]
        },
        {
          "output_type": "execute_result",
          "data": {
            "text/plain": [
              "      Pclass       Age  SibSp  Parch      Fare  Gender  Sex_female  Sex_male  \\\n",
              "1006       3 -0.936393      1      0 -0.363662       1           0         1   \n",
              "1090       3 -0.007506      0      0 -0.480436       0           1         0   \n",
              "915        1  1.409057      1      3  4.201449       0           1         0   \n",
              "1176       3  0.470877      0      0 -0.496318       1           0         1   \n",
              "1234       1  2.190873      0      1  8.804002       0           1         0   \n",
              "553        3 -0.623666      0      0 -0.496778       1           0         1   \n",
              "664        3 -0.780030      1      0 -0.483888       1           0         1   \n",
              "114        3 -1.014574      0      0 -0.363587       0           1         0   \n",
              "420        3 -0.007506      0      0 -0.484426       1           0         1   \n",
              "696        3  1.096330      0      0 -0.481587       1           0         1   \n",
              "\n",
              "      Embarked_C  Embarked_Q  Embarked_S  \n",
              "1006           1           0           0  \n",
              "1090           0           0           1  \n",
              "915            1           0           0  \n",
              "1176           0           0           1  \n",
              "1234           1           0           0  \n",
              "553            1           0           0  \n",
              "664            0           0           1  \n",
              "114            1           0           0  \n",
              "420            1           0           0  \n",
              "696            0           0           1  "
            ],
            "text/html": [
              "\n",
              "  <div id=\"df-dd692eff-6f4d-4f6f-9a88-ab08783d321d\">\n",
              "    <div class=\"colab-df-container\">\n",
              "      <div>\n",
              "<style scoped>\n",
              "    .dataframe tbody tr th:only-of-type {\n",
              "        vertical-align: middle;\n",
              "    }\n",
              "\n",
              "    .dataframe tbody tr th {\n",
              "        vertical-align: top;\n",
              "    }\n",
              "\n",
              "    .dataframe thead th {\n",
              "        text-align: right;\n",
              "    }\n",
              "</style>\n",
              "<table border=\"1\" class=\"dataframe\">\n",
              "  <thead>\n",
              "    <tr style=\"text-align: right;\">\n",
              "      <th></th>\n",
              "      <th>Pclass</th>\n",
              "      <th>Age</th>\n",
              "      <th>SibSp</th>\n",
              "      <th>Parch</th>\n",
              "      <th>Fare</th>\n",
              "      <th>Gender</th>\n",
              "      <th>Sex_female</th>\n",
              "      <th>Sex_male</th>\n",
              "      <th>Embarked_C</th>\n",
              "      <th>Embarked_Q</th>\n",
              "      <th>Embarked_S</th>\n",
              "    </tr>\n",
              "  </thead>\n",
              "  <tbody>\n",
              "    <tr>\n",
              "      <th>1006</th>\n",
              "      <td>3</td>\n",
              "      <td>-0.936393</td>\n",
              "      <td>1</td>\n",
              "      <td>0</td>\n",
              "      <td>-0.363662</td>\n",
              "      <td>1</td>\n",
              "      <td>0</td>\n",
              "      <td>1</td>\n",
              "      <td>1</td>\n",
              "      <td>0</td>\n",
              "      <td>0</td>\n",
              "    </tr>\n",
              "    <tr>\n",
              "      <th>1090</th>\n",
              "      <td>3</td>\n",
              "      <td>-0.007506</td>\n",
              "      <td>0</td>\n",
              "      <td>0</td>\n",
              "      <td>-0.480436</td>\n",
              "      <td>0</td>\n",
              "      <td>1</td>\n",
              "      <td>0</td>\n",
              "      <td>0</td>\n",
              "      <td>0</td>\n",
              "      <td>1</td>\n",
              "    </tr>\n",
              "    <tr>\n",
              "      <th>915</th>\n",
              "      <td>1</td>\n",
              "      <td>1.409057</td>\n",
              "      <td>1</td>\n",
              "      <td>3</td>\n",
              "      <td>4.201449</td>\n",
              "      <td>0</td>\n",
              "      <td>1</td>\n",
              "      <td>0</td>\n",
              "      <td>1</td>\n",
              "      <td>0</td>\n",
              "      <td>0</td>\n",
              "    </tr>\n",
              "    <tr>\n",
              "      <th>1176</th>\n",
              "      <td>3</td>\n",
              "      <td>0.470877</td>\n",
              "      <td>0</td>\n",
              "      <td>0</td>\n",
              "      <td>-0.496318</td>\n",
              "      <td>1</td>\n",
              "      <td>0</td>\n",
              "      <td>1</td>\n",
              "      <td>0</td>\n",
              "      <td>0</td>\n",
              "      <td>1</td>\n",
              "    </tr>\n",
              "    <tr>\n",
              "      <th>1234</th>\n",
              "      <td>1</td>\n",
              "      <td>2.190873</td>\n",
              "      <td>0</td>\n",
              "      <td>1</td>\n",
              "      <td>8.804002</td>\n",
              "      <td>0</td>\n",
              "      <td>1</td>\n",
              "      <td>0</td>\n",
              "      <td>1</td>\n",
              "      <td>0</td>\n",
              "      <td>0</td>\n",
              "    </tr>\n",
              "    <tr>\n",
              "      <th>553</th>\n",
              "      <td>3</td>\n",
              "      <td>-0.623666</td>\n",
              "      <td>0</td>\n",
              "      <td>0</td>\n",
              "      <td>-0.496778</td>\n",
              "      <td>1</td>\n",
              "      <td>0</td>\n",
              "      <td>1</td>\n",
              "      <td>1</td>\n",
              "      <td>0</td>\n",
              "      <td>0</td>\n",
              "    </tr>\n",
              "    <tr>\n",
              "      <th>664</th>\n",
              "      <td>3</td>\n",
              "      <td>-0.780030</td>\n",
              "      <td>1</td>\n",
              "      <td>0</td>\n",
              "      <td>-0.483888</td>\n",
              "      <td>1</td>\n",
              "      <td>0</td>\n",
              "      <td>1</td>\n",
              "      <td>0</td>\n",
              "      <td>0</td>\n",
              "      <td>1</td>\n",
              "    </tr>\n",
              "    <tr>\n",
              "      <th>114</th>\n",
              "      <td>3</td>\n",
              "      <td>-1.014574</td>\n",
              "      <td>0</td>\n",
              "      <td>0</td>\n",
              "      <td>-0.363587</td>\n",
              "      <td>0</td>\n",
              "      <td>1</td>\n",
              "      <td>0</td>\n",
              "      <td>1</td>\n",
              "      <td>0</td>\n",
              "      <td>0</td>\n",
              "    </tr>\n",
              "    <tr>\n",
              "      <th>420</th>\n",
              "      <td>3</td>\n",
              "      <td>-0.007506</td>\n",
              "      <td>0</td>\n",
              "      <td>0</td>\n",
              "      <td>-0.484426</td>\n",
              "      <td>1</td>\n",
              "      <td>0</td>\n",
              "      <td>1</td>\n",
              "      <td>1</td>\n",
              "      <td>0</td>\n",
              "      <td>0</td>\n",
              "    </tr>\n",
              "    <tr>\n",
              "      <th>696</th>\n",
              "      <td>3</td>\n",
              "      <td>1.096330</td>\n",
              "      <td>0</td>\n",
              "      <td>0</td>\n",
              "      <td>-0.481587</td>\n",
              "      <td>1</td>\n",
              "      <td>0</td>\n",
              "      <td>1</td>\n",
              "      <td>0</td>\n",
              "      <td>0</td>\n",
              "      <td>1</td>\n",
              "    </tr>\n",
              "  </tbody>\n",
              "</table>\n",
              "</div>\n",
              "      <button class=\"colab-df-convert\" onclick=\"convertToInteractive('df-dd692eff-6f4d-4f6f-9a88-ab08783d321d')\"\n",
              "              title=\"Convert this dataframe to an interactive table.\"\n",
              "              style=\"display:none;\">\n",
              "        \n",
              "  <svg xmlns=\"http://www.w3.org/2000/svg\" height=\"24px\"viewBox=\"0 0 24 24\"\n",
              "       width=\"24px\">\n",
              "    <path d=\"M0 0h24v24H0V0z\" fill=\"none\"/>\n",
              "    <path d=\"M18.56 5.44l.94 2.06.94-2.06 2.06-.94-2.06-.94-.94-2.06-.94 2.06-2.06.94zm-11 1L8.5 8.5l.94-2.06 2.06-.94-2.06-.94L8.5 2.5l-.94 2.06-2.06.94zm10 10l.94 2.06.94-2.06 2.06-.94-2.06-.94-.94-2.06-.94 2.06-2.06.94z\"/><path d=\"M17.41 7.96l-1.37-1.37c-.4-.4-.92-.59-1.43-.59-.52 0-1.04.2-1.43.59L10.3 9.45l-7.72 7.72c-.78.78-.78 2.05 0 2.83L4 21.41c.39.39.9.59 1.41.59.51 0 1.02-.2 1.41-.59l7.78-7.78 2.81-2.81c.8-.78.8-2.07 0-2.86zM5.41 20L4 18.59l7.72-7.72 1.47 1.35L5.41 20z\"/>\n",
              "  </svg>\n",
              "      </button>\n",
              "      \n",
              "  <style>\n",
              "    .colab-df-container {\n",
              "      display:flex;\n",
              "      flex-wrap:wrap;\n",
              "      gap: 12px;\n",
              "    }\n",
              "\n",
              "    .colab-df-convert {\n",
              "      background-color: #E8F0FE;\n",
              "      border: none;\n",
              "      border-radius: 50%;\n",
              "      cursor: pointer;\n",
              "      display: none;\n",
              "      fill: #1967D2;\n",
              "      height: 32px;\n",
              "      padding: 0 0 0 0;\n",
              "      width: 32px;\n",
              "    }\n",
              "\n",
              "    .colab-df-convert:hover {\n",
              "      background-color: #E2EBFA;\n",
              "      box-shadow: 0px 1px 2px rgba(60, 64, 67, 0.3), 0px 1px 3px 1px rgba(60, 64, 67, 0.15);\n",
              "      fill: #174EA6;\n",
              "    }\n",
              "\n",
              "    [theme=dark] .colab-df-convert {\n",
              "      background-color: #3B4455;\n",
              "      fill: #D2E3FC;\n",
              "    }\n",
              "\n",
              "    [theme=dark] .colab-df-convert:hover {\n",
              "      background-color: #434B5C;\n",
              "      box-shadow: 0px 1px 3px 1px rgba(0, 0, 0, 0.15);\n",
              "      filter: drop-shadow(0px 1px 2px rgba(0, 0, 0, 0.3));\n",
              "      fill: #FFFFFF;\n",
              "    }\n",
              "  </style>\n",
              "\n",
              "      <script>\n",
              "        const buttonEl =\n",
              "          document.querySelector('#df-dd692eff-6f4d-4f6f-9a88-ab08783d321d button.colab-df-convert');\n",
              "        buttonEl.style.display =\n",
              "          google.colab.kernel.accessAllowed ? 'block' : 'none';\n",
              "\n",
              "        async function convertToInteractive(key) {\n",
              "          const element = document.querySelector('#df-dd692eff-6f4d-4f6f-9a88-ab08783d321d');\n",
              "          const dataTable =\n",
              "            await google.colab.kernel.invokeFunction('convertToInteractive',\n",
              "                                                     [key], {});\n",
              "          if (!dataTable) return;\n",
              "\n",
              "          const docLinkHtml = 'Like what you see? Visit the ' +\n",
              "            '<a target=\"_blank\" href=https://colab.research.google.com/notebooks/data_table.ipynb>data table notebook</a>'\n",
              "            + ' to learn more about interactive tables.';\n",
              "          element.innerHTML = '';\n",
              "          dataTable['output_type'] = 'display_data';\n",
              "          await google.colab.output.renderOutput(dataTable, element);\n",
              "          const docLink = document.createElement('div');\n",
              "          docLink.innerHTML = docLinkHtml;\n",
              "          element.appendChild(docLink);\n",
              "        }\n",
              "      </script>\n",
              "    </div>\n",
              "  </div>\n",
              "  "
            ]
          },
          "metadata": {},
          "execution_count": 77
        }
      ]
    },
    {
      "cell_type": "code",
      "source": [
        "def features_prediction_function(model, X_test):\n",
        "    numOfFeatures = 11\n",
        "    numOfInstances = len(X_test)\n",
        "    numOfLayers = len(model.layers)\n",
        "    weights = model.layers[numOfLayers-1].get_weights()[0]\n",
        "    bias = model.layers[numOfLayers-1].get_weights()[1]   \n",
        "    feature_wise_results = []\n",
        "    for i in range(numOfFeatures):\n",
        "        # Get the i-th feature from the test set\n",
        "        x = X_test[:, i]\n",
        "        # Reshape the column to have a single feature dimension\n",
        "        x = x.reshape(-1, 1)\n",
        "        # Get the i-th weight\n",
        "        w_i = weights[i] if i < len(weights) else None\n",
        "        # Get the prediction result for the i-th feature\n",
        "        pred = my_prediction_function_for_instance(model, x, w_i, bias)\n",
        "        # Append the result to the list\n",
        "        feature_wise_results.append(pred)\n",
        "    return feature_wise_results\n",
        "\n",
        "def my_prediction_function_for_instance(model, x, w, bias):\n",
        "    if w is not None:\n",
        "        z = np.dot(x, w) + bias\n",
        "    else:\n",
        "        z = bias\n",
        "    result = 1 / (1 + np.exp(-z))\n",
        "    return np.mean(result)\n",
        "\n",
        "\n"
      ],
      "metadata": {
        "id": "tKn08RvOjnZB"
      },
      "execution_count": 78,
      "outputs": []
    },
    {
      "cell_type": "code",
      "source": [
        "import tensorflow as tf\n",
        "import pandas as pd\n",
        "\n",
        "# assuming X_train is a numpy array\n",
        "X_test_tensor = tf.convert_to_tensor(X_test)\n",
        "result = features_prediction_function(model_5, X_test_tensor.numpy())\n",
        "per_results=result*100\n",
        "# Get the column names from the original test data\n",
        "col_names = list(X_test.columns)\n",
        "\n",
        "# Create a pandas DataFrame to display the results\n",
        "df = pd.DataFrame({'Feature': col_names, 'Prediction_Feature Importance': result})\n",
        "\n",
        "# Display the results\n",
        "print(df)\n"
      ],
      "metadata": {
        "colab": {
          "base_uri": "https://localhost:8080/"
        },
        "id": "yaWT2cxU2Vo8",
        "outputId": "0e7bb4e6-e50f-49ae-a6ac-e765313e7350"
      },
      "execution_count": 84,
      "outputs": [
        {
          "output_type": "stream",
          "name": "stdout",
          "text": [
            "       Feature  Prediction\n",
            "0       Pclass    0.250650\n",
            "1          Age    0.600472\n",
            "2        SibSp    0.640545\n",
            "3        Parch    0.537315\n",
            "4         Fare    0.628655\n",
            "5       Gender    0.653323\n",
            "6   Sex_female    0.687481\n",
            "7     Sex_male    0.687465\n",
            "8   Embarked_C    0.603027\n",
            "9   Embarked_Q    0.603027\n",
            "10  Embarked_S    0.603027\n"
          ]
        }
      ]
    },
    {
      "cell_type": "markdown",
      "source": [],
      "metadata": {
        "id": "m5i-OuKcYLxL"
      }
    }
  ]
}